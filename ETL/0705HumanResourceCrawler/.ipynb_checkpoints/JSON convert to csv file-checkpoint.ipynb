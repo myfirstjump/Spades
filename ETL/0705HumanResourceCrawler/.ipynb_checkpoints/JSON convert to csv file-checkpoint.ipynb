{
 "cells": [
  {
   "cell_type": "code",
   "execution_count": 1,
   "metadata": {
    "collapsed": true
   },
   "outputs": [],
   "source": [
    "# json convert to csv\n",
    "import csv\n",
    "import json"
   ]
  },
  {
   "cell_type": "code",
   "execution_count": 2,
   "metadata": {},
   "outputs": [
    {
     "data": {
      "text/plain": [
       "'C:\\\\Users\\\\Java\\\\Spades\\\\ETL\\\\0705HumanResourceCrawler'"
      ]
     },
     "execution_count": 2,
     "metadata": {},
     "output_type": "execute_result"
    }
   ],
   "source": [
    "pwd"
   ]
  },
  {
   "cell_type": "code",
   "execution_count": 13,
   "metadata": {},
   "outputs": [
    {
     "ename": "JSONDecodeError",
     "evalue": "Extra data: line 1 column 4 (char 3)",
     "output_type": "error",
     "traceback": [
      "\u001b[1;31m---------------------------------------------------------------------------\u001b[0m",
      "\u001b[1;31mJSONDecodeError\u001b[0m                           Traceback (most recent call last)",
      "\u001b[1;32m<ipython-input-13-03c13c6785df>\u001b[0m in \u001b[0;36m<module>\u001b[1;34m()\u001b[0m\n\u001b[1;32m----> 1\u001b[1;33m \u001b[0mjson\u001b[0m\u001b[1;33m.\u001b[0m\u001b[0mloads\u001b[0m\u001b[1;33m(\u001b[0m\u001b[1;34m\"518Count.json\"\u001b[0m\u001b[1;33m)\u001b[0m\u001b[1;33m\u001b[0m\u001b[0m\n\u001b[0m",
      "\u001b[1;32m~\\Anaconda3\\lib\\json\\__init__.py\u001b[0m in \u001b[0;36mloads\u001b[1;34m(s, encoding, cls, object_hook, parse_float, parse_int, parse_constant, object_pairs_hook, **kw)\u001b[0m\n\u001b[0;32m    352\u001b[0m             \u001b[0mparse_int\u001b[0m \u001b[1;32mis\u001b[0m \u001b[1;32mNone\u001b[0m \u001b[1;32mand\u001b[0m \u001b[0mparse_float\u001b[0m \u001b[1;32mis\u001b[0m \u001b[1;32mNone\u001b[0m \u001b[1;32mand\u001b[0m\u001b[1;33m\u001b[0m\u001b[0m\n\u001b[0;32m    353\u001b[0m             parse_constant is None and object_pairs_hook is None and not kw):\n\u001b[1;32m--> 354\u001b[1;33m         \u001b[1;32mreturn\u001b[0m \u001b[0m_default_decoder\u001b[0m\u001b[1;33m.\u001b[0m\u001b[0mdecode\u001b[0m\u001b[1;33m(\u001b[0m\u001b[0ms\u001b[0m\u001b[1;33m)\u001b[0m\u001b[1;33m\u001b[0m\u001b[0m\n\u001b[0m\u001b[0;32m    355\u001b[0m     \u001b[1;32mif\u001b[0m \u001b[0mcls\u001b[0m \u001b[1;32mis\u001b[0m \u001b[1;32mNone\u001b[0m\u001b[1;33m:\u001b[0m\u001b[1;33m\u001b[0m\u001b[0m\n\u001b[0;32m    356\u001b[0m         \u001b[0mcls\u001b[0m \u001b[1;33m=\u001b[0m \u001b[0mJSONDecoder\u001b[0m\u001b[1;33m\u001b[0m\u001b[0m\n",
      "\u001b[1;32m~\\Anaconda3\\lib\\json\\decoder.py\u001b[0m in \u001b[0;36mdecode\u001b[1;34m(self, s, _w)\u001b[0m\n\u001b[0;32m    340\u001b[0m         \u001b[0mend\u001b[0m \u001b[1;33m=\u001b[0m \u001b[0m_w\u001b[0m\u001b[1;33m(\u001b[0m\u001b[0ms\u001b[0m\u001b[1;33m,\u001b[0m \u001b[0mend\u001b[0m\u001b[1;33m)\u001b[0m\u001b[1;33m.\u001b[0m\u001b[0mend\u001b[0m\u001b[1;33m(\u001b[0m\u001b[1;33m)\u001b[0m\u001b[1;33m\u001b[0m\u001b[0m\n\u001b[0;32m    341\u001b[0m         \u001b[1;32mif\u001b[0m \u001b[0mend\u001b[0m \u001b[1;33m!=\u001b[0m \u001b[0mlen\u001b[0m\u001b[1;33m(\u001b[0m\u001b[0ms\u001b[0m\u001b[1;33m)\u001b[0m\u001b[1;33m:\u001b[0m\u001b[1;33m\u001b[0m\u001b[0m\n\u001b[1;32m--> 342\u001b[1;33m             \u001b[1;32mraise\u001b[0m \u001b[0mJSONDecodeError\u001b[0m\u001b[1;33m(\u001b[0m\u001b[1;34m\"Extra data\"\u001b[0m\u001b[1;33m,\u001b[0m \u001b[0ms\u001b[0m\u001b[1;33m,\u001b[0m \u001b[0mend\u001b[0m\u001b[1;33m)\u001b[0m\u001b[1;33m\u001b[0m\u001b[0m\n\u001b[0m\u001b[0;32m    343\u001b[0m         \u001b[1;32mreturn\u001b[0m \u001b[0mobj\u001b[0m\u001b[1;33m\u001b[0m\u001b[0m\n\u001b[0;32m    344\u001b[0m \u001b[1;33m\u001b[0m\u001b[0m\n",
      "\u001b[1;31mJSONDecodeError\u001b[0m: Extra data: line 1 column 4 (char 3)"
     ]
    }
   ],
   "source": [
    "json.loads(\"518Count.json\")"
   ]
  },
  {
   "cell_type": "code",
   "execution_count": 30,
   "metadata": {},
   "outputs": [
    {
     "data": {
      "text/plain": [
       "dict_keys(['AJAX', 'PHP', 'MySQL', 'JavaScript', 'jQuery', '不拘', 'Linux', 'CSS', 'Dreamweaver', 'HTML', 'Java', 'Java Script', 'XML', 'C#.NET', 'ASP.NET', 'MS SQL', 'HTTP', 'CVS', 'Ghost', 'FreeBSD', 'Flash', 'Android', 'C++', 'ODBC', 'Windows Server 2012', 'Visual C++', 'C/C++', 'WIN CE', 'ActionScript', 'C', 'C#', 'C++.NET', 'Objective-C', 'XML Web services', 'IIS', 'TCP/IP', 'Adobe Photoshop', 'Access', 'UNIX', 'ASP', 'DHTML', 'XHTML', 'Illustrator', 'Word', 'PowerPoint', 'Excel', 'Windows 2000', 'Windows NT', 'Windows 2003', 'Windows 7', 'Windows 98', 'Windows XP', 'Windows Vista', 'Clipper', 'Visual Basic', 'VB Script', 'JSP', 'Delphi', 'FrontPage', 'Fireworks', 'Dbase', 'FoxPro', 'Toad', 'Oracle', 'Project', 'Visio', 'Internet Explorer', 'Corel Draw', 'PhotoImpact', 'PC', 'PC週邊', '網路設計', 'Director', 'Authorware', 'J2EE', 'J2SE', 'JDBC', 'Perl', 'Unity 3D', 'PL/SQL', 'Visual Studio .net', 'Mac OS', 'Ruby On Rails', 'Ruby/Qt', 'Spring', 'Windows Server 2008', 'DNS', 'Oracle ERP', 'Swift', 'JSF', 'Visual Basic .net', 'Mac/Macintosh', 'Tomcat', 'RDBMS', 'Adobe Acrobat', 'Python', 'iOS', 'PostgreSQL', 'Outlook', 'UML', '正航', '鼎新SmartERP', '鼎新TIPTOP ERP', 'SAP ERP Financials', 'SAP ERP Operations', 'MRP', '鼎新', 'SolidWorks', 'AutoCAD', '3D Max', 'Pro/E', 'Microsoft Exchange', 'Microsoft SharePoint', 'Vmware', 'AutoCad 2D', 'AutoCad 3D', 'ADSL', 'WLAN', 'PHS', 'ISO9000', 'ISO14000', 'SPC', 'DOS', 'Novell', 'Windows 8', '3ds Max Design', 'VBA', 'Visual C#', 'WinForm', 'Visual Studio', '類比晶片', '電子電路', '通訊系統', '類比', '中文打字50~75', 'DHCP', 'Cisco', 'Firewall', 'OS X', 'Solaris', 'AS/400', 'DB2', 'Informix', 'SyBase', 'CGI', 'Lotus Notes', 'OOP', 'Version Control', 'Web Master/Developer', '', 'SAP ERP Corporate Services', 'Premiere', '英文打字50~75', 'PowerBuilder', 'POS銷售點管理系統', 'WML', 'BCB', '英文打字20~50', '中文打字20~50', 'MapInfo', 'Windows Mobile', 'FTP', 'MQSeries', 'Flex', 'SketchUp', 'Painter', 'MAYA', 'UG', 'After Effects', 'Struts', 'MFC', 'Ruby', 'Rhino', 'Apple', 'Shell Script', '英文打字75~100', '中文打字75~100', '英文打字100~125', '英文打字125~150', '中文打字100~125', '中文打字125~150'])"
      ]
     },
     "execution_count": 30,
     "metadata": {},
     "output_type": "execute_result"
    }
   ],
   "source": [
    "# should add encoding utf8\n",
    "json1_file = open('518Count.json', encoding=\"utf8\")\n",
    "json1_str = json1_file.read()\n",
    "json1_data = json.loads(json1_str)\n",
    "json1_data.keys()"
   ]
  },
  {
   "cell_type": "code",
   "execution_count": 33,
   "metadata": {},
   "outputs": [
    {
     "data": {
      "text/plain": [
       "dict_keys"
      ]
     },
     "execution_count": 33,
     "metadata": {},
     "output_type": "execute_result"
    }
   ],
   "source": [
    "toolsName = []\n",
    "toolsName = json1_data.keys()\n",
    "type(toolsName)"
   ]
  },
  {
   "cell_type": "code",
   "execution_count": 52,
   "metadata": {},
   "outputs": [],
   "source": [
    "toolsCount = []\n",
    "for i in json1_data.values():\n",
    "    toolsCount.append(i)"
   ]
  },
  {
   "cell_type": "code",
   "execution_count": 53,
   "metadata": {},
   "outputs": [
    {
     "name": "stdout",
     "output_type": "stream",
     "text": [
      "Writing data to ./518_hr.csv\n"
     ]
    },
    {
     "ename": "Error",
     "evalue": "iterable expected, not int",
     "output_type": "error",
     "traceback": [
      "\u001b[1;31m---------------------------------------------------------------------------\u001b[0m",
      "\u001b[1;31mError\u001b[0m                                     Traceback (most recent call last)",
      "\u001b[1;32m<ipython-input-53-d6ab1a9d4cad>\u001b[0m in \u001b[0;36m<module>\u001b[1;34m()\u001b[0m\n\u001b[0;32m      4\u001b[0m     \u001b[0mCSV_FILE\u001b[0m \u001b[1;33m=\u001b[0m \u001b[0mcsv\u001b[0m\u001b[1;33m.\u001b[0m\u001b[0mwriter\u001b[0m\u001b[1;33m(\u001b[0m\u001b[0mout\u001b[0m\u001b[1;33m,\u001b[0m \u001b[0mdelimiter\u001b[0m\u001b[1;33m=\u001b[0m\u001b[1;34m','\u001b[0m\u001b[1;33m)\u001b[0m\u001b[1;33m\u001b[0m\u001b[0m\n\u001b[0;32m      5\u001b[0m     \u001b[0mCSV_FILE\u001b[0m\u001b[1;33m.\u001b[0m\u001b[0mwriterow\u001b[0m\u001b[1;33m(\u001b[0m\u001b[0mtoolsName\u001b[0m\u001b[1;33m)\u001b[0m\u001b[1;33m\u001b[0m\u001b[0m\n\u001b[1;32m----> 6\u001b[1;33m     \u001b[0mCSV_FILE\u001b[0m\u001b[1;33m.\u001b[0m\u001b[0mwriterows\u001b[0m\u001b[1;33m(\u001b[0m\u001b[0mtoolsCount\u001b[0m\u001b[1;33m)\u001b[0m\u001b[1;33m\u001b[0m\u001b[0m\n\u001b[0m",
      "\u001b[1;31mError\u001b[0m: iterable expected, not int"
     ]
    }
   ],
   "source": [
    "# write out to csv example\n",
    "with open('./518_hr.csv', 'w', newline='') as out:\n",
    "    print('Writing data to ' + out.name)\n",
    "    CSV_FILE = csv.writer(out, delimiter=',')\n",
    "    CSV_FILE.writerow(toolsName)\n",
    "    CSV_FILE.writerows(toolsCount)\n"
   ]
  },
  {
   "cell_type": "code",
   "execution_count": null,
   "metadata": {
    "collapsed": true
   },
   "outputs": [],
   "source": []
  }
 ],
 "metadata": {
  "kernelspec": {
   "display_name": "Python 3",
   "language": "python",
   "name": "python3"
  },
  "language_info": {
   "codemirror_mode": {
    "name": "ipython",
    "version": 3
   },
   "file_extension": ".py",
   "mimetype": "text/x-python",
   "name": "python",
   "nbconvert_exporter": "python",
   "pygments_lexer": "ipython3",
   "version": "3.6.1"
  }
 },
 "nbformat": 4,
 "nbformat_minor": 2
}
