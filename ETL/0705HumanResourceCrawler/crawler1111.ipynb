{
 "cells": [
  {
   "cell_type": "code",
   "execution_count": 1,
   "metadata": {},
   "outputs": [
    {
     "name": "stdout",
     "output_type": "stream",
     "text": [
      "Counter()\n",
      "usetime = 2.4 min\n"
     ]
    }
   ],
   "source": [
    "import requests\n",
    "from bs4 import BeautifulSoup\n",
    "from collections import Counter\n",
    "import re\n",
    "import threading\n",
    "import time\n",
    "\n",
    "counter = Counter()\n",
    "\n",
    "https = 'https:'\n",
    "url = \"https://www.1111.com.tw/job-bank/job-index.asp?si=1&ks=程式&fs=0&page=\"\n",
    "\n",
    "lans = ['R','C','C++','C#', 'JAVA', 'JAVASCRIPT', 'PHP', 'PYTHON', 'RUBY', 'GO', 'VISUAL BASIC .NET', 'DELPHI/OBJECT PASCAL',\n",
    "        'PERL', 'SWIFT', 'ASSEMBLY LANGUAGE', 'VISUAL BASIC', 'MATLAB', 'PL/SQL', 'OBJECTIVE-C', 'SCRATCH']\n",
    "\n",
    "url1 = url + '1'\n",
    "r1 = requests.get(url1)\n",
    "soup = BeautifulSoup(r1.text, 'lxml')\n",
    "pstring = soup.select_one('.pagedata')\n",
    "match = re.match('.*/\\s(\\d+)\\s.*', pstring.text)\n",
    "total = int(match.group(1))\n",
    "\n",
    "#get job's links on every page\n",
    "def getLinks(n):\n",
    "    numUrl = url+str(n)\n",
    "    r = requests.get(numUrl)\n",
    "    soup = BeautifulSoup(r.text, 'lxml')\n",
    "    joblinks = soup.select('.jbInfoin > h3 > a')\n",
    "    links = []\n",
    "    for joblink in joblinks:\n",
    "        link = https+joblink['href']\n",
    "        links.append(link)\n",
    "    return links\n",
    "\n",
    "def getContent(jobUrl):\n",
    "    list = []\n",
    "    r = requests.get(jobUrl)\n",
    "    soup = BeautifulSoup(r.text, 'lxml')\n",
    "\n",
    "    #find need numbers\n",
    "    mans = 1\n",
    "    tcontent = soup.select('dl.dataList > dd')\n",
    "    for tag in tcontent:\n",
    "        match = re.match(r'(\\d+)~?(\\d+)?人', tag.text)\n",
    "        if match:\n",
    "            n1 = match.group(1)\n",
    "            n2 = match.group(2)\n",
    "            if n2 == None:\n",
    "                mans = int(n1)\n",
    "            else:\n",
    "                mans = (int(n1) + int(n2)) // 2\n",
    "    list.append(mans)\n",
    "    #find need numbers end\n",
    "\n",
    "    #get every string on job's page\n",
    "    content = soup.select('dl.dataList > dd')\n",
    "    for tag in content:\n",
    "        finds = re.findall(r'[a-z|A-Z]+#?\\+?\\+?', tag.text)\n",
    "        if finds:\n",
    "            for find in finds:\n",
    "                if find in lans and find not in list:\n",
    "                    find = find.upper()\n",
    "                    list.append(find)\n",
    "    return list\n",
    "\n",
    "#set thread for every search page\n",
    "class mythread(threading.Thread):\n",
    "    def __init__(self, links, lock):\n",
    "        threading.Thread.__init__(self)\n",
    "        self.links = links\n",
    "        self.lock = lock\n",
    "    def run(self):\n",
    "        global counter\n",
    "        for link in self.links:\n",
    "            list = getContent(link)\n",
    "            self.lock.acquire()\n",
    "            for l in range(1, len(list)):\n",
    "                if list[l] in counter:\n",
    "                    #list[0] is need numbers\n",
    "                    counter[list[l]] += list[0]\n",
    "                else:\n",
    "                    counter[list[l]] = list[0]\n",
    "            self.lock.release()\n",
    "\n",
    "#counting in main method\n",
    "def main():\n",
    "    stime = time.time()\n",
    "    global total\n",
    "    threads = []\n",
    "    lock = threading.Lock()\n",
    "    for page in range(1,total+1):\n",
    "        links = getLinks(page)\n",
    "        thread = mythread(links, lock)\n",
    "        threads.append(thread)\n",
    "    for t in threads:\n",
    "        t.start()\n",
    "    for t in threads:\n",
    "        t.join()\n",
    "    print(counter)\n",
    "    etime = time.time()\n",
    "    print(\"usetime = %.1f min\" % ((etime - stime)/60))\n",
    "\n",
    "#start\n",
    "main()"
   ]
  },
  {
   "cell_type": "code",
   "execution_count": 3,
   "metadata": {},
   "outputs": [
    {
     "name": "stdout",
     "output_type": "stream",
     "text": [
      "Counter()\n",
      "usetime = 2.4 min\n"
     ]
    }
   ],
   "source": [
    "main()"
   ]
  }
 ],
 "metadata": {
  "kernelspec": {
   "display_name": "Python 3",
   "language": "python",
   "name": "python3"
  },
  "language_info": {
   "codemirror_mode": {
    "name": "ipython",
    "version": 3
   },
   "file_extension": ".py",
   "mimetype": "text/x-python",
   "name": "python",
   "nbconvert_exporter": "python",
   "pygments_lexer": "ipython3",
   "version": "3.6.1"
  }
 },
 "nbformat": 4,
 "nbformat_minor": 2
}
