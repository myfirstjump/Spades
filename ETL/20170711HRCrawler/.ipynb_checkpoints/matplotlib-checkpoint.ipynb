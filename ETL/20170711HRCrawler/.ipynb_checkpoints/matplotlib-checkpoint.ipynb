{
 "cells": [
  {
   "cell_type": "markdown",
   "metadata": {},
   "source": [
    "# matplotlib"
   ]
  },
  {
   "cell_type": "code",
   "execution_count": 1,
   "metadata": {},
   "outputs": [
    {
     "name": "stdout",
     "output_type": "stream",
     "text": [
      "Requirement already satisfied: numpy in c:\\users\\java\\anaconda3\\lib\\site-packages\n"
     ]
    }
   ],
   "source": [
    "!pip install numpy"
   ]
  },
  {
   "cell_type": "code",
   "execution_count": 2,
   "metadata": {},
   "outputs": [
    {
     "name": "stdout",
     "output_type": "stream",
     "text": [
      "Requirement already satisfied: matplotlib in c:\\users\\java\\anaconda3\\lib\\site-packages\n",
      "Requirement already satisfied: numpy>=1.7.1 in c:\\users\\java\\anaconda3\\lib\\site-packages (from matplotlib)\n",
      "Requirement already satisfied: six>=1.10 in c:\\users\\java\\anaconda3\\lib\\site-packages (from matplotlib)\n",
      "Requirement already satisfied: python-dateutil in c:\\users\\java\\anaconda3\\lib\\site-packages (from matplotlib)\n",
      "Requirement already satisfied: pytz in c:\\users\\java\\anaconda3\\lib\\site-packages (from matplotlib)\n",
      "Requirement already satisfied: cycler>=0.10 in c:\\users\\java\\anaconda3\\lib\\site-packages (from matplotlib)\n",
      "Requirement already satisfied: pyparsing!=2.0.4,!=2.1.2,!=2.1.6,>=1.5.6 in c:\\users\\java\\anaconda3\\lib\\site-packages (from matplotlib)\n"
     ]
    }
   ],
   "source": [
    "!pip install matplotlib"
   ]
  },
  {
   "cell_type": "code",
   "execution_count": 92,
   "metadata": {
    "collapsed": true
   },
   "outputs": [],
   "source": [
    "import numpy as np\n",
    "import matplotlib.pyplot as plt\n",
    "import collections"
   ]
  },
  {
   "cell_type": "code",
   "execution_count": 2,
   "metadata": {
    "collapsed": true
   },
   "outputs": [],
   "source": [
    "N = 5\n",
    "men_means = (20, 35, 30, 35, 27)\n",
    "men_std = (2, 3, 4, 1, 2)"
   ]
  },
  {
   "cell_type": "code",
   "execution_count": 4,
   "metadata": {
    "collapsed": true
   },
   "outputs": [],
   "source": [
    "ind = np.arange(N)  # the x locations for the groups\n",
    "width = 0.35       # the width of the bars"
   ]
  },
  {
   "cell_type": "code",
   "execution_count": 5,
   "metadata": {},
   "outputs": [
    {
     "data": {
      "text/plain": [
       "array([0, 1, 2, 3, 4])"
      ]
     },
     "execution_count": 5,
     "metadata": {},
     "output_type": "execute_result"
    }
   ],
   "source": [
    "np.arange()"
   ]
  },
  {
   "cell_type": "code",
   "execution_count": 7,
   "metadata": {
    "collapsed": true
   },
   "outputs": [],
   "source": [
    "fig, ax = plt.subplots()   # fig是canvas  ax是..."
   ]
  },
  {
   "cell_type": "code",
   "execution_count": 9,
   "metadata": {},
   "outputs": [
    {
     "data": {
      "text/plain": [
       "<matplotlib.axes._subplots.AxesSubplot at 0x7f037cb63518>"
      ]
     },
     "execution_count": 9,
     "metadata": {},
     "output_type": "execute_result"
    }
   ],
   "source": [
    "ax"
   ]
  },
  {
   "cell_type": "code",
   "execution_count": 11,
   "metadata": {
    "collapsed": true
   },
   "outputs": [],
   "source": [
    "rects1 = ax.bar(ind, men_means, width, color='r', yerr=men_std)"
   ]
  },
  {
   "cell_type": "code",
   "execution_count": 12,
   "metadata": {},
   "outputs": [
    {
     "data": {
      "text/plain": [
       "<Container object of 5 artists>"
      ]
     },
     "execution_count": 12,
     "metadata": {},
     "output_type": "execute_result"
    }
   ],
   "source": [
    "rects1"
   ]
  },
  {
   "cell_type": "code",
   "execution_count": 13,
   "metadata": {
    "collapsed": true
   },
   "outputs": [],
   "source": [
    "women_means = (25, 32, 34, 20, 25)\n",
    "women_std = (3, 5, 2, 3, 3)\n",
    "rects2 = ax.bar(ind + width, women_means, width, color='y', yerr=women_std)"
   ]
  },
  {
   "cell_type": "code",
   "execution_count": 14,
   "metadata": {},
   "outputs": [
    {
     "data": {
      "text/plain": [
       "[<matplotlib.text.Text at 0x7f037cb155f8>,\n",
       " <matplotlib.text.Text at 0x7f037cb1d128>,\n",
       " <matplotlib.text.Text at 0x7f037cac6198>,\n",
       " <matplotlib.text.Text at 0x7f037cac69b0>,\n",
       " <matplotlib.text.Text at 0x7f037caca208>]"
      ]
     },
     "execution_count": 14,
     "metadata": {},
     "output_type": "execute_result"
    }
   ],
   "source": [
    "# add some text for labels, title and axes ticks\n",
    "ax.set_ylabel('Scores')\n",
    "ax.set_title('Scores by group and gender')\n",
    "ax.set_xticks(ind + width / 2)\n",
    "ax.set_xticklabels(('G1', 'G2', 'G3', 'G4', 'G5'))"
   ]
  },
  {
   "cell_type": "code",
   "execution_count": 15,
   "metadata": {},
   "outputs": [
    {
     "data": {
      "text/plain": [
       "<matplotlib.legend.Legend at 0x7f037cab8828>"
      ]
     },
     "execution_count": 15,
     "metadata": {},
     "output_type": "execute_result"
    }
   ],
   "source": [
    "ax.legend((rects1[0], rects2[0]), ('Men', 'Women'))"
   ]
  },
  {
   "cell_type": "code",
   "execution_count": 16,
   "metadata": {},
   "outputs": [
    {
     "data": {
      "image/png": "[encoded data removed]",
      "text/plain": [
       "<matplotlib.figure.Figure at 0x7f037ec08780>"
      ]
     },
     "metadata": {},
     "output_type": "display_data"
    },
    {
     "data": {
      "image/png": "[encoded data removed]",
      "text/plain": [
       "<matplotlib.figure.Figure at 0x7f037cb56cc0>"
      ]
     },
     "metadata": {},
     "output_type": "display_data"
    }
   ],
   "source": [
    "def autolabel(rects):\n",
    "    \"\"\"\n",
    "    Attach a text label above each bar displaying its height\n",
    "    \"\"\"\n",
    "    for rect in rects:\n",
    "        height = rect.get_height()\n",
    "        ax.text(rect.get_x() + rect.get_width()/2., 1.05*height,\n",
    "                '%d' % int(height),\n",
    "                ha='center', va='bottom')\n",
    "\n",
    "autolabel(rects1)\n",
    "autolabel(rects2)\n",
    "\n",
    "plt.show()"
   ]
  },
  {
   "cell_type": "markdown",
   "metadata": {},
   "source": [
    "# Human Resource Crawler Plot"
   ]
  },
  {
   "cell_type": "code",
   "execution_count": 4,
   "metadata": {
    "collapsed": true
   },
   "outputs": [],
   "source": [
    "import json   # need read the usage of json.loads"
   ]
  },
  {
   "cell_type": "code",
   "execution_count": 5,
   "metadata": {},
   "outputs": [
    {
     "name": "stderr",
     "output_type": "stream",
     "text": [
      "'pwd' 不是內部或外部命令、可執行的程式或批次檔。\n"
     ]
    }
   ],
   "source": [
    "!pwd"
   ]
  },
  {
   "cell_type": "code",
   "execution_count": 10,
   "metadata": {},
   "outputs": [
    {
     "data": {
      "text/plain": [
       "<_io.TextIOWrapper name='Count.json' mode='r' encoding='utf8'>"
      ]
     },
     "execution_count": 10,
     "metadata": {},
     "output_type": "execute_result"
    }
   ],
   "source": [
    "# f1 = open(\"/home/ubuntu/Workspace/HRCrawler/Count.json\", 'r')\n",
    "f1 = open(\"Count.json\",encoding = 'utf8', mode = 'r')\n",
    "f1"
   ]
  },
  {
   "cell_type": "code",
   "execution_count": 11,
   "metadata": {
    "collapsed": true
   },
   "outputs": [],
   "source": [
    "data1 = f1.readlines()"
   ]
  },
  {
   "cell_type": "code",
   "execution_count": 12,
   "metadata": {
    "scrolled": true
   },
   "outputs": [
    {
     "data": {
      "text/plain": [
       "list"
      ]
     },
     "execution_count": 12,
     "metadata": {},
     "output_type": "execute_result"
    }
   ],
   "source": [
    "type(data1)"
   ]
  },
  {
   "cell_type": "code",
   "execution_count": 81,
   "metadata": {
    "scrolled": true
   },
   "outputs": [
    {
     "data": {
      "text/plain": [
       "1"
      ]
     },
     "execution_count": 81,
     "metadata": {},
     "output_type": "execute_result"
    }
   ],
   "source": [
    "len(data1)"
   ]
  },
  {
   "cell_type": "code",
   "execution_count": 83,
   "metadata": {
    "collapsed": true
   },
   "outputs": [],
   "source": [
    "dataStr = data1[0]"
   ]
  },
  {
   "cell_type": "code",
   "execution_count": 125,
   "metadata": {
    "collapsed": true
   },
   "outputs": [],
   "source": [
    "dataDict = {}\n",
    "for ele in dataStr.replace('{', '').replace('}', '').split(','):\n",
    "    tn = ele.split(\":\")[0].strip().replace(\"\\\"\", \"\") #tool name\n",
    "    ta = ele.split(\":\")[1].strip() #tool amount\n",
    "    dataDict[tn] = ta"
   ]
  },
  {
   "cell_type": "code",
   "execution_count": 5,
   "metadata": {
    "collapsed": true
   },
   "outputs": [],
   "source": [
    "# function 從json轉dictionary\n",
    "def json2dict(file):\n",
    "    f = open(file, mode = 'r', encoding = 'utf8')\n",
    "    data = f.readlines()\n",
    "    dataStr = data[0] \n",
    "    dataDict = {}\n",
    "    for ele in dataStr.replace('{', '').replace('}', '').split(','):\n",
    "        tn = ele.split(\":\")[0].strip().replace(\"\\\"\", \"\") #tool name\n",
    "        ta = (int)(ele.split(\":\")[1].strip()) #tool amount\n",
    "        dataDict[tn] = ta\n",
    "    return dataDict"
   ]
  },
  {
   "cell_type": "code",
   "execution_count": 104,
   "metadata": {
    "collapsed": true
   },
   "outputs": [],
   "source": [
    "dict1 = json2dict(\"Count.json\")"
   ]
  },
  {
   "cell_type": "code",
   "execution_count": 105,
   "metadata": {
    "collapsed": true
   },
   "outputs": [],
   "source": [
    "dict2 = json2dict(\"crawler_1.json\")"
   ]
  },
  {
   "cell_type": "code",
   "execution_count": null,
   "metadata": {
    "collapsed": true
   },
   "outputs": [],
   "source": [
    "# sorted(student_objects, key=lambda student: student.age)\n",
    "\n"
   ]
  },
  {
   "cell_type": "code",
   "execution_count": 103,
   "metadata": {
    "scrolled": false
   },
   "outputs": [
    {
     "data": {
      "text/plain": [
       "[('', 3),\n",
       " ('3D Max', 6),\n",
       " ('3ds Max Design', 3),\n",
       " ('ADSL', 3),\n",
       " ('AJAX', 174),\n",
       " ('AS/400', 3),\n",
       " ('ASP', 87),\n",
       " ('ASP.NET', 165),\n",
       " ('Access', 51),\n",
       " ('ActionScript', 45),\n",
       " ('Adobe Acrobat', 18),\n",
       " ('Adobe Photoshop', 48),\n",
       " ('After Effects', 3),\n",
       " ('Android', 39),\n",
       " ('Apple', 3),\n",
       " ('Authorware', 3),\n",
       " ('AutoCAD', 9),\n",
       " ('AutoCad 2D', 3),\n",
       " ('AutoCad 3D', 3),\n",
       " ('BCB', 3),\n",
       " ('C', 12),\n",
       " ('C#', 48),\n",
       " ('C#.NET', 117),\n",
       " ('C++', 27),\n",
       " ('C++.NET', 15),\n",
       " ('C/C++', 84),\n",
       " ('CGI', 12),\n",
       " ('CSS', 258),\n",
       " ('CVS', 3),\n",
       " ('Cisco', 3),\n",
       " ('Clipper', 3),\n",
       " ('Corel Draw', 9),\n",
       " ('DB2', 3),\n",
       " ('DHCP', 6),\n",
       " ('DHTML', 90),\n",
       " ('DNS', 6),\n",
       " ('DOS', 21),\n",
       " ('Dbase', 18),\n",
       " ('Delphi', 6),\n",
       " ('Director', 3),\n",
       " ('Dreamweaver', 120),\n",
       " ('Excel', 78),\n",
       " ('FTP', 3),\n",
       " ('Firewall', 3),\n",
       " ('Fireworks', 21),\n",
       " ('Flash', 75),\n",
       " ('Flex', 3),\n",
       " ('FoxPro', 6),\n",
       " ('FreeBSD', 9),\n",
       " ('FrontPage', 33),\n",
       " ('Ghost', 6),\n",
       " ('HTML', 354),\n",
       " ('HTTP', 24),\n",
       " ('IIS', 12),\n",
       " ('ISO14000', 3),\n",
       " ('ISO9000', 3),\n",
       " ('Illustrator', 36),\n",
       " ('Informix', 3),\n",
       " ('Internet Explorer', 6),\n",
       " ('J2EE', 3),\n",
       " ('J2SE', 6),\n",
       " ('JDBC', 3),\n",
       " ('JSF', 3),\n",
       " ('JSP', 60),\n",
       " ('Java', 195),\n",
       " ('Java Script', 243),\n",
       " ('JavaScript', 108),\n",
       " ('Linux', 165),\n",
       " ('Lotus Notes', 3),\n",
       " ('MAYA', 3),\n",
       " ('MFC', 3),\n",
       " ('MQSeries', 3),\n",
       " ('MRP', 3),\n",
       " ('MS SQL', 237),\n",
       " ('Mac OS', 27),\n",
       " ('Mac/Macintosh', 9),\n",
       " ('MapInfo', 6),\n",
       " ('Microsoft Exchange', 3),\n",
       " ('Microsoft SharePoint', 3),\n",
       " ('MySQL', 339),\n",
       " ('Novell', 3),\n",
       " ('ODBC', 3),\n",
       " ('OOP', 3),\n",
       " ('OS X', 6),\n",
       " ('Objective-C', 45),\n",
       " ('Oracle', 45),\n",
       " ('Oracle ERP', 6),\n",
       " ('Outlook', 45),\n",
       " ('PC', 18),\n",
       " ('PC週邊', 9),\n",
       " ('PHP', 366),\n",
       " ('PHS', 3),\n",
       " ('PL/SQL', 18),\n",
       " ('POS銷售點管理系統', 9),\n",
       " ('Painter', 3),\n",
       " ('Perl', 12),\n",
       " ('PhotoImpact', 3),\n",
       " ('PostgreSQL', 6),\n",
       " ('PowerBuilder', 3),\n",
       " ('PowerPoint', 66),\n",
       " ('Premiere', 3),\n",
       " ('Pro/E', 3),\n",
       " ('Project', 21),\n",
       " ('Python', 6),\n",
       " ('RDBMS', 6),\n",
       " ('Rhino', 3),\n",
       " ('Ruby', 3),\n",
       " ('Ruby On Rails', 3),\n",
       " ('Ruby/Qt', 3),\n",
       " ('SAP ERP Corporate Services', 3),\n",
       " ('SAP ERP Financials', 6),\n",
       " ('SAP ERP Operations', 3),\n",
       " ('SPC', 3),\n",
       " ('Shell Script', 3),\n",
       " ('SketchUp', 3),\n",
       " ('Solaris', 3),\n",
       " ('SolidWorks', 3),\n",
       " ('Spring', 21),\n",
       " ('Struts', 6),\n",
       " ('Swift', 18),\n",
       " ('SyBase', 3),\n",
       " ('TCP/IP', 21),\n",
       " ('Toad', 12),\n",
       " ('Tomcat', 3),\n",
       " ('UG', 3),\n",
       " ('UML', 12),\n",
       " ('UNIX', 21),\n",
       " ('Unity 3D', 15),\n",
       " ('VB Script', 24),\n",
       " ('VBA', 3),\n",
       " ('Version Control', 3),\n",
       " ('Visio', 24),\n",
       " ('Visual Basic', 30),\n",
       " ('Visual Basic .net', 45),\n",
       " ('Visual C#', 3),\n",
       " ('Visual C++', 48),\n",
       " ('Visual Studio', 9),\n",
       " ('Visual Studio .net', 3),\n",
       " ('Vmware', 6),\n",
       " ('WIN CE', 12),\n",
       " ('WLAN', 3),\n",
       " ('WML', 6),\n",
       " ('Web Master/Developer', 3),\n",
       " ('WinForm', 3),\n",
       " ('Windows 2000', 27),\n",
       " ('Windows 2003', 42),\n",
       " ('Windows 7', 69),\n",
       " ('Windows 8', 6),\n",
       " ('Windows 98', 18),\n",
       " ('Windows Mobile', 3),\n",
       " ('Windows NT', 24),\n",
       " ('Windows Server 2008', 9),\n",
       " ('Windows Server 2012', 15),\n",
       " ('Windows Vista', 24),\n",
       " ('Windows XP', 33),\n",
       " ('Word', 75),\n",
       " ('XHTML', 9),\n",
       " ('XML', 57),\n",
       " ('XML Web services', 21),\n",
       " ('iOS', 27),\n",
       " ('jQuery', 93),\n",
       " ('不拘', 387),\n",
       " ('中文打字100~125', 3),\n",
       " ('中文打字125~150', 3),\n",
       " ('中文打字20~50', 3),\n",
       " ('中文打字50~75', 12),\n",
       " ('中文打字75~100', 3),\n",
       " ('正航', 3),\n",
       " ('網路設計', 12),\n",
       " ('英文打字100~125', 3),\n",
       " ('英文打字125~150', 3),\n",
       " ('英文打字20~50', 3),\n",
       " ('英文打字50~75', 6),\n",
       " ('英文打字75~100', 6),\n",
       " ('通訊系統', 3),\n",
       " ('電子電路', 3),\n",
       " ('類比', 3),\n",
       " ('類比晶片', 3),\n",
       " ('鼎新', 3),\n",
       " ('鼎新SmartERP', 3),\n",
       " ('鼎新TIPTOP ERP', 3)]"
      ]
     },
     "execution_count": 103,
     "metadata": {},
     "output_type": "execute_result"
    }
   ],
   "source": [
    "dict1 # dictionary\n",
    "dict1.items() #tuples\n",
    "sorted(dict1.items()) # list"
   ]
  },
  {
   "cell_type": "code",
   "execution_count": 116,
   "metadata": {
    "scrolled": true
   },
   "outputs": [
    {
     "name": "stdout",
     "output_type": "stream",
     "text": [
      "{<matplotlib.patches.Rectangle object at 0x000000000A351518>: False}\n"
     ]
    }
   ],
   "source": []
  },
  {
   "cell_type": "code",
   "execution_count": 129,
   "metadata": {},
   "outputs": [
    {
     "data": {
      "text/plain": [
       "{'3ds Max': 3,\n",
       " 'A+': 1,\n",
       " 'ADA': 1,\n",
       " 'ADO': 7,\n",
       " 'AIX': 2,\n",
       " 'AJAX': 88,\n",
       " 'ANSI SQL': 12,\n",
       " 'ARM': 7,\n",
       " 'ASIC': 3,\n",
       " 'ASP': 31,\n",
       " 'ASP.NET': 219,\n",
       " 'Access': 11,\n",
       " 'ActionScript': 4,\n",
       " 'ActiveX': 4,\n",
       " 'Adobe Acrobat': 5,\n",
       " 'Adobe Certified Flash Designer': 1,\n",
       " 'Adobe Certified Flash Developer': 1,\n",
       " 'Adobe Photoshop': 10,\n",
       " 'After Effects': 1,\n",
       " 'Android': 153,\n",
       " 'Apache SOAP': 3,\n",
       " 'Apple': 12,\n",
       " 'ArcGis': 1,\n",
       " 'Assembly': 16,\n",
       " 'Authorware': 1,\n",
       " 'AutoCAD': 29,\n",
       " 'AutoCad 2D': 3,\n",
       " 'AutoCad 3D': 2,\n",
       " 'BIOS工程規格及流程撰寫': 3,\n",
       " 'BIOS程式偵錯與維護': 5,\n",
       " 'BIOS程式研發': 5,\n",
       " 'Base': 1,\n",
       " 'BizTalk': 1,\n",
       " 'Bluetooth': 3,\n",
       " 'Bridges': 1,\n",
       " 'Brio': 1,\n",
       " 'Bugzilla': 2,\n",
       " 'C': 478,\n",
       " 'C#': 458,\n",
       " 'C++': 636,\n",
       " 'C++.Net': 79,\n",
       " 'C++test': 2,\n",
       " 'CAM': 3,\n",
       " 'CCNA': 3,\n",
       " 'CCNP': 2,\n",
       " 'CGI': 13,\n",
       " 'CIM': 5,\n",
       " 'CNC加工機及相關機械操作': 1,\n",
       " 'CNC程式設計與程式模擬': 1,\n",
       " 'COBOL': 2,\n",
       " 'CPLD': 1,\n",
       " 'CVS': 2,\n",
       " 'Catia': 2,\n",
       " 'Circuit Design': 1,\n",
       " 'Cisco': 2,\n",
       " 'Clipper': 1,\n",
       " 'Cold Fusion': 1,\n",
       " 'CorelDraw': 3,\n",
       " 'DB2': 7,\n",
       " 'DDK': 2,\n",
       " 'DHCP': 9,\n",
       " 'DHTML': 44,\n",
       " 'DNS': 6,\n",
       " 'DOS': 3,\n",
       " 'DSP': 3,\n",
       " 'Data Modeling': 6,\n",
       " 'Database Administrator': 3,\n",
       " 'Database Management': 9,\n",
       " 'Dbase': 1,\n",
       " 'Delphi': 31,\n",
       " 'Developer/ Designer 2000': 2,\n",
       " 'DirectX': 7,\n",
       " 'Director': 1,\n",
       " 'Dreamweaver': 7,\n",
       " 'Drivers': 5,\n",
       " 'EDA': 4,\n",
       " 'EDI': 1,\n",
       " 'EJB': 3,\n",
       " 'ETL': 1,\n",
       " 'Ethernet': 9,\n",
       " 'Excel': 156,\n",
       " 'FPGA': 3,\n",
       " 'FTP': 11,\n",
       " 'Firewall': 9,\n",
       " 'Fireworks': 2,\n",
       " 'Firmware': 4,\n",
       " 'Flash': 11,\n",
       " 'Flex': 4,\n",
       " 'Fox Pro': 1,\n",
       " 'FreeBSD': 4,\n",
       " 'Freehand': 1,\n",
       " 'FrontPage': 5,\n",
       " 'HP Master ASP Engineer': 1,\n",
       " 'HTML': 235,\n",
       " 'HTTP': 43,\n",
       " 'Hubs': 1,\n",
       " 'Hubs/ Routers': 3,\n",
       " 'Hyperion (Brio)': 1,\n",
       " 'IBM Lotus': 1,\n",
       " 'IC版圖佈局佈線': 5,\n",
       " 'IIS': 12,\n",
       " 'ISO文件發行管理': 1,\n",
       " 'Illustrator': 5,\n",
       " 'Informix': 1,\n",
       " 'Interbase': 1,\n",
       " 'Internet Explorer': 6,\n",
       " 'Inventor': 1,\n",
       " 'J2EE': 51,\n",
       " 'J2SE': 13,\n",
       " 'JCL': 1,\n",
       " 'JDBC': 30,\n",
       " 'JLPT N1': 1,\n",
       " 'JLPT N2': 1,\n",
       " 'JSF': 7,\n",
       " 'JSP': 79,\n",
       " 'Java': 477,\n",
       " 'JavaScript': 348,\n",
       " 'Junit': 6,\n",
       " 'LAN': 5,\n",
       " 'LDAP': 3,\n",
       " 'LabVIEW': 32,\n",
       " 'LabVIEW基礎認證（CLAD）': 1,\n",
       " 'LabVIEW進階認證（CLD）': 1,\n",
       " 'Linux': 296,\n",
       " 'Load Balancing': 2,\n",
       " 'LoadRunner': 3,\n",
       " 'Lotus Notes': 1,\n",
       " 'MAYA': 3,\n",
       " 'MCAD': 1,\n",
       " 'MCP': 1,\n",
       " 'MCSA': 1,\n",
       " 'MCSD for .NET': 3,\n",
       " 'MCSE': 1,\n",
       " 'MCT': 1,\n",
       " 'MCTS': 2,\n",
       " 'MCU': 17,\n",
       " 'MES': 3,\n",
       " 'MES工廠執行系統規劃管理': 4,\n",
       " 'MFC': 40,\n",
       " 'MPLS': 2,\n",
       " 'MS SQL': 299,\n",
       " 'Mac OS': 29,\n",
       " 'Mac/Macintosh': 5,\n",
       " 'Mantis': 4,\n",
       " 'MapGIS': 1,\n",
       " 'Matlab': 12,\n",
       " 'Microsoft Exchange': 3,\n",
       " 'Microsoft SharePoint': 2,\n",
       " 'Microsoft SmartPhone': 1,\n",
       " 'Mobile phone': 1,\n",
       " 'Motion Builder': 1,\n",
       " 'MySQL': 190,\n",
       " 'MySQL CMA': 1,\n",
       " 'MySQL CMDEV': 1,\n",
       " 'NDS/Novell Directory Services': 1,\n",
       " 'Netbios': 1,\n",
       " 'OCP Java Dev.': 5,\n",
       " 'ODBC': 6,\n",
       " 'OOAD': 12,\n",
       " 'OOP': 32,\n",
       " 'OS X': 6,\n",
       " 'Objective-C': 101,\n",
       " 'OneNote': 1,\n",
       " 'OrCAD': 2,\n",
       " 'Oracle': 122,\n",
       " 'Oracle ERP': 2,\n",
       " 'Oracle Financials': 1,\n",
       " 'Oracle Forms': 1,\n",
       " 'Outlook': 73,\n",
       " 'P-CAD': 1,\n",
       " 'PADS': 2,\n",
       " 'PCB Layout軟體操作': 3,\n",
       " 'PCB樣品測試檢驗': 1,\n",
       " 'PCB電路板圖表繪製': 1,\n",
       " 'PCB電路板設計': 5,\n",
       " 'PHP': 141,\n",
       " 'PL/SQL': 30,\n",
       " 'PLC': 24,\n",
       " 'PPPoE': 3,\n",
       " 'Pascal': 1,\n",
       " 'Perl': 21,\n",
       " 'PhotoImpact': 1,\n",
       " 'PostgreSQL': 23,\n",
       " 'PowerBuilder': 5,\n",
       " 'PowerPoint': 110,\n",
       " 'Premiere': 1,\n",
       " 'Pro/E': 7,\n",
       " 'Progress': 1,\n",
       " 'Project': 17,\n",
       " 'Protel': 3,\n",
       " 'Python': 93,\n",
       " 'QATester': 2,\n",
       " 'QTP': 2,\n",
       " 'Quality Control': 3,\n",
       " 'QuickTest Professional': 1,\n",
       " 'R': 3,\n",
       " 'RDBMS': 11,\n",
       " 'RF': 2,\n",
       " 'RTSP': 3,\n",
       " 'Rational Performance': 1,\n",
       " 'Routers': 3,\n",
       " 'Ruby': 6,\n",
       " 'SAN': 5,\n",
       " 'SAN/NAS': 1,\n",
       " 'SAP': 4,\n",
       " 'SAS': 1,\n",
       " 'SCBCD': 1,\n",
       " 'SCJP': 9,\n",
       " 'SCWCD': 5,\n",
       " 'SDLC': 3,\n",
       " 'SMT': 1,\n",
       " 'SNMP': 2,\n",
       " 'SOAP': 4,\n",
       " 'SPICE': 1,\n",
       " 'STL': 6,\n",
       " 'SWIFT': 42,\n",
       " 'SYSBASE': 1,\n",
       " 'Security': 1,\n",
       " 'Servlets': 18,\n",
       " 'Shell': 12,\n",
       " 'Silverlight': 2,\n",
       " 'Silverstream': 1,\n",
       " 'Sniffer': 1,\n",
       " 'Socket': 21,\n",
       " 'Solaris': 3,\n",
       " 'Solid Edge': 3,\n",
       " 'SolidWorks': 6,\n",
       " 'Spring': 60,\n",
       " 'Strata': 1,\n",
       " 'Struts': 40,\n",
       " 'Swift': 2,\n",
       " 'Sybase': 2,\n",
       " 'Synopsys': 1,\n",
       " 'Systems Administration': 3,\n",
       " 'Systems Analysis': 8,\n",
       " 'Systems Analyst': 3,\n",
       " 'TCL': 3,\n",
       " 'TCP/IP': 50,\n",
       " 'TK': 1,\n",
       " 'TOEIC': 4,\n",
       " 'TQC-DA-SQL Server': 1,\n",
       " 'TQC-WD-互動式網頁設計ASP.NET-實用級AN1': 1,\n",
       " 'TQC-WD-互動式網頁設計ASP.NET-專業級AN3': 1,\n",
       " 'TQC-WD-互動式網頁設計ASP.NET-進階級AN2': 1,\n",
       " 'TQC-WD網頁設計類-ASP': 1,\n",
       " 'TcpDump': 1,\n",
       " 'Test Scripts': 1,\n",
       " 'Toad': 4,\n",
       " 'Tomcat': 33,\n",
       " 'UDP': 11,\n",
       " 'UML': 23,\n",
       " 'UNIX': 22,\n",
       " 'USB技術': 2,\n",
       " 'Unigraphics': 2,\n",
       " 'Unity3D': 16,\n",
       " 'VBA': 9,\n",
       " 'VBScript': 17,\n",
       " 'VLAN': 5,\n",
       " 'VM': 1,\n",
       " 'VMS': 1,\n",
       " 'VPN': 5,\n",
       " 'VRML': 2,\n",
       " 'Verilog': 4,\n",
       " 'Version Control': 3,\n",
       " 'Visio': 13,\n",
       " 'Visual Basic': 70,\n",
       " 'Visual Basic .net': 104,\n",
       " 'Visual C#': 111,\n",
       " 'Visual C++': 131,\n",
       " 'Visual J#': 3,\n",
       " 'Visual J++': 3,\n",
       " 'Visual SourceSafe': 2,\n",
       " 'Visual Studio': 82,\n",
       " 'Visual Studio .net': 99,\n",
       " 'Vmware': 6,\n",
       " 'VxWorks': 2,\n",
       " 'WAN': 3,\n",
       " 'WIN CE': 11,\n",
       " 'WLAN': 1,\n",
       " 'WML': 1,\n",
       " 'Web Master/Developer': 4,\n",
       " 'WebLoad': 1,\n",
       " 'WebLogic': 6,\n",
       " 'WebSphere': 4,\n",
       " 'Win32': 12,\n",
       " 'WinForm': 24,\n",
       " 'Windows 2000': 31,\n",
       " 'Windows 2003': 14,\n",
       " 'Windows 7': 48,\n",
       " 'Windows 8': 21,\n",
       " 'Windows 95': 3,\n",
       " 'Windows 98': 14,\n",
       " 'Windows Mobile': 4,\n",
       " 'Windows NT': 17,\n",
       " 'Windows Server 2008': 31,\n",
       " 'Windows Server 2012': 27,\n",
       " 'Windows Vista': 3,\n",
       " 'Windows XP': 33,\n",
       " 'Word': 153,\n",
       " 'XHTML': 10,\n",
       " 'XML': 79,\n",
       " 'XML Web services': 19,\n",
       " 'XSL': 2,\n",
       " 'XSLT': 1,\n",
       " 'e-commerce': 1,\n",
       " 'iDeaS': 1,\n",
       " 'iOS': 87,\n",
       " 'iptables': 3,\n",
       " 'jQuery': 195,\n",
       " 'ssh': 4,\n",
       " '一般保險公證': 1,\n",
       " '丙級室內配線技術士': 2,\n",
       " '丙級工業配線技術士': 2,\n",
       " '中文打字20~50': 20,\n",
       " '中文打字20以下': 3,\n",
       " '中文打字50~75': 4,\n",
       " '乙級工業電子技術士': 1,\n",
       " '乙級視聽電子技術士': 1,\n",
       " '企業資源規劃管理(ERP)': 8,\n",
       " '伺服器網站管理維護': 21,\n",
       " '作業系統基本操作': 33,\n",
       " '使用者介面設計': 3,\n",
       " '使用者測試(Usability test)': 29,\n",
       " '信號與系統設計': 4,\n",
       " '光學元件檢測儀器設計': 1,\n",
       " '光學系統研發設計': 1,\n",
       " '光學電子整合開發': 2,\n",
       " '光電儀器修護': 1,\n",
       " '光電工程技術開發': 1,\n",
       " '光電材料與元件產品製作': 1,\n",
       " '功能測試(function test)': 44,\n",
       " '動畫程式撰寫': 1,\n",
       " '化學檢測儀器操作': 1,\n",
       " '半導體元件測試檢修': 1,\n",
       " '半導體測試程式開發': 2,\n",
       " '協助產線自動化系統推展': 2,\n",
       " '協商談判能力': 1,\n",
       " '問題追蹤處理(Bug tracking)': 34,\n",
       " '單晶片實用級能力認證': 1,\n",
       " '單晶片專家能力認證': 1,\n",
       " '單晶片專業級能力認證': 1,\n",
       " '國際專案管理師PMP': 2,\n",
       " '國際標準ISO 9000主導稽核員': 1,\n",
       " '土木工程施工與監造': 1,\n",
       " '基礎土木工程應用': 1,\n",
       " '基礎數位電路': 2,\n",
       " '基礎類比電路': 2,\n",
       " '壓力測試(stress test)': 21,\n",
       " '多媒體企劃設計': 1,\n",
       " '多媒體影像處理': 2,\n",
       " '多媒體技術開發': 2,\n",
       " '安全性測試(Security test)': 19,\n",
       " '安裝與維護網路安全系統': 1,\n",
       " '實體活動規劃與執行': 1,\n",
       " '專案人力資源管理': 3,\n",
       " '專案成本╱品質╱風險管理': 5,\n",
       " '專案採購管理': 1,\n",
       " '專案時間╱進度控管': 3,\n",
       " '專案溝通╱整合管理': 5,\n",
       " '專案管理架構及專案說明': 3,\n",
       " '專案管理軟體操作': 4,\n",
       " '專案規劃執行╱範圍管理': 5,\n",
       " '工地行政相關報表製作': 1,\n",
       " '廣告製作規劃與執行': 1,\n",
       " '微電腦軟體設計': 9,\n",
       " '提案與簡報技巧': 2,\n",
       " '撰寫硬體語言程式': 5,\n",
       " '整合無線通訊模組': 4,\n",
       " '數位晶片產品開發': 4,\n",
       " '數位通訊技術訊號處理': 1,\n",
       " '數位電路分析設計': 5,\n",
       " '數位電路驗證': 4,\n",
       " '文件管理中心之建立與維護': 1,\n",
       " '文書處理軟體操作': 10,\n",
       " '新產品研發與測試': 4,\n",
       " '普通客車駕照': 1,\n",
       " '普通小客車駕照': 3,\n",
       " '普通重型機車駕照': 1,\n",
       " '標準作業流程規劃': 1,\n",
       " '模具設計製作及修整': 1,\n",
       " '模組化系統設計': 47,\n",
       " '機械產品設計': 2,\n",
       " '檔案管理之電腦化策略': 1,\n",
       " '正航': 1,\n",
       " '流程圖軟體操作': 6,\n",
       " '測試環境建置規劃': 17,\n",
       " '測試計劃及測試報告書撰寫': 24,\n",
       " '測量儀器之檢驗與校正': 1,\n",
       " '無線通訊技術開發': 12,\n",
       " '無線通訊模組測試': 8,\n",
       " '產品或零件測試驗證': 1,\n",
       " '產品模具開發設計': 2,\n",
       " '產品機構設計': 2,\n",
       " '產品結構評估': 1,\n",
       " '產品規格書編制管理': 1,\n",
       " '異業合作規劃與執行': 1,\n",
       " '硬體工程技術開發': 2,\n",
       " '硬體整合測試': 1,\n",
       " '硬體系統研發設計': 2,\n",
       " '社群媒體經營管理': 1,\n",
       " '簡報軟體操作': 4,\n",
       " '系統整合分析': 96,\n",
       " '系統架構規劃': 73,\n",
       " '系統架構規劃與維護': 17,\n",
       " '系統維護操作': 40,\n",
       " '組合裝配機件及安裝與校驗機械': 3,\n",
       " '結構化程式設計': 52,\n",
       " '網站企劃能力': 1,\n",
       " '網站流量成效追蹤': 1,\n",
       " '網路安全架構分析與設計': 7,\n",
       " '網路應用軟體操作': 5,\n",
       " '網路活動規劃與執行': 1,\n",
       " '網路程式設計': 141,\n",
       " '網路系統配置': 5,\n",
       " '網路規劃管理': 3,\n",
       " '網路設備設定安裝': 2,\n",
       " '網路資料傳輸': 29,\n",
       " '網頁語法撰寫': 13,\n",
       " '網頁軟體操作': 3,\n",
       " '繪製2D／3D模具設計圖': 1,\n",
       " '自動化機構裝配': 1,\n",
       " '自動化系統設計整合': 8,\n",
       " '自動化設備／系統介面之維護改善': 3,\n",
       " '英文打字20~50': 8,\n",
       " '英文打字20以下': 3,\n",
       " '英文打字50~75': 4,\n",
       " '製作工程樣品與管理': 1,\n",
       " '製作規格說明書': 1,\n",
       " '規劃、維護自動控制系統': 3,\n",
       " '規劃與管理入侵防護系統（IPS）': 1,\n",
       " '規劃與管理防火牆': 3,\n",
       " '訊號壓縮技術': 4,\n",
       " '設計機台設備自動化': 14,\n",
       " '設計網路安全系統': 2,\n",
       " '負責文件更新、發行、審核與跟催作業': 1,\n",
       " '資料備份與復原': 11,\n",
       " '資料庫程式設計': 126,\n",
       " '資料庫系統管理維護': 54,\n",
       " '資料庫軟體應用': 59,\n",
       " '資料通訊與網路應用': 16,\n",
       " '資訊設備操作檢修': 4,\n",
       " '資訊設備環境設定': 13,\n",
       " '軟硬體設備成本控制': 4,\n",
       " '軟硬體設備預算與採買規劃': 1,\n",
       " '軟體品質與保證': 52,\n",
       " '軟體工程系統開發': 211,\n",
       " '軟體整合測試': 70,\n",
       " '軟體程式設計': 394,\n",
       " '輕型機車駕照': 1,\n",
       " '通訊工程技術開發': 3,\n",
       " '通訊技術發展研究': 4,\n",
       " '部門績效目標管理': 1,\n",
       " '配電裝修維護': 1,\n",
       " '開發電子電路系統': 1,\n",
       " '電力工程裝修與控制': 3,\n",
       " '電動機及電氣相關知識': 2,\n",
       " '電子儀表工具使用': 3,\n",
       " '電子儀表設備裝配': 2,\n",
       " '電子產品系統測試': 1,\n",
       " '電子試算表軟體操作': 1,\n",
       " '電子零件產品資訊蒐集': 1,\n",
       " '電子電路設計': 2,\n",
       " '電工圖識圖與繪圖': 1,\n",
       " '電控╱感測迴路裝配': 2,\n",
       " '電機設備保養修護': 1,\n",
       " '電機設備採購': 1,\n",
       " '電機設備測試': 2,\n",
       " '電機設備研發': 2,\n",
       " '電機設備設計開發': 4,\n",
       " '電腦設備裝配': 10,\n",
       " '電腦輔助設計軟體操作': 5,\n",
       " '電路板佈局規劃': 2,\n",
       " '電路板測試': 2,\n",
       " '韌體工程開發': 33,\n",
       " '韌體整合測試': 12,\n",
       " '韌體程式設計': 48,\n",
       " '類比電路設計': 1,\n",
       " '鼎基 ERP': 1,\n",
       " '鼎新': 9}"
      ]
     },
     "execution_count": 129,
     "metadata": {},
     "output_type": "execute_result"
    }
   ],
   "source": [
    "dict2"
   ]
  },
  {
   "cell_type": "code",
   "execution_count": 130,
   "metadata": {},
   "outputs": [
    {
     "data": {
      "text/plain": [
       "('3ds Max', 3)"
      ]
     },
     "execution_count": 130,
     "metadata": {},
     "output_type": "execute_result"
    }
   ],
   "source": [
    "\n",
    "    "
   ]
  },
  {
   "cell_type": "code",
   "execution_count": 8,
   "metadata": {},
   "outputs": [
    {
     "data": {
      "text/plain": [
       "[('不拘', 387),\n",
       " ('PHP', 366),\n",
       " ('HTML', 354),\n",
       " ('MySQL', 339),\n",
       " ('CSS', 258),\n",
       " ('Java Script', 243),\n",
       " ('MS SQL', 237),\n",
       " ('Java', 195),\n",
       " ('AJAX', 174),\n",
       " ('Linux', 165)]"
      ]
     },
     "execution_count": 8,
     "metadata": {},
     "output_type": "execute_result"
    }
   ],
   "source": [
    "# sort the dictionary by value\n",
    "import operator\n",
    "dict1 = sorted(dict1.items(), key=operator.itemgetter(1),reverse=True)[:10]\n",
    "dict1"
   ]
  },
  {
   "cell_type": "code",
   "execution_count": 9,
   "metadata": {},
   "outputs": [
    {
     "data": {
      "text/plain": [
       "[('C++', 636),\n",
       " ('C', 478),\n",
       " ('Java', 477),\n",
       " ('C#', 458),\n",
       " ('軟體程式設計', 394),\n",
       " ('JavaScript', 348),\n",
       " ('MS SQL', 299),\n",
       " ('Linux', 296),\n",
       " ('HTML', 235),\n",
       " ('ASP.NET', 219)]"
      ]
     },
     "execution_count": 9,
     "metadata": {},
     "output_type": "execute_result"
    }
   ],
   "source": [
    "dict2 = sorted(dict2.items(),key=operator.itemgetter(1),reverse=True)[:10]\n",
    "dict2"
   ]
  },
  {
   "cell_type": "code",
   "execution_count": 10,
   "metadata": {
    "collapsed": true
   },
   "outputs": [],
   "source": [
    "# Give dictionary, output lists toolNames & toolAmount\n",
    "def dict2toolNames(dict):\n",
    "    toolNames = []\n",
    "    for tn in dict.keys():\n",
    "        toolNames.append(tn)\n",
    "    return toolNames\n",
    "def dict2toolAmounts(dict):\n",
    "    toolAmounts = []\n",
    "    for ta in dict.values():\n",
    "        toolAmounts.append(ta)\n",
    "    return toolAmounts\n",
    "# 不過 排序後變成list 所以沒有用到這兩個functions"
   ]
  },
  {
   "cell_type": "code",
   "execution_count": 11,
   "metadata": {
    "collapsed": true
   },
   "outputs": [],
   "source": [
    "def getSortedNames(dict):\n",
    "    toolNames = []\n",
    "    for i in range(len(dict)):\n",
    "        toolNames.append(dict[i][0])\n",
    "    return toolNames\n",
    "def getSortedAmounts(dict):\n",
    "    toolAmounts = []\n",
    "    for i in range(len(dict)):\n",
    "        toolAmounts.append(dict[i][1])\n",
    "    return toolAmounts"
   ]
  },
  {
   "cell_type": "code",
   "execution_count": 12,
   "metadata": {
    "collapsed": true
   },
   "outputs": [],
   "source": [
    "toolNames1 = getSortedNames(dict1)\n",
    "toolAmounts1 = getSortedAmounts(dict1)\n",
    "toolNames2 = getSortedNames(dict2)\n",
    "toolAmounts2 = getSortedAmounts(dict2)"
   ]
  },
  {
   "cell_type": "code",
   "execution_count": 26,
   "metadata": {},
   "outputs": [
    {
     "data": {
      "text/plain": [
       "10"
      ]
     },
     "execution_count": 26,
     "metadata": {},
     "output_type": "execute_result"
    }
   ],
   "source": [
    "len(toolNames1)"
   ]
  },
  {
   "cell_type": "code",
   "execution_count": 91,
   "metadata": {
    "scrolled": false
   },
   "outputs": [
    {
     "data": {
      "image/png": "[encoded data removed]",
      "text/plain": [
       "<matplotlib.figure.Figure at 0xa69bc18>"
      ]
     },
     "metadata": {},
     "output_type": "display_data"
    }
   ],
   "source": [
    "# 模仿做圖\n",
    "import numpy as np\n",
    "import matplotlib.pyplot as plt\n",
    "\n",
    "N = len(toolNames1)\n",
    "# men_means = (20, 35, 30, 35, 27)\n",
    "# men_std = (2, 3, 4, 1, 2)\n",
    "\n",
    "ind = np.arange(N)  # the x locations for the groups\n",
    "width = 0.8       # the width of the bars # 最後再確認  -> 調整後感覺預設是0.8\n",
    "\n",
    "fig, ax = plt.subplots() #what's this -> 不加就沒有legned, text\n",
    "# rects1 = ax.bar(ind, men_means, width, color='r', yerr=men_std) # modify as follow\n",
    "rects1 = plt.bar(ind, toolAmounts1, width, color='r')\n",
    "\n",
    "# women_means = (25, 32, 34, 20, 25)\n",
    "# women_std = (3, 5, 2, 3, 3)\n",
    "rects2 = plt.bar(ind, toolAmounts2, bottom = toolAmounts1, color='lightgreen')\n",
    "\n",
    "# add some text for labels, title and axes ticks\n",
    "ax.set_ylabel('Frequency')\n",
    "ax.set_title('Count Statistics')\n",
    "# ax.set_xticks(ind + width / 2)\n",
    "ax.set_xticks(ind)\n",
    "# ax.set_xticklabels(('G1', 'G2', 'G3', 'G4', 'G5'))\n",
    "ax.set_xticklabels(toolNames1)\n",
    "ax.legend((rects1[0], rects2[0]), ('518', '104'))  # first arg -> color, second -> legned\n",
    "\n",
    "\n",
    "# def autolabel(rects):\n",
    "#     \"\"\"\n",
    "#     Attach a text label above each bar displaying its height\n",
    "#     \"\"\"\n",
    "#     for rect in rects:\n",
    "#         height = rect.get_height()\n",
    "#         ax.text(rect.get_x() + rect.get_width()/2., 1.05*height,\n",
    "#                 '%d' % int(height),\n",
    "#                 ha='center', va='bottom')\n",
    "height_btn = []\n",
    "for rc1 in rects1:\n",
    "    height_btn.append(rc1.get_height())\n",
    "    \n",
    "height_2nd = []\n",
    "for rc1, rc2 in zip(rects1, rects2): #In Python 3, just pass the generators to zip(), zip() takes any iterable\n",
    "    height_2nd.append(rc1.get_height() + rc2.get_height())\n",
    "\n",
    "def autolabel(rects, height):\n",
    "    \"\"\"\n",
    "    Attach a text label above each bar displaying its height\n",
    "    \"\"\"\n",
    "    h = 0 # index of list height\n",
    "    for rect in rects:\n",
    "        ht = rect.get_height() # 這邊為了顯示的數字不是加成上去的數字，所以另外讀寫了此rect的height\n",
    "        ax.text(rect.get_x() + rect.get_width()/2, height[h],\n",
    "             '%d' % int(ht),\n",
    "             ha='center', va='bottom') # horizon & vertical alignment       \n",
    "        h += 1\n",
    "\n",
    "autolabel(rects1, height_btn)\n",
    "autolabel(rects2, height_2nd)\n",
    "\n",
    "plt.show()"
   ]
  },
  {
   "cell_type": "code",
   "execution_count": 77,
   "metadata": {},
   "outputs": [
    {
     "name": "stdout",
     "output_type": "stream",
     "text": [
      "Rectangle(-0.1,0;0.2x387)\n",
      "Rectangle(0.9,0;0.2x366)\n",
      "Rectangle(1.9,0;0.2x354)\n",
      "Rectangle(2.9,0;0.2x339)\n",
      "Rectangle(3.9,0;0.2x258)\n",
      "Rectangle(4.9,0;0.2x243)\n",
      "Rectangle(5.9,0;0.2x237)\n",
      "Rectangle(6.9,0;0.2x195)\n",
      "Rectangle(7.9,0;0.2x174)\n",
      "Rectangle(8.9,0;0.2x165)\n"
     ]
    }
   ],
   "source": [
    "for row in rects1:\n",
    "    print(row)\n",
    "    \n",
    "    # Rectangle(-0.1,0;0.8x387)   位置 ; width x 數值"
   ]
  },
  {
   "cell_type": "code",
   "execution_count": 157,
   "metadata": {
    "collapsed": true
   },
   "outputs": [],
   "source": [
    "dicttest = {\"A\": 10,\"E\": 50,\"B\": 20,\"C\": 30,\"D\": 90,}"
   ]
  },
  {
   "cell_type": "code",
   "execution_count": 193,
   "metadata": {},
   "outputs": [
    {
     "data": {
      "text/plain": [
       "[('D', 90), ('E', 50), ('C', 30), ('B', 20), ('A', 10)]"
      ]
     },
     "execution_count": 193,
     "metadata": {},
     "output_type": "execute_result"
    }
   ],
   "source": [
    "import operator\n",
    "sorted_x = sorted(dicttest.items(),key=operator.itemgetter(1),reverse=True)\n",
    "sorted_x\n",
    "# 不過輸出成list"
   ]
  },
  {
   "cell_type": "code",
   "execution_count": 31,
   "metadata": {},
   "outputs": [
    {
     "data": {
      "image/png": "[encoded data removed]",
      "text/plain": [
       "<matplotlib.figure.Figure at 0x8a72828>"
      ]
     },
     "metadata": {},
     "output_type": "display_data"
    }
   ],
   "source": [
    "# a stacked bar plot with errorbars\n",
    "import numpy as np\n",
    "import matplotlib.pyplot as plt\n",
    "\n",
    "\n",
    "\n",
    "N = 5\n",
    "\n",
    "menMeans = (20, 35, 30, 35, 27)\n",
    "\n",
    "womenMeans = (25, 32, 34, 20, 25)\n",
    "\n",
    "menStd = (2, 3, 4, 1, 2)\n",
    "\n",
    "womenStd = (3, 5, 2, 3, 3)\n",
    "\n",
    "ind = np.arange(N)    \n",
    "# the x locations for the groups\n",
    "\n",
    "width = 0.35       \n",
    "# the width of the bars: can also be len(x) sequence\n",
    "\n",
    "\n",
    "p1 = plt.bar(ind, menMeans, width, color='#d62728', yerr=menStd)\n",
    "\n",
    "p2 = plt.bar(ind, womenMeans, width, bottom=menMeans, yerr=womenStd)\n",
    "\n",
    "\n",
    "plt.ylabel('Scores')\n",
    "\n",
    "plt.title('Scores by group and gender')\n",
    "\n",
    "plt.xticks(ind, ('G1', 'G2', 'G3', 'G4', 'G5'))\n",
    "\n",
    "plt.yticks(np.arange(0, 81, 10))\n",
    "\n",
    "plt.legend((p1[0], p2[0]), ('Men', 'Women'))\n",
    "\n",
    "\n",
    "plt.show()"
   ]
  },
  {
   "cell_type": "markdown",
   "metadata": {},
   "source": [
    "# numPy"
   ]
  },
  {
   "cell_type": "code",
   "execution_count": 38,
   "metadata": {},
   "outputs": [
    {
     "data": {
      "text/plain": [
       "array([[0, 1, 2, 3, 4],\n",
       "       [5, 6, 7, 8, 9]])"
      ]
     },
     "execution_count": 38,
     "metadata": {},
     "output_type": "execute_result"
    }
   ],
   "source": [
    "tt = np.arange(10).reshape(2, 5)\n",
    "tt"
   ]
  },
  {
   "cell_type": "code",
   "execution_count": null,
   "metadata": {
    "collapsed": true
   },
   "outputs": [],
   "source": []
  },
  {
   "cell_type": "code",
   "execution_count": 37,
   "metadata": {},
   "outputs": [
    {
     "data": {
      "text/plain": [
       "4"
      ]
     },
     "execution_count": 37,
     "metadata": {},
     "output_type": "execute_result"
    }
   ],
   "source": [
    "tt.itemsize"
   ]
  },
  {
   "cell_type": "code",
   "execution_count": 41,
   "metadata": {
    "scrolled": true
   },
   "outputs": [
    {
     "data": {
      "text/plain": [
       "array([[0, 1, 2, 3, 4],\n",
       "       [5, 6, 7, 8, 9]])"
      ]
     },
     "execution_count": 41,
     "metadata": {},
     "output_type": "execute_result"
    }
   ],
   "source": [
    "yy = np.array([0,1,2,3,4,5,6,7,8,9]).reshape(2,5)\n",
    "yy"
   ]
  },
  {
   "cell_type": "code",
   "execution_count": 4,
   "metadata": {
    "scrolled": true
   },
   "outputs": [
    {
     "data": {
      "text/plain": [
       "[<matplotlib.lines.Line2D at 0x8628550>]"
      ]
     },
     "execution_count": 4,
     "metadata": {},
     "output_type": "execute_result"
    }
   ],
   "source": [
    "x = np.arange(0, 5, 0.1);\n",
    "y = np.sin(x)\n",
    "plt.plot(x, y)"
   ]
  },
  {
   "cell_type": "code",
   "execution_count": 84,
   "metadata": {},
   "outputs": [
    {
     "name": "stdout",
     "output_type": "stream",
     "text": [
      "7\n",
      "15\n"
     ]
    }
   ],
   "source": [
    "for i,j in zip([1,5], [6,10]):\n",
    "    print(i+j)"
   ]
  }
 ],
 "metadata": {
  "kernelspec": {
   "display_name": "Python 3",
   "language": "python",
   "name": "python3"
  },
  "language_info": {
   "codemirror_mode": {
    "name": "ipython",
    "version": 3
   },
   "file_extension": ".py",
   "mimetype": "text/x-python",
   "name": "python",
   "nbconvert_exporter": "python",
   "pygments_lexer": "ipython3",
   "version": "3.6.1"
  }
 },
 "nbformat": 4,
 "nbformat_minor": 2
}
