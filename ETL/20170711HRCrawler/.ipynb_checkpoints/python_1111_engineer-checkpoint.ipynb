{
 "cells": [
  {
   "cell_type": "code",
   "execution_count": 5,
   "metadata": {},
   "outputs": [
    {
     "name": "stdout",
     "output_type": "stream",
     "text": [
      "[('C#.NET', 570), ('VB.NET', 456), ('MS SQL', 456), ('Excel', 342), ('Java Script', 342)]\n"
     ]
    }
   ],
   "source": [
    "import requests\n",
    "from bs4 import BeautifulSoup\n",
    "from collections import Counter\n",
    "\n",
    "cnt = Counter()\n",
    "URL = \"https://www.1111.com.tw/job-bank/job-index.asp?si=1&ks=%E7%A8%8B%E5%BC%8F%E8%A8%AD%E8%A8%88%E5%B8%AB&fs=1&page=\"\n",
    "for i in range(1,115):        \n",
    "    res = requests.get(URL + 'i')\n",
    "    soup = BeautifulSoup(res.text, 'lxml')\n",
    "    for job in soup.select('.jbInfoin h3 a'):\n",
    "        hr = job['href']\n",
    "        jno = hr.split('job/')[1]\n",
    "\n",
    "        #####    解析內容頁\n",
    "        url = 'http://www.1111.com.tw/job/'+jno        \n",
    "        res = requests.get(url)\n",
    "        soup = BeautifulSoup(res.text, 'lxml')\n",
    "        for li in soup.select('li'):\n",
    "#             print(li)\n",
    "            for expert in li.select('.listTitle'):      \n",
    "                if expert.text == '電腦專長：':    ###比較tag裡頭的內容為：電腦專長（True）\n",
    "                    for skill in li.select('.listContent'):    \n",
    "#                         print(skill)\n",
    "                        tool = skill.text.split('、')\n",
    "#                         print(tool)\n",
    "                        for x in tool:  \n",
    "                            if x in cnt:\n",
    "                                cnt[x] +=1\n",
    "                            else:\n",
    "                                cnt[x] = 1\n",
    "# print(cnt.most_common(5)) \n",
    "print()"
   ]
  }
 ],
 "metadata": {
  "kernelspec": {
   "display_name": "Python 3",
   "language": "python",
   "name": "python3"
  },
  "language_info": {
   "codemirror_mode": {
    "name": "ipython",
    "version": 3
   },
   "file_extension": ".py",
   "mimetype": "text/x-python",
   "name": "python",
   "nbconvert_exporter": "python",
   "pygments_lexer": "ipython3",
   "version": "3.6.1"
  }
 },
 "nbformat": 4,
 "nbformat_minor": 2
}
