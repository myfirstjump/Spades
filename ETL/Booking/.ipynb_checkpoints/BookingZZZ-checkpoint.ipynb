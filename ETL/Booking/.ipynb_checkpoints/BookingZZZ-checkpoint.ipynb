{
 "cells": [
  {
   "cell_type": "code",
   "execution_count": 1,
   "metadata": {
    "collapsed": true
   },
   "outputs": [],
   "source": [
    "# Booking hotel crawler\n",
    "import requests\n",
    "import time\n",
    "from bs4 import BeautifulSoup\n",
    "from collections import Counter\n",
    "import re\n",
    "import time\n",
    "import numpy"
   ]
  },
  {
   "cell_type": "code",
   "execution_count": null,
   "metadata": {
    "collapsed": true
   },
   "outputs": [],
   "source": [
    "# 每次爬取前，cookie須更新: 在Booking頁面，找XHR檔中的searchresults.zh-tw............開頭的文件，複製其requests cookies"
   ]
  },
  {
   "cell_type": "code",
   "execution_count": 2,
   "metadata": {
    "collapsed": true
   },
   "outputs": [],
   "source": [
    "# data 不用加\n",
    "data = {'aid':304142,\n",
    "'label':'gen173nr-1DCAEoggJCAlhYSDNiBW5vcmVmaOcBiAEBmAEwuAEGyAEM2AED6AEBkgIBeagCAw',\n",
    "'sid':'25f3195cbf76726e8ffac861269a0d24',\n",
    "'checkin_month':10,\n",
    "'checkin_monthday':7,\n",
    "'checkin_year':2017,\n",
    "'checkout_month':10,\n",
    "'checkout_monthday':11,\n",
    "'checkout_year':2017,\n",
    "'class_interval':1,\n",
    "'dest_id':-235402,\n",
    "'dest_type':'city',\n",
    "'dtdisc':0,\n",
    "'group_adults':2,\n",
    "'group_children':0,\n",
    "'inac':0,\n",
    "'index_postcard':0,\n",
    "'label_click':'undef',\n",
    "'no_rooms':1,\n",
    "'postcard':0,\n",
    "'raw_dest_type':'city',\n",
    "'room1':'A,A',\n",
    "'sb_price_type':'total',\n",
    "'src':'index',\n",
    "'src_elem':'sb',\n",
    "'ss':'京都',\n",
    "'ss_all':0,\n",
    "'ssb':'empty',\n",
    "'sshis':0,\n",
    "'ssne':'京都',\n",
    "'ssne_untouched':'京都',\n",
    "'rows':40,\n",
    "'offset':40,\n",
    "'sr_ajax':1,\n",
    "'b_gtt':'dLYAeZFVJfNTBdAHUdPHUBSSUVJfcbWYaNLDRCAET',\n",
    "'_':1501060181667}\n",
    "\n",
    "\n",
    "# headers\n",
    "\n",
    "headers = {'User-Agent':'Mozilla/5.0 (Windows NT 6.1; Win64; x64) AppleWebKit/537.36 (KHTML, like Gecko) Chrome/59.0.3071.115 Safari/537.36'}\n",
    "\n"
   ]
  },
  {
   "cell_type": "code",
   "execution_count": 4,
   "metadata": {
    "collapsed": true
   },
   "outputs": [],
   "source": [
    "#cookie = {'Cookie':'zz_cook_tms_seg1=1; zz_cook_tms_seg3=5; header_signin_prompt=1; zz_cook_tms_ed=1; b1577f1603e12140d61ae5e8237aafdd=1; _ga=GA1.2.2067083198.1501046935; _gid=GA1.2.832559918.1501046935; BJS=-; has_preloaded=1; utag_main=v_id:015d7d5e90a50053be3f16ff21e80407200f506a00bd0$_sn:1$_ss:0$_st:1501063966716$4split:0$4split2:0$ses_id:1501046935719%3Bexp-session$_pn:24%3Bexp-session; bkng=11UmFuZG9tSVYkc2RlIyh9YfDNyGw8J7nzPnUG3Pr%2Bfv5IP%2FgNoyK0ntemXCDrSx%2FNQiovwPBBOoSUWAO0z9OynWDIbkBUXRY9tbJ8J5XtZ2D%2Ft8gWGoF3tivcrjOBL25%2Fy0uY%2Fvv7xGQzkCOEM%2FHIWTJUQaQy0wG28IyTfW%2F4itrYlp7tTUA5%2BaTqraLdpsxaJGp4YY9zMUDNMX5mfTyUhw%3D%3D; lastSeen=0; _gat=1'}\n",
    "\n",
    "#cookie = {\"Cookie\":\"zz_cook_tms_seg1=2; zz_cook_tms_seg3=7; _ga=GA1.2.1333607686.1500826464; _gid=GA1.2.115508.1501480781; _gat=1; BJS=-; utag_main=v_id:015d703a70c400176da72d7358d60407300bf06b00978$_sn:7$_ss:1$_st:1501482581466$4split:0$4split2:2$ses_id:1501480781466%3Bexp-session$_pn:1%3Bexp-session; zz_cook_tms_ed=1; lastSeen=0; bkng=11UmFuZG9tSVYkc2RlIyh9YfDNyGw8J7nzPnUG3Pr%2Bfv4QSqapd%2Bo0eQkEegwc2U93VNZf1tZenb6jp2s6Hma6YeP6szAkKiHOLz3ngjJBxBH%2BrlkpuHfxA%2BY3KXAOD54bZmBZWNMx5lap3YEuJsSbSQ5wcY%2B17FTZmk2vt6YIrHa%2Bm82NCO1QN%2FK1hAx8IVhF%2BenA7UeQQQJfnyqvlsE1tA%3D%3D\"}    \n",
    "\n",
    "#cookie = {\"Cookie\":\"zz_cook_tms_seg1=2; zz_cook_tms_seg3=7; has_preloaded=1; header_signin_prompt=1; b1577f1603e12140d61ae5e8237aafdd=1; zz_cook_tms_hlist=260360; _ga=GA1.2.1333607686.1500826464; _gid=GA1.2.115508.1501480781; _gat=1; vpmss=1; BJS=-; lastSeen=0; utag_main=v_id:015d703a70c400176da72d7358d60407300bf06b00978$_sn:9$_ss:1$_st:1501502448305$4split:0$4split2:2$ses_id:1501500648305%3Bexp-session$_pn:1%3Bexp-session; zz_cook_tms_ed=1; bkng=11UmFuZG9tSVYkc2RlIyh9Yaa29%2F3xUOLbKE7bjkbYWznwXaDLM3GIBkLXVQ%2Ba%2B0Xs%2BneqaZ2VRiIPxRN98BHFjcSRrWyo95WB5NUfruOZhZr%2Bx1YaCV5Ug87QoLSajIjYVtuLdFF8VE%2Fz9YDZivRvgZYyV60EhLrZlWHtXnFHa%2BLVSxNrWX7gOxfdkyUo0KChyrFompGPIL4%3D\"}\n",
    "\n",
    "# cookie = {\"Cookie\":\"zz_cook_tms_seg1=1; zz_cook_tms_seg3=7; has_preloaded=1; qr_sr=1; zz_cook_tms_ed=1; zz_cook_tms_hlist=259248; _gat=1; _ga=GA1.2.587579851.1501669825; _gid=GA1.2.2066279883.1501669825; BJS=-; utag_main=v_id:015da27f3a0e001d62b4a00fd8450407201f806a00bd0$_sn:1$_ss:0$_st:1501673155011$ses_id:1501669833232%3Bexp-session$_pn:6%3Bexp-session$4split:1$4split2:3; lastSeen=0; bkng=11UmFuZG9tSVYkc2RlIyh9Yaa29%2F3xUOLbiKbS0JOgDBKp1c7kxx6QSmHj5LePZyTEXTFNQ4JDptGHTM5uFilzFgpEVxVD%2FXj4jE%2B7XPw55cLTMCx1FvgDlbCKMYX7mOaGzsnUH%2Bb8ylEPIolonndPzhtnna1ZGs2rcCMSBFB2%2FxE9l0dDTFUzJff1Jzj4FAmjXh8THwGAn%2F8%3D\"}\n",
    "\n",
    "#cookie = {\"Cookie\":\"zz_cook_tms_seg1=1; zz_cook_tms_seg3=7; has_preloaded=1; qr_sr=1; zz_cook_tms_ed=1; zz_cook_tms_hlist=259248; _ga=GA1.2.587579851.1501669825; _gid=GA1.2.2066279883.1501669825; _gat=1; vpmss=1; BJS=-; lastSeen=0; utag_main=v_id:015da27f3a0e001d62b4a00fd8450407201f806a00bd0$_sn:1$_ss:0$_st:1501673868160$ses_id:1501669833232%3Bexp-session$_pn:7%3Bexp-session$4split:1$4split2:3; bkng=11UmFuZG9tSVYkc2RlIyh9Yaa29%2F3xUOLbVA9iGwA%2BUSySM6uOqWEEYWVO4%2Bb8qhoRgtqEEDewNWAIxWZjjW8vjb%2B3%2FAZ4efDLw2wFb9En8gCq5xEX2HMh1%2FPIMp8lgItrynHdHMVBHKRt4%2FFvOfCmjg4%2BMpu8nRahod6dtnkU7GEIp200TaD4F5cvW8AeBwfvMKZLqGVFYdk%3D\"}\n",
    "\n",
    "#cookie = {\"Cookie\":\"header_signin_prompt=1; zz_cook_tms_seg1=2; zz_cook_tms_seg3=8; qr_sr=1; has_preloaded=1; zz_cook_tms_ed=1; vpmss=1; zz_cook_tms_hlist=470346; _gat=1; _ga=GA1.2.771830251.1501676071; _gid=GA1.2.1419963344.1501676071; BJS=-; utag_main=v_id:015da2de69b200b09a95a293b1480407200b206a00bd0$_sn:1$_ss:0$_st:1501680255488$ses_id:1501676071347%3Bexp-session$_pn:12%3Bexp-session$4split:0$4split2:2; lastSeen=0; bkng=11UmFuZG9tSVYkc2RlIyh9Yaa29%2F3xUOLbiKbS0JOgDBLk5%2FUgU6TJcMb2FATlVsfGocM9cXH1Ho9iU2icHvCKnA1jCU6xAmAel7HEJuXRbWokj8T856ZOUABNhQ8VKPIvs5nHUVKelJX%2FLqZcRBmZ6PW%2FnCMQMikmR%2BDST0dmyZBpvy2Xd4sMY5ZYzuH6bs3K%2FEEJFZvrGwA%3D\"}\n",
    "\n",
    "\n",
    "cookie = {\"Cookie\":\"zz_cook_tms_seg1=2; zz_cook_tms_seg3=8; _gat=1; header_signin_prompt=1; zz_cook_tms_ed=1; _ga=GA1.2.771830251.1501676071; _gid=GA1.2.1419963344.1501676071; vpmss=1; BJS=-; lastSeen=0; utag_main=v_id:015da2de69b200b09a95a293b1480407200b206a00bd0$_sn:2$_ss:0$_st:1501769227015$4split:0$4split2:2$ses_id:1501767389598%3Bexp-session$_pn:3%3Bexp-session; bkng=11UmFuZG9tSVYkc2RlIyh9Yaa29%2F3xUOLbiKbS0JOgDBKd%2F%2B1hfoh7ruge6jtQj94MRrpMF%2FpqHNgFKbqjK6qKparQ6HF%2F7cbmaUhvrmXJdWrAyM%2BdeeHStXDwtIVqpQgscTT9xQwPJ8Zsa7GGheChMpsfi%2Bhx8zBNCE1PaRkYUwFaLWnIkGv25tUKrXlnc1itnQWmh4crrbI%3D\"}"
   ]
  },
  {
   "cell_type": "code",
   "execution_count": null,
   "metadata": {
    "collapsed": true
   },
   "outputs": [],
   "source": [
    " \n",
    "#res = requests.get(url, headers = headers, cookies = cookie)\n",
    "#soup = BeautifulSoup(res.text, 'lxml')\n"
   ]
  },
  {
   "cell_type": "code",
   "execution_count": null,
   "metadata": {
    "collapsed": true
   },
   "outputs": [],
   "source": [
    "### 查看單筆資料有哪些訊息\n",
    "\n",
    "location = '京都'\n",
    "### %E4%BA%AC%E9%83%BD ---> 京都\n",
    "url = \"https://www.booking.com/searchresults.zh-tw.html?aid=304142&label=gen173nr-1DCAEoggJCAlhYSDNiBW5vcmVmaOcBiAEBmAEwuAEGyAEM2AED6AEBkgIBeagCAw&sid=25f3195cbf76726e8ffac861269a0d24&checkin_month=10&checkin_monthday=7&checkin_year=2017&checkout_month=10&checkout_monthday=11&checkout_year=2017&class_interval=1&dest_id=-235402&dest_type=city&group_adults=2&group_children=0&label_click=undef&no_rooms=1&raw_dest_type=city&room1=A%2CA&sb_price_type=total&src=index&src_elem=sb&ss=\"+str(location)+\"&ssb=empty&ssne=\"+str(location)+\"&ssne_untouched=\"+str(location)+\"&rows=50\"###+\"&sr_ajax=1&b_gtt=dLYAeZFVJfNTBdAHUdPHUBSSUVJfcbWYaNLDRCAET&_=1501050897864\"\n",
    "\n",
    "# cookie = {'Cookie':'zz_cook_tms_seg1=1; zz_cook_tms_seg3=5; header_signin_prompt=1; zz_cook_tms_ed=1; b1577f1603e12140d61ae5e8237aafdd=1; _ga=GA1.2.2067083198.1501046935; _gid=GA1.2.832559918.1501046935; BJS=-; has_preloaded=1; utag_main=v_id:015d7d5e90a50053be3f16ff21e80407200f506a00bd0$_sn:1$_ss:0$_st:1501063966716$4split:0$4split2:0$ses_id:1501046935719%3Bexp-session$_pn:24%3Bexp-session; bkng=11UmFuZG9tSVYkc2RlIyh9Yaa29%2F3xUOLbXpFeYC4TUhAJbaRO0jw2RDQsK5U5lBnZtZNYGGQ5Gwk68y4W5EpWdnDv%2Bl0uPZZ%2BX1kzZwIkbIaPcI%2FOB5CMfmR4pBZuFxwalc68jMR7N166r7QJFNHMrgySfuLcxZhRTkuTBKFXoggwF0EKZ8wYuuOOmmdrqiT22TD6yXtx3e4%3D; lastSeen=0; _gat=1'}\n",
    "res = requests.get(url, headers = headers, cookies = cookie)\n",
    "soup = BeautifulSoup(res.text, 'lxml')\n",
    "soup.select(\".sr_item\")[5]\n",
    "# # 找總頁數\n",
    "# totPage = soup.select('#right')[0].find(lambda x: x.get('data-et-view') == 'TULQWNVLBLWIJDAOfUYdXaO:1')\n",
    "# pattern = \"找到\\s(\\d+)\\s間\" #找頁數用\n",
    "# totPage2 = re.findall(pattern, totPage.find('h1').text)\n",
    "# pageAmount = int(totPage2[0])\n",
    "# print(pageAmount/50)"
   ]
  },
  {
   "cell_type": "code",
   "execution_count": null,
   "metadata": {
    "collapsed": true
   },
   "outputs": [],
   "source": [
    "# 跑多頁\n",
    "# headers = {'User-Agent':'Mozilla/5.0 (Windows NT 6.1; Win64; x64) AppleWebKit/537.36 (KHTML, like Gecko) Chrome/59.0.3071.115 Safari/537.36'}\n",
    "\n",
    "location = '京都'\n",
    "### %E4%BA%AC%E9%83%BD ---> 京都\n",
    "url = \"https://www.booking.com/searchresults.zh-tw.html?aid=304142&label=gen173nr-1DCAEoggJCAlhYSDNiBW5vcmVmaOcBiAEBmAEwuAEGyAEM2AED6AEBkgIBeagCAw&sid=25f3195cbf76726e8ffac861269a0d24&checkin_month=10&checkin_monthday=7&checkin_year=2017&checkout_month=10&checkout_monthday=11&checkout_year=2017&class_interval=1&dest_id=-235402&dest_type=city&group_adults=2&group_children=0&label_click=undef&no_rooms=1&raw_dest_type=city&room1=A%2CA&sb_price_type=total&src=index&src_elem=sb&ss=\"+str(location)+\"&ssb=empty&ssne=\"+str(location)+\"&ssne_untouched=\"+str(location)+\"&rows=50\"###+\"&sr_ajax=1&b_gtt=dLYAeZFVJfNTBdAHUdPHUBSSUVJfcbWYaNLDRCAET&_=1501050897864\"\n",
    "\n",
    "# cookie = {'Cookie':'zz_cook_tms_seg1=1; zz_cook_tms_seg3=5; header_signin_prompt=1; zz_cook_tms_ed=1; b1577f1603e12140d61ae5e8237aafdd=1; _ga=GA1.2.2067083198.1501046935; _gid=GA1.2.832559918.1501046935; BJS=-; has_preloaded=1; utag_main=v_id:015d7d5e90a50053be3f16ff21e80407200f506a00bd0$_sn:1$_ss:0$_st:1501063966716$4split:0$4split2:0$ses_id:1501046935719%3Bexp-session$_pn:24%3Bexp-session; bkng=11UmFuZG9tSVYkc2RlIyh9Yaa29%2F3xUOLbXpFeYC4TUhAJbaRO0jw2RDQsK5U5lBnZtZNYGGQ5Gwk68y4W5EpWdnDv%2Bl0uPZZ%2BX1kzZwIkbIaPcI%2FOB5CMfmR4pBZuFxwalc68jMR7N166r7QJFNHMrgySfuLcxZhRTkuTBKFXoggwF0EKZ8wYuuOOmmdrqiT22TD6yXtx3e4%3D; lastSeen=0; _gat=1'}\n",
    "res = requests.get(url, headers = headers, cookies = cookie)\n",
    "soup = BeautifulSoup(res.text, 'lxml')\n",
    "\n",
    "# 找總頁數\n",
    "totPage = soup.select('#right')[0].find(lambda x: x.get('data-et-view') == 'TULQWNVLBLWIJDAOfUYdXaO:1')\n",
    "pattern = \"找到\\s(\\d+)\\s間\" #找頁數用\n",
    "totPage2 = re.findall(pattern, totPage.find('h1').text)\n",
    "pageAmount = int(totPage2[0])\n",
    "# pageAmount / 50筆  =  翻頁數\n",
    "turnPage = round(pageAmount/50)\n",
    "\n",
    "#\n",
    "\n",
    "dictBook = {}\n",
    "\n",
    "tot = 1\n",
    "print(\"pageAmount= \" + str(pageAmount))\n",
    "print(\"turnPage= \" + str(turnPage))\n",
    "for page in range(0, turnPage+1):\n",
    "    print(\"===\"*20+\"page:\" + str(page+1))\n",
    "    #offset表示從第幾筆開始，第一頁offset = 0；row表示一頁顯示幾筆。\n",
    "    offset = page*50\n",
    "    # 首頁和\n",
    "    #url2 = \"https://www.booking.com/searchresults.zh-tw.html?aid=304142&label=gen173nr-1DCAEoggJCAlhYSDNiBW5vcmVmaOcBiAEBmAEwuAEGyAEM2AED6AEBkgIBeagCAw&sid=25f3195cbf76726e8ffac861269a0d24&checkin_month=8&checkin_monthday=24&checkin_year=2017&checkout_month=8&checkout_monthday=27&checkout_year=2017&class_interval=1&dest_id=-235402&dest_type=city&group_adults=2&group_children=0&label_click=undef&no_rooms=1&raw_dest_type=city&room1=A%2CA&sb_price_type=total&src=index&src_elem=sb&ss=\"+str(location)+\"&ssb=empty&ssne=\"+str(location)+\"&ssne_untouched=%E4%BA%AC%E9%83%BD&rows=50\" + \"&offset=\" + str(offset)###+\"&sr_ajax=1&b_gtt=dLYAeZFVJfNTBdAHUdPHUBSSUVJfcbWYaNLDRCAET&_=1501050897864\"    \n",
    "    url2 = \"https://www.booking.com/searchresults.zh-tw.html?label=gen173nr-1DCAEoggJCAlhYSDNiBW5vcmVmaOcBiAEBmAEwuAEGyAEM2AED6AEBkgIBeagCAw&sid=4996667e149bfae490c17f2eb37eafa9&checkin_month=10&checkin_monthday=7&checkin_year=2017&checkout_month=10&checkout_monthday=11&checkout_year=2017&class_interval=1&dest_id=-235402&dest_type=city&dtdisc=0&group_adults=2&group_children=0&inac=0&index_postcard=0&label_click=undef&no_rooms=1&postcard=0&raw_dest_type=city&room1=A%2CA&sb_price_type=total&src=index&src_elem=sb&ss=\"+str(location)+\"&ss_all=0&ssb=empty&sshis=0&ssne=\"+str(location)+\"&ssne_untouched=\"+str(location)+\"&rows=50&offset=\"+ str(offset)### + \"&sr_ajax=1&b_gtt=dLYAeZFVJfNTBdAHUdHPGZDfIfVNASUcbTYWPJLO&_=1501678454525\"        \n",
    "    \n",
    "    \n",
    "    res2 = requests.get(url2, headers = headers, cookies = cookie)\n",
    "    soup2 = BeautifulSoup(res2.text, 'lxml')\n",
    "    items = soup2.select(\".sr_item\")\n",
    "    x = 1\n",
    "    for item in items:\n",
    "        print(\"Total count:\" + str(tot)); tot+=1\n",
    "        print(\"# in this page:\" + str(x)); x+=1\n",
    "        name = item.select(\".sr-hotel__name\")[0].text\n",
    "        print(name.strip())   \n",
    "        if \"TWD\" not in item.select('.sr_rooms_table_block')[0].text: \n",
    "            print(\"--------> \" + \" Sell Out!!!\")\n",
    "            dictBook[name.strip()] = \"Sell Out!!\"\n",
    "        else:\n",
    "            target = item.select('.sr_rooms_table_block')[0].select('strong > b')[0].text\n",
    "            print(\"--------> \" + target)\n",
    "            dictBook[name.strip()] = re.findall(\"TWD\\s(\\w+,\\w+$)\", target)[0]\n",
    "#             ii = item.select('.sr_rooms_table_block')[0].select('strong > b')[0]\n",
    "#             rr = re.findall(\"TWD\\s(\\w+,\\w+$)\", ii.text)\n",
    "# #         if x%3 == 0:\n",
    "# #         time.sleep(1);\n",
    "#             print(rr)\n"
   ]
  },
  {
   "cell_type": "code",
   "execution_count": null,
   "metadata": {
    "collapsed": true
   },
   "outputs": [],
   "source": [
    "str(dictBook)"
   ]
  },
  {
   "cell_type": "code",
   "execution_count": null,
   "metadata": {
    "collapsed": true
   },
   "outputs": [],
   "source": [
    "# 要搭配 NPY file viewer\n",
    "# numpy.save('dictBook', dict)"
   ]
  },
  {
   "cell_type": "code",
   "execution_count": null,
   "metadata": {
    "collapsed": true
   },
   "outputs": [],
   "source": [
    "# 寫入 txt 檔案 BookingList\n",
    "with open('BookingList.txt', 'w', encoding = 'UTF-8') as f:\n",
    "        f.write(str(dictBook))"
   ]
  },
  {
   "cell_type": "code",
   "execution_count": 5,
   "metadata": {},
   "outputs": [
    {
     "name": "stdout",
     "output_type": "stream",
     "text": [
      "pageAmount= 511\n",
      "turnPage= 10\n",
      "============================================================page:1\n"
     ]
    },
    {
     "ename": "TypeError",
     "evalue": "write() argument must be str, not list",
     "output_type": "error",
     "traceback": [
      "\u001b[1;31m---------------------------------------------------------------------------\u001b[0m",
      "\u001b[1;31mTypeError\u001b[0m                                 Traceback (most recent call last)",
      "\u001b[1;32m<ipython-input-5-de3fc361b25d>\u001b[0m in \u001b[0;36m<module>\u001b[1;34m()\u001b[0m\n\u001b[0;32m     30\u001b[0m     \u001b[0mitems\u001b[0m \u001b[1;33m=\u001b[0m \u001b[0msoup2\u001b[0m\u001b[1;33m.\u001b[0m\u001b[0mselect\u001b[0m\u001b[1;33m(\u001b[0m\u001b[1;34m\".sr_item\"\u001b[0m\u001b[1;33m)\u001b[0m\u001b[1;33m\u001b[0m\u001b[0m\n\u001b[0;32m     31\u001b[0m     \u001b[1;32mwith\u001b[0m \u001b[0mopen\u001b[0m\u001b[1;33m(\u001b[0m\u001b[1;34m'BookingCrawl{}-{}-{}-Page{}.txt'\u001b[0m\u001b[1;33m.\u001b[0m\u001b[0mformat\u001b[0m\u001b[1;33m(\u001b[0m\u001b[0mtime\u001b[0m\u001b[1;33m.\u001b[0m\u001b[0mlocaltime\u001b[0m\u001b[1;33m(\u001b[0m\u001b[1;33m)\u001b[0m\u001b[1;33m.\u001b[0m\u001b[0mtm_mon\u001b[0m\u001b[1;33m,\u001b[0m\u001b[0mtime\u001b[0m\u001b[1;33m.\u001b[0m\u001b[0mlocaltime\u001b[0m\u001b[1;33m(\u001b[0m\u001b[1;33m)\u001b[0m\u001b[1;33m.\u001b[0m\u001b[0mtm_mday\u001b[0m\u001b[1;33m,\u001b[0m \u001b[0mtime\u001b[0m\u001b[1;33m.\u001b[0m\u001b[0mlocaltime\u001b[0m\u001b[1;33m(\u001b[0m\u001b[1;33m)\u001b[0m\u001b[1;33m.\u001b[0m\u001b[0mtm_hour\u001b[0m\u001b[1;33m,\u001b[0m \u001b[0mpage\u001b[0m\u001b[1;33m+\u001b[0m\u001b[1;36m1\u001b[0m \u001b[1;33m)\u001b[0m\u001b[1;33m,\u001b[0m \u001b[1;34m'w'\u001b[0m\u001b[1;33m,\u001b[0m \u001b[0mencoding\u001b[0m \u001b[1;33m=\u001b[0m \u001b[1;34m'UTF-8'\u001b[0m\u001b[1;33m)\u001b[0m \u001b[1;32mas\u001b[0m \u001b[0mf\u001b[0m\u001b[1;33m:\u001b[0m\u001b[1;33m\u001b[0m\u001b[0m\n\u001b[1;32m---> 32\u001b[1;33m         \u001b[0mf\u001b[0m\u001b[1;33m.\u001b[0m\u001b[0mwrite\u001b[0m\u001b[1;33m(\u001b[0m\u001b[0mitems\u001b[0m\u001b[1;33m)\u001b[0m\u001b[1;33m\u001b[0m\u001b[0m\n\u001b[0m",
      "\u001b[1;31mTypeError\u001b[0m: write() argument must be str, not list"
     ]
    }
   ],
   "source": [
    "# 輸出每頁html\n",
    "# 跑多頁\n",
    "location = '京都'\n",
    "### %E4%BA%AC%E9%83%BD ---> 京都\n",
    "url = \"https://www.booking.com/searchresults.zh-tw.html?aid=304142&label=gen173nr-1DCAEoggJCAlhYSDNiBW5vcmVmaOcBiAEBmAEwuAEGyAEM2AED6AEBkgIBeagCAw&sid=25f3195cbf76726e8ffac861269a0d24&checkin_month=10&checkin_monthday=7&checkin_year=2017&checkout_month=10&checkout_monthday=11&checkout_year=2017&class_interval=1&dest_id=-235402&dest_type=city&group_adults=2&group_children=0&label_click=undef&no_rooms=1&raw_dest_type=city&room1=A%2CA&sb_price_type=total&src=index&src_elem=sb&ss=\"+str(location)+\"&ssb=empty&ssne=\"+str(location)+\"&ssne_untouched=\"+str(location)+\"&rows=50\"###+\"&sr_ajax=1&b_gtt=dLYAeZFVJfNTBdAHUdPHUBSSUVJfcbWYaNLDRCAET&_=1501050897864\"\n",
    "res = requests.get(url, headers = headers, cookies = cookie)\n",
    "soup = BeautifulSoup(res.text, 'lxml')\n",
    "\n",
    "# 找總頁數\n",
    "totPage = soup.select('#right')[0].find(lambda x: x.get('data-et-view') == 'TULQWNVLBLWIJDAOfUYdXaO:1')\n",
    "pattern = \"找到\\s(\\d+)\\s間\" #找頁數用\n",
    "totPage2 = re.findall(pattern, totPage.find('h1').text)\n",
    "pageAmount = int(totPage2[0])\n",
    "# pageAmount / 50筆  =  翻頁數\n",
    "turnPage = round(pageAmount/50)\n",
    "tot = 1\n",
    "print(\"pageAmount= \" + str(pageAmount))\n",
    "print(\"turnPage= \" + str(turnPage))\n",
    "for page in range(0, turnPage+1):\n",
    "    print(\"===\"*20+\"page:\" + str(page+1))\n",
    "    #offset表示從第幾筆開始，第一頁offset = 0；row表示一頁顯示幾筆。\n",
    "    offset = page*50\n",
    "    # 首頁和\n",
    "    #url2 = \"https://www.booking.com/searchresults.zh-tw.html?aid=304142&label=gen173nr-1DCAEoggJCAlhYSDNiBW5vcmVmaOcBiAEBmAEwuAEGyAEM2AED6AEBkgIBeagCAw&sid=25f3195cbf76726e8ffac861269a0d24&checkin_month=8&checkin_monthday=24&checkin_year=2017&checkout_month=8&checkout_monthday=27&checkout_year=2017&class_interval=1&dest_id=-235402&dest_type=city&group_adults=2&group_children=0&label_click=undef&no_rooms=1&raw_dest_type=city&room1=A%2CA&sb_price_type=total&src=index&src_elem=sb&ss=\"+str(location)+\"&ssb=empty&ssne=\"+str(location)+\"&ssne_untouched=%E4%BA%AC%E9%83%BD&rows=50\" + \"&offset=\" + str(offset)###+\"&sr_ajax=1&b_gtt=dLYAeZFVJfNTBdAHUdPHUBSSUVJfcbWYaNLDRCAET&_=1501050897864\"    \n",
    "    url2 = \"https://www.booking.com/searchresults.zh-tw.html?label=gen173nr-1DCAEoggJCAlhYSDNiBW5vcmVmaOcBiAEBmAEwuAEGyAEM2AED6AEBkgIBeagCAw&sid=4996667e149bfae490c17f2eb37eafa9&checkin_month=10&checkin_monthday=7&checkin_year=2017&checkout_month=10&checkout_monthday=11&checkout_year=2017&class_interval=1&dest_id=-235402&dest_type=city&dtdisc=0&group_adults=2&group_children=0&inac=0&index_postcard=0&label_click=undef&no_rooms=1&postcard=0&raw_dest_type=city&room1=A%2CA&sb_price_type=total&src=index&src_elem=sb&ss=\"+str(location)+\"&ss_all=0&ssb=empty&sshis=0&ssne=\"+str(location)+\"&ssne_untouched=\"+str(location)+\"&rows=50&offset=\"+ str(offset)### + \"&sr_ajax=1&b_gtt=dLYAeZFVJfNTBdAHUdHPGZDfIfVNASUcbTYWPJLO&_=1501678454525\"        \n",
    "    \n",
    "    \n",
    "    res2 = requests.get(url2, headers = headers, cookies = cookie)\n",
    "    soup2 = BeautifulSoup(res2.text, 'lxml')\n",
    "    items = soup2.select(\".sr_item\")\n",
    "    with open('BookingCrawl{}-{}-{}-Page{}.txt'.format(time.localtime().tm_mon,time.localtime().tm_mday, time.localtime().tm_hour, page+1 ), 'w', encoding = 'UTF-8') as f:\n",
    "        f.write(str(items).strip('[]'))"
   ]
  },
  {
   "cell_type": "code",
   "execution_count": 3,
   "metadata": {},
   "outputs": [
    {
     "data": {
      "text/plain": [
       "8"
      ]
     },
     "execution_count": 3,
     "metadata": {},
     "output_type": "execute_result"
    }
   ],
   "source": [
    "time.localtime().tm_hour"
   ]
  },
  {
   "cell_type": "code",
   "execution_count": null,
   "metadata": {
    "collapsed": true
   },
   "outputs": [],
   "source": []
  }
 ],
 "metadata": {
  "kernelspec": {
   "display_name": "Python 3",
   "language": "python",
   "name": "python3"
  },
  "language_info": {
   "codemirror_mode": {
    "name": "ipython",
    "version": 3
   },
   "file_extension": ".py",
   "mimetype": "text/x-python",
   "name": "python",
   "nbconvert_exporter": "python",
   "pygments_lexer": "ipython3",
   "version": "3.6.1"
  }
 },
 "nbformat": 4,
 "nbformat_minor": 2
}
