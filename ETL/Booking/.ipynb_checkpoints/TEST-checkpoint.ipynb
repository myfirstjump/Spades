{
 "cells": [
  {
   "cell_type": "code",
   "execution_count": 46,
   "metadata": {
    "collapsed": true
   },
   "outputs": [],
   "source": [
    "import requests\n",
    "import time\n",
    "from bs4 import BeautifulSoup\n",
    "from collections import Counter\n",
    "import re"
   ]
  },
  {
   "cell_type": "code",
   "execution_count": 47,
   "metadata": {
    "collapsed": true
   },
   "outputs": [],
   "source": [
    "data = {'aid':304142,\n",
    "'label':'gen173nr-1DCAEoggJCAlhYSDNiBW5vcmVmaOcBiAEBmAEwuAEGyAEM2AED6AEBkgIBeagCAw',\n",
    "'sid':'25f3195cbf76726e8ffac861269a0d24',\n",
    "'checkin_month':8,\n",
    "'checkin_monthday':24,\n",
    "'checkin_year':2017,\n",
    "'checkout_month':8,\n",
    "'checkout_monthday':27,\n",
    "'checkout_year':2017,\n",
    "'class_interval':1,\n",
    "'dest_id':-235402,\n",
    "'dest_type':'city',\n",
    "'dtdisc':0,\n",
    "'group_adults':2,\n",
    "'group_children':0,\n",
    "'inac':0,\n",
    "'index_postcard':0,\n",
    "'label_click':'undef',\n",
    "'no_rooms':1,\n",
    "'postcard':0,\n",
    "'raw_dest_type':'city',\n",
    "'room1':'A,A',\n",
    "'sb_price_type':'total',\n",
    "'src':'index',\n",
    "'src_elem':'sb',\n",
    "'ss':'京都',\n",
    "'ss_all':0,\n",
    "'ssb':'empty',\n",
    "'sshis':0,\n",
    "'ssne':'京都',\n",
    "'ssne_untouched':'京都',\n",
    "'rows':40,\n",
    "'offset':40,\n",
    "'sr_ajax':1,\n",
    "'b_gtt':'dLYAeZFVJfNTBdAHUdPHUBSSUVJfcbWYaNLDRCAET',\n",
    "'_':1501060181667}"
   ]
  },
  {
   "cell_type": "code",
   "execution_count": 48,
   "metadata": {
    "collapsed": true
   },
   "outputs": [],
   "source": [
    "cookie = {'Cookie':'zz_cook_tms_seg1=1; zz_cook_tms_seg3=5; header_signin_prompt=1; zz_cook_tms_ed=1; b1577f1603e12140d61ae5e8237aafdd=1; _ga=GA1.2.2067083198.1501046935; _gid=GA1.2.832559918.1501046935; BJS=-; has_preloaded=1; utag_main=v_id:015d7d5e90a50053be3f16ff21e80407200f506a00bd0$_sn:1$_ss:0$_st:1501063966716$4split:0$4split2:0$ses_id:1501046935719%3Bexp-session$_pn:24%3Bexp-session; bkng=11UmFuZG9tSVYkc2RlIyh9YfDNyGw8J7nzPnUG3Pr%2Bfv5IP%2FgNoyK0ntemXCDrSx%2FNQiovwPBBOoSUWAO0z9OynWDIbkBUXRY9tbJ8J5XtZ2D%2Ft8gWGoF3tivcrjOBL25%2Fy0uY%2Fvv7xGQzkCOEM%2FHIWTJUQaQy0wG28IyTfW%2F4itrYlp7tTUA5%2BaTqraLdpsxaJGp4YY9zMUDNMX5mfTyUhw%3D%3D; lastSeen=0; _gat=1'}"
   ]
  },
  {
   "cell_type": "code",
   "execution_count": 49,
   "metadata": {},
   "outputs": [
    {
     "data": {
      "text/plain": []
     },
     "execution_count": 49,
     "metadata": {},
     "output_type": "execute_result"
    }
   ],
   "source": [
    "offset = 80\n",
    "headers = {'User-Agent':'Mozilla/5.0 (Windows NT 6.1; Win64; x64) AppleWebKit/537.36 (KHTML, like Gecko) Chrome/59.0.3071.115 Safari/537.36'}\n",
    "\n",
    "url2 = \"https://www.booking.com/searchresults.zh-tw.html?aid=304142&label=gen173nr-1DCAEoggJCAlhYSDNiBW5vcmVmaOcBiAEBmAEwuAEGyAEM2AED6AEBkgIBeagCAw&sid=25f3195cbf76726e8ffac861269a0d24&checkin_month=8&checkin_monthday=24&checkin_year=2017&checkout_month=8&checkout_monthday=27&checkout_year=2017&class_interval=1&dest_id=-235402&dest_type=city&group_adults=2&group_children=0&label_click=undef&no_rooms=1&raw_dest_type=city&room1=A%2CA&sb_price_type=total&src=index&src_elem=sb&ss=%E4%BA%AC%E9%83%BD&ssb=empty&ssne=%E4%BA%AC%E9%83%BD&ssne_untouched=%E4%BA%AC%E9%83%BD&offset=\"+str(offset)+\"&sr_ajax=1&b_gtt=dLYAeZFVJfNTBdAHUdPHUBSSUVJfcbWYaNLDRCAET&_=1501050897864\"\n",
    "res2 = requests.get(url2, headers = headers, data=data, cookies = cookie)\n",
    "soup2 = BeautifulSoup(res2.text, 'lxml')\n",
    "soup2"
   ]
  },
  {
   "cell_type": "code",
   "execution_count": 50,
   "metadata": {
    "scrolled": true
   },
   "outputs": [
    {
     "ename": "IndexError",
     "evalue": "list index out of range",
     "output_type": "error",
     "traceback": [
      "\u001b[1;31m---------------------------------------------------------------------------\u001b[0m",
      "\u001b[1;31mIndexError\u001b[0m                                Traceback (most recent call last)",
      "\u001b[1;32m<ipython-input-50-e109ac66a4fe>\u001b[0m in \u001b[0;36m<module>\u001b[1;34m()\u001b[0m\n\u001b[1;32m----> 1\u001b[1;33m \u001b[0msoup2\u001b[0m\u001b[1;33m.\u001b[0m\u001b[0mselect\u001b[0m\u001b[1;33m(\u001b[0m\u001b[1;34m'.sr_rooms_table_block'\u001b[0m\u001b[1;33m)\u001b[0m\u001b[1;33m[\u001b[0m\u001b[1;36m45\u001b[0m\u001b[1;33m]\u001b[0m\u001b[1;33m.\u001b[0m\u001b[0mselect\u001b[0m\u001b[1;33m(\u001b[0m\u001b[1;34m'strong'\u001b[0m\u001b[1;33m)\u001b[0m\u001b[1;33m\u001b[0m\u001b[0m\n\u001b[0m",
      "\u001b[1;31mIndexError\u001b[0m: list index out of range"
     ]
    }
   ],
   "source": [
    "soup2.select('.sr_rooms_table_block')[45].select('strong')"
   ]
  },
  {
   "cell_type": "code",
   "execution_count": null,
   "metadata": {
    "collapsed": true
   },
   "outputs": [],
   "source": []
  },
  {
   "cell_type": "code",
   "execution_count": null,
   "metadata": {
    "collapsed": true
   },
   "outputs": [],
   "source": [
    "import requests\n",
    "import time\n",
    "from bs4 import BeautifulSoup\n",
    "from collections import Counter\n",
    "import re\n",
    "\n",
    "\n",
    "rq_cookie = {'Cookie':'zz_cook_tms_seg1=1; zz_cook_tms_seg3=5; header_signin_prompt=1; zz_cook_tms_ed=1; b1577f1603e12140d61ae5e8237aafdd=1; _ga=GA1.2.2067083198.1501046935; _gid=GA1.2.832559918.1501046935; BJS=-; has_preloaded=1; utag_main=v_id:015d7d5e90a50053be3f16ff21e80407200f506a00bd0$_sn:1$_ss:0$_st:1501063966716$4split:0$4split2:0$ses_id:1501046935719%3Bexp-session$_pn:24%3Bexp-session; bkng=11UmFuZG9tSVYkc2RlIyh9YfDNyGw8J7nzPnUG3Pr%2Bfv5IP%2FgNoyK0ntemXCDrSx%2FNQiovwPBBOoSUWAO0z9OynWDIbkBUXRY9tbJ8J5XtZ2D%2Ft8gWGoF3tivcrjOBL25%2Fy0uY%2Fvv7xGQzkCOEM%2FHIWTJUQaQy0wG28IyTfW%2F4itrYlp7tTUA5%2BaTqraLdpsxaJGp4YY9zMUDNMX5mfTyUhw%3D%3D; lastSeen=0; _gat=1'}\n",
    "\n"
   ]
  },
  {
   "cell_type": "code",
   "execution_count": null,
   "metadata": {
    "collapsed": true
   },
   "outputs": [],
   "source": []
  },
  {
   "cell_type": "code",
   "execution_count": 45,
   "metadata": {},
   "outputs": [
    {
     "data": {
      "text/plain": [
       "{'Server': 'nginx', 'Date': 'Wed, 26 Jul 2017 11:05:22 GMT', 'Content-Type': 'text/html; charset=UTF-8', 'Content-Length': '113337', 'Cache-Control': 'private', 'Vary': 'Accept-Encoding, User-Agent', 'Content-Encoding': 'gzip', 'Set-Cookie': 'bkng=11UmFuZG9tSVYkc2RlIyh9Yaa29%2F3xUOLbbmD9q%2B5pe3XLv6oH3Hq5KFpgQLknADmZNP5qxm5LjU6vHUzS2hmW46hncP3Z81yMP2PKIRy4GGd%2ByppghTSTuvQE5rzw99kvSSI0IpEY477hOhubow1OuKsjryDSrMMn3mAHfU9d6WikWbExZztdWnBVjj5XvFkeNPNL91sFx3M%3D; domain=.booking.com; path=/; expires=Mon, 25-Jul-2022 11:05:22 GMT; Secure; HTTPOnly', 'Strict-Transport-Security': 'max-age=604800', 'X-Content-Type-Options': 'nosniff', 'X-Recruiting': 'Like HTTP headers? Come write ours: https://workingatbooking.com', 'X-XSS-Protection': '1; mode=block'}"
      ]
     },
     "execution_count": 45,
     "metadata": {},
     "output_type": "execute_result"
    }
   ],
   "source": [
    "import requests\n",
    "from bs4 import BeautifulSoup\n",
    "from requests import Session\n",
    "\n",
    "url = \"https://www.booking.com/searchresults.zh-tw.html?aid=304142&label=gen173nr-1DCAEoggJCAlhYSDNiBW5vcmVmaOcBiAEBmAEwuAEGyAEM2AED6AEBkgIBeagCAw&sid=25f3195cbf76726e8ffac861269a0d24&checkin_month=8&checkin_monthday=24&checkin_year=2017&checkout_month=8&checkout_monthday=27&checkout_year=2017&class_interval=1&dest_id=-235402&dest_type=city&group_adults=2&group_children=0&label_click=undef&no_rooms=1&raw_dest_type=city&room1=A%2CA&sb_price_type=total&src=index&src_elem=sb&ss=%E4%BA%AC%E9%83%BD&ssb=empty&ssne=%E4%BA%AC%E9%83%BD&ssne_untouched=%E4%BA%AC%E9%83%BD&offset=80&sr_ajax=1&b_gtt=dLYAeZFVJfNTBdAHUdPHUBSSUVJfcbWYaNLDRCAET&_=1501050897864\"\n",
    "\n",
    "rs = Session()\n",
    "\n",
    "res = requests.get(url).headers\n",
    "res\n",
    "# soup = BeautifulSoup(res.text, 'lxml')\n",
    "\n",
    "# soup.text"
   ]
  },
  {
   "cell_type": "code",
   "execution_count": 40,
   "metadata": {},
   "outputs": [
    {
     "name": "stdout",
     "output_type": "stream",
     "text": [
      "\n"
     ]
    }
   ],
   "source": [
    "print(res.text)"
   ]
  }
 ],
 "metadata": {
  "kernelspec": {
   "display_name": "Python 3",
   "language": "python",
   "name": "python3"
  },
  "language_info": {
   "codemirror_mode": {
    "name": "ipython",
    "version": 3
   },
   "file_extension": ".py",
   "mimetype": "text/x-python",
   "name": "python",
   "nbconvert_exporter": "python",
   "pygments_lexer": "ipython3",
   "version": "3.6.1"
  }
 },
 "nbformat": 4,
 "nbformat_minor": 2
}
