{
 "cells": [
  {
   "cell_type": "code",
   "execution_count": 1,
   "metadata": {
    "collapsed": true
   },
   "outputs": [],
   "source": [
    "# import lib\n",
    "from datetime import datetime, timedelta, date\n",
    "import requests\n",
    "from bs4 import BeautifulSoup\n",
    "import re\n",
    "import time\n",
    "import os\n",
    "import json"
   ]
  },
  {
   "cell_type": "code",
   "execution_count": 12,
   "metadata": {
    "collapsed": true
   },
   "outputs": [],
   "source": [
    "# Settings\n",
    "surveyRange = 1\n",
    "travelPeriod = 4"
   ]
  },
  {
   "cell_type": "code",
   "execution_count": 13,
   "metadata": {
    "collapsed": true
   },
   "outputs": [],
   "source": [
    "# Date List \n",
    "# args: start date, survey range, travel period(days)\n",
    "# ex. [datetime.date(2017, 8, 7), datetime.date(2017, 8, 11)] ~ [datetime.date(2017, 9, 5), datetime.date(2017, 9, 9)]]\n",
    "def getDateList(dt = date.today(), ran = surveyRange, period = travelPeriod):\n",
    "    timeList = []\n",
    "    start = dt\n",
    "    end = start + timedelta(days = period)\n",
    "    for i in range(1, ran+1):  # i = 1 ~ ran\n",
    "        timeList.append([start, end])\n",
    "        start = start + timedelta(days = 1)\n",
    "        end = end + timedelta(days = 1) \n",
    "    return timeList\n",
    "timeList = getDateList()"
   ]
  },
  {
   "cell_type": "code",
   "execution_count": 14,
   "metadata": {},
   "outputs": [
    {
     "data": {
      "text/plain": [
       "int"
      ]
     },
     "execution_count": 14,
     "metadata": {},
     "output_type": "execute_result"
    }
   ],
   "source": [
    "type(timeList[0][0].day)"
   ]
  },
  {
   "cell_type": "code",
   "execution_count": 14,
   "metadata": {},
   "outputs": [
    {
     "data": {
      "text/plain": [
       "datetime.date(2017, 9, 15)"
      ]
     },
     "execution_count": 14,
     "metadata": {},
     "output_type": "execute_result"
    }
   ],
   "source": [
    "date(2017, 9, 15)"
   ]
  },
  {
   "cell_type": "code",
   "execution_count": 15,
   "metadata": {},
   "outputs": [
    {
     "data": {
      "text/plain": [
       "[[datetime.date(2017, 8, 10), datetime.date(2017, 8, 14)]]"
      ]
     },
     "execution_count": 15,
     "metadata": {},
     "output_type": "execute_result"
    }
   ],
   "source": [
    "timeList"
   ]
  },
  {
   "cell_type": "code",
   "execution_count": 16,
   "metadata": {
    "collapsed": true
   },
   "outputs": [],
   "source": [
    "# Date List components\n",
    "checkinM = []\n",
    "checkinD = []\n",
    "checkinY = []\n",
    "checkoutM = []\n",
    "checkoutD = []\n",
    "checkoutY = []\n",
    "for i in timeList:\n",
    "    checkinM.append(i[0].month)\n",
    "    checkinD.append(i[0].day)\n",
    "    checkinY.append(i[0].year)\n",
    "    checkoutM.append(i[1].month)\n",
    "    checkoutD.append(i[1].day)\n",
    "    checkoutY.append(i[1].year)"
   ]
  },
  {
   "cell_type": "code",
   "execution_count": 17,
   "metadata": {
    "collapsed": true
   },
   "outputs": [],
   "source": [
    "# headers\n",
    "# cookies\n",
    "# location\n",
    "headers = {'User-Agent':'Mozilla/5.0 (Windows NT 6.1; Win64; x64) AppleWebKit/537.36 (KHTML, like Gecko) Chrome/59.0.3071.115 Safari/537.36'}\n",
    "cookie = {\"Cookie\":\"zz_cook_tms_seg1=1; zz_cook_tms_seg3=7; _gat=1; header_signin_prompt=1; _ga=GA1.2.2061587162.1502107968; _gid=GA1.2.1368567341.1502207499; vpmss=1; BJS=-; utag_main=v_id:015dbc9ca2c900457102ac7642380407300bf06b00978$_sn:3$_ss:0$_st:1502209330403$4split:0$4split2:0$ses_id:1502207499368%3Bexp-session$_pn:2%3Bexp-session; zz_cook_tms_ed=1; bkng=11UmFuZG9tSVYkc2RlIyh9YfDNyGw8J7nzPnUG3Pr%2Bfv4q%2B9bLazBCalm3TAWoGMhoYgMOf0ZOfk1%2BI7umU98E%2B3dYurtPpy5%2BtAs6MLqAgwnjcsaP8FHbHQTv0oYODpE3msrUIyWOgJt1iyMa7spZzfjyOl1xnXXpiSjbArMsfEHQFOBmiBO8AJz62nARE1ykA2Pclm%2BNDQmmOVZEJba%2BgA%3D%3D; lastSeen=0\"}\n",
    "location = '京都'"
   ]
  },
  {
   "cell_type": "code",
   "execution_count": 18,
   "metadata": {
    "collapsed": true
   },
   "outputs": [],
   "source": [
    "# Pages amount for each travel period.  \n",
    "# ex. numHotelList = [ ['145'], ['160'], ['167'], ['203'], ['239'], ['294'], ['353'], ['371'], ... increasing by date to date\n",
    "\n",
    "pagesList = []\n",
    "numHotelList = []\n",
    "turnPageList = []\n",
    "for i in range(1, surveyRange+1): # i = 1 ~ surveyRange\n",
    "    # url位址為XHR文件中的searchresults，去除AJAX部分\n",
    "    url = \"https://www.booking.com/searchresults.zh-tw.html?aid=304142&label=gen173nr-1DCAEoggJCAlhYSDNiBW5vcmVmaOcBiAEBmAEwuAEGyAEM2AED6AEBkgIBeagCAw&sid=25f3195cbf76726e8ffac861269a0d24&checkin_month=\"+str(checkinM[i-1])+\"&checkin_monthday=\"+str(checkinD[i-1])+\"&checkin_year=\"+str(checkinY[i-1])+\"&checkout_month=\"+str(checkoutM[i-1])+\"&checkout_monthday=\"+str(checkoutD[i-1])+\"&checkout_year=\"+str(checkoutY[i-1])+\"&class_interval=1&dest_id=-235402&dest_type=city&group_adults=2&group_children=0&label_click=undef&no_rooms=1&raw_dest_type=city&room1=A%2CA&sb_price_type=total&src=index&src_elem=sb&ss=\"+str(location)+\"&ssb=empty&ssne=\"+str(location)+\"&ssne_untouched=\"+str(location)+\"&rows=50\"###+\"&sr_ajax=1&b_gtt=dLYAeZFVJfNTBdAHUdPHUBSSUVJfcbWYaNLDRCAET&_=1501050897864\"\n",
    "    res = requests.get(url, headers = headers, cookies = cookie)\n",
    "    soup = BeautifulSoup(res.text, 'lxml')\n",
    "    \n",
    "    # 找總頁數\n",
    "    clue1 = soup.select('#right')[0].find(lambda x: x.get('data-et-view') == 'TULQWNVLBLWIJDAOfUYdXaO:1')\n",
    "    pattern = \"找到\\s(\\d+)\\s間\" #找頁數用\n",
    "    numHotelText = re.findall(pattern, clue1.find('h1').text)\n",
    "    # 這區間共幾間hotel\n",
    "    numHotel = int(numHotelText[0])\n",
    "    # numHotel / 一頁有50筆  =  翻頁數\n",
    "    turnPage = round(numHotel/50)\n",
    "    # append to lists\n",
    "    pagesList.append(numHotel)\n",
    "    turnPageList.append(turnPage)"
   ]
  },
  {
   "cell_type": "code",
   "execution_count": 38,
   "metadata": {
    "scrolled": true
   },
   "outputs": [
    {
     "name": "stdout",
     "output_type": "stream",
     "text": [
      "====================================================================================================\n",
      "period: 1\n",
      "this is page: 1 from total 1\n",
      "[{\"ChiName\": \"京都四條烏丸UNIZO酒店\", \"EngName\": \"HOTEL UNIZO KYOTO SHIJO KARASUMA\"}, {\"ChiName\": \"京都站堀川通阿帕酒店\", \"EngName\": \"APA HOTEL KYOTO-EKI HORIKAWA-DORI\"}, {\"ChiName\": \"波德京都膠囊旅館\", \"EngName\": \"THE PRIME POD KYOTO\"}, {\"ChiName\": \"京都站前大和魯內酒店\", \"EngName\": \"DAIWA ROYNET HOTEL KYOTO EKIMAE\"}, {\"ChiName\": \"京都索拉利亞西鐵尊貴酒店\", \"EngName\": \"SOLARIA NISHITETSU HOTEL KYOTO PREMIER\"}, {\"ChiName\": \"密斯普拉斯杰奧米雅酒店\", \"EngName\": \"HOTEL M'S PLUS SHIJO OMIYA\"}, {\"ChiName\": \"京都皇家SPA飯店\", \"EngName\": \"KYOTO ROYAL HOTEL & SPA\"}, {\"ChiName\": \"京都蘭威特酒店\", \"EngName\": \"ARANVERT HOTEL KYOTO\"}, {\"ChiName\": \"京都三條三井花園飯店\", \"EngName\": \"MITSUI GARDEN HOTEL KYOTO SANJO\"}, {\"ChiName\": \"京都格蘭王子大飯店\", \"EngName\": \"GRAND PRINCE HOTEL KYOTO\"}, {\"ChiName\": \"京都花園皇宮酒店\", \"EngName\": \"KYOTO GARDEN PALACE\"}, {\"ChiName\": \"京都二條溢價城市酒店\", \"EngName\": \"URBAN HOTEL KYOTO NIJO PREMIUM\"}, {\"ChiName\": \"京都河原町四條酒店\", \"EngName\": \"UNIZO INN KYOTO KAWARAMACHI SHIJO\"}, {\"ChiName\": \"日航國際酒店\", \"EngName\": \"HOTEL NIKKO PRINCESS KYOTO\"}, {\"ChiName\": \"京都麗思卡爾頓酒店\", \"EngName\": \"THE RITZ-CARLTON KYOTO\"}, {\"ChiName\": \"京都祗園酒店\", \"EngName\": \"KYOTO INN GION\"}, {\"ChiName\": \"京都水晶門情趣酒店（僅限成人）\", \"EngName\": \"HOTEL CRYSTAL GATE KYOTO (ADULT ONLY)\"}, {\"ChiName\": \"京都亞克酒店\", \"EngName\": \"ARK HOTEL KYOTO\"}, {\"ChiName\": \"APA京都站前別墅酒店\", \"EngName\": \"APA VILLA HOTEL KYOTO EKIMAE\"}, {\"ChiName\": \"京都諾庫酒店\", \"EngName\": \"NOKU KYOTO\"}, {\"ChiName\": \"京都御所西侧君艾酒店\", \"EngName\": \"THE JUNEI HOTEL KYOTO IMPERIAL PALACE WEST\"}, {\"ChiName\": \"京都格蘭愛慕斯酒店\", \"EngName\": \"HOTEL GRAN MS KYOTO\"}, {\"ChiName\": \"京都八條口相鐵弗雷薩經濟型酒店\", \"EngName\": \"SOTETSU FRESA INN KYOTO-HACHIJOGUCHI\"}, {\"ChiName\": \"京都科米卡普膠囊旅館\", \"EngName\": \"COMICAP KYOTO\"}, {\"ChiName\": \"BJ家庭旅館\", \"EngName\": \"BJ FAMILY INN\"}, {\"ChiName\": \"京都嵯峨太陽成員酒店\", \"EngName\": \"SUN MEMBERS KYOTO SAGA\"}, {\"ChiName\": \"日昇套房酒店\", \"EngName\": \"SUNRISE SUITES\"}, {\"ChiName\": \"第一艙京都烏丸\", \"EngName\": \"FIRST CABIN KYOTO KARASUMA\"}, {\"ChiName\": \"京都南部花園精品酒店（僅限成人入住）\", \"EngName\": \"HOTEL FINE GARDEN KYOTO MINAMI (ADULT ONLY)\"}, {\"ChiName\": \"京都9小時旅館\", \"EngName\": \"NINE HOURS KYOTO\"}, {\"ChiName\": \"京都廣場膠囊旅館\", \"EngName\": \"CAPSULE RESORT KYOTO SQUARE\"}, {\"ChiName\": \"京都三条格拉斯丽酒店\", \"EngName\": \"HOTEL GRACERY KYOTO SANJO\"}, {\"ChiName\": \"京都KKR庫尼索酒店\", \"EngName\": \"KKR KYOTO KUNISO\"}, {\"ChiName\": \"京都岡崎精品大酒店（僅限成人）\", \"EngName\": \"HOTEL GRAND FINE KYOTO OKAZAKI (ADULT ONLY)\"}, {\"ChiName\": \"NA\", \"EngName\": \"HOTEL SAGANO (ADULT ONLY)\"}, {\"ChiName\": \"東寺陶醉附屬旅館\", \"EngName\": \"MIHORERU ANNEX TOJI\"}, {\"ChiName\": \"愛瑞美特哥情趣酒店（僅限成人）\", \"EngName\": \"ERMITAGE (ADULT ONLY)\"}, {\"ChiName\": \"京都阿爾法情趣酒店（僅限成人）\", \"EngName\": \"HOTEL ALFA KYOTO (ADULT ONLY)\"}, {\"ChiName\": \"百花園酒店（僅限成人）\", \"EngName\": \"HOTEL JARDIN DE FLEURS (ADULT ONLY)\"}, {\"ChiName\": \"鵬圖酒店\", \"EngName\": \"HOTEL PONTO\"}, {\"ChiName\": \"京都酒店\", \"EngName\": \"CAPHOTEL KYOTO\"}, {\"ChiName\": \"馬賽克櫻花酒店（僅限成人）\", \"EngName\": \"SAKURA HOTEL MOSAIC (ADULT ONLY)\"}, {\"ChiName\": \"NA\", \"EngName\": \"MIYABI\"}, {\"ChiName\": \"NA\", \"EngName\": \"HOTEL IN THE MOOD\"}]\n"
     ]
    }
   ],
   "source": [
    "# for each period (ex. 10/7 ~ 10/11), grab the hotelList information\n",
    "start_time = time.time()\n",
    "HotelList = []\n",
    "x = \"test\"\n",
    "for i in range(1, surveyRange+1): # i = 1 ~ surveyRange\n",
    "    url = \"https://www.booking.com/searchresults.zh-tw.html?aid=304142&label=gen173nr-1DCAEoggJCAlhYSDNiBW5vcmVmaOcBiAEBmAEwuAEGyAEM2AED6AEBkgIBeagCAw&sid=25f3195cbf76726e8ffac861269a0d24&checkin_month=\"+str(checkinM[i-1])+\"&checkin_monthday=\"+str(checkinD[i-1])+\"&checkin_year=\"+str(checkinY[i-1])+\"&checkout_month=\"+str(checkoutM[i-1])+\"&checkout_monthday=\"+str(checkoutD[i-1])+\"&checkout_year=\"+str(checkoutY[i-1])+\"&class_interval=1&dest_id=-235402&dest_type=city&group_adults=2&group_children=0&label_click=undef&no_rooms=1&raw_dest_type=city&room1=A%2CA&sb_price_type=total&src=index&src_elem=sb&ss=\"+str(location)+\"&ssb=empty&ssne=\"+str(location)+\"&ssne_untouched=\"+str(location)+\"&rows=50\"###+\"&sr_ajax=1&b_gtt=dLYAeZFVJfNTBdAHUdPHUBSSUVJfcbWYaNLDRCAET&_=1501050897864\"\n",
    "    res = requests.get(url, headers = headers, cookies = cookie)\n",
    "    soup = BeautifulSoup(res.text, 'lxml')\n",
    "    print(\"==\"*50)\n",
    "    print(\"period: \" + str(i))\n",
    "    for page in range(1, turnPageList[i-1]+1): # page = 1 ~ turnPage\n",
    "        print(\"this is page: \" + str(page) + \" from total \" + str(turnPageList[i-1]))\n",
    "        offset = (page-1)*50  # offset: from index of hotel(in below url)\n",
    "        url2 = \"https://www.booking.com/searchresults.zh-tw.html?label=gen173nr-1DCAEoggJCAlhYSDNiBW5vcmVmaOcBiAEBmAEwuAEGyAEM2AED6AEBkgIBeagCAw&sid=4996667e149bfae490c17f2eb37eafa9&checkin_month=\"+str(checkinM[i-1])+\"&checkin_monthday=\"+str(checkinD[i-1])+\"&checkin_year=\"+str(checkinY[i-1])+\"&checkout_month=\"+str(checkoutM[i-1])+\"&checkout_monthday=\"+str(checkoutD[i-1])+\"&checkout_year=\"+str(checkoutY[i-1])+\"&class_interval=1&dest_id=-235402&dest_type=city&dtdisc=0&group_adults=2&group_children=0&inac=0&index_postcard=0&label_click=undef&no_rooms=1&postcard=0&raw_dest_type=city&room1=A%2CA&sb_price_type=total&src=index&src_elem=sb&ss=\"+str(location)+\"&ss_all=0&ssb=empty&sshis=0&ssne=\"+str(location)+\"&ssne_untouched=\"+str(location)+\"&rows=50&offset=\"+ str(offset)### + \"&sr_ajax=1&b_gtt=dLYAeZFVJfNTBdAHUdHPGZDfIfVNASUcbTYWPJLO&_=1501678454525\"        \n",
    "        res2 = requests.get(url2, headers = headers, cookies = cookie)\n",
    "        soup2 = BeautifulSoup(res2.text, 'lxml')\n",
    "        items = soup2.select(\".sr_item\")\n",
    "        x = items\n",
    "#        with open('BookingCrawl_now-{}-{}-{}-from-{}-to-{}-Page{}.txt'.format(time.localtime().tm_mon, time.localtime().tm_mday, time.localtime().tm_hour, timeList[i-1][0], timeList[i-1][1], page), 'w', encoding = 'UTF-8') as f:\n",
    "#            f.write(str(items))\n",
    "#            print(\"save done.\")\n",
    "#            time.sleep(5)\n",
    "#            print(\"Cost time: \" + str(time.time()-start_time-5*i))\n",
    "        for item in items:\n",
    "            dictBook = {}\n",
    "# Name\n",
    "            HotelName = item.select(\".sr-hotel__name\")[0].text\n",
    "#             print(HotelName.strip())\n",
    "            if re.findall(\"\\\\n[\\w|\\s|\\&|\\(|\\)|\\-|,|']+（([\\w|（|）|・]+)）\", HotelName) != []: # ex. Toji Houses沒有中文\n",
    "                #print(re.findall(\"\\\\n[\\w|\\s|\\&|\\(|\\)|\\-|,|']+（([\\w|（|）|・]+)）\", HotelName)[0])\n",
    "                dictBook[\"ChiName\"] = re.findall(\"\\\\n[\\w|\\s|\\&|\\(|\\)|\\-|,|']+（([\\w|（|）|・]+)）\", HotelName)[0]\n",
    "#                 print(re.findall(\"\\\\n([\\w|\\s|\\&|\\(|\\)|\\-|,|'|・]+)（\", HotelName)[0])\n",
    "                dictBook[\"EngName\"] = re.findall(\"\\\\n([\\w|\\s|\\&|\\(|\\)|\\-|,|'|・]+)（\", HotelName)[0].replace(\"\\'\", \"'\").upper()\n",
    "#                 print(re.findall(\"\\\\n([\\w|\\s|\\&|\\(|\\)|\\-|,|'|・]+)（\", HotelName)[0].replace(\"\\'\", \"'\").upper())\n",
    "            else:\n",
    "                #print(\"NA\")\n",
    "                dictBook[\"ChiName\"] = \"NA\"\n",
    "                #print(HotelName.strip())\n",
    "                dictBook[\"EngName\"] = HotelName.strip().replace(\"\\'\", \"'\").upper()\n",
    "# # Price\n",
    "#             if \"TWD\" not in item.select('.sr_rooms_table_block')[0].text: \n",
    "#                 #print(\"--------> \" + \" Sell Out!!!\")\n",
    "#                 dictBook[\"Price\"] = \"NA\"\n",
    "#             else:\n",
    "#                 target = item.select('.sr_rooms_table_block')[0].select('strong > b')[0].text\n",
    "#                 #print(\"--------> \" + target)\n",
    "#                 price = \"\".join(re.findall(\"TWD\\s(\\w+,\\w+$)\", target)[0].split(\",\"))\n",
    "#                 dictBook[\"Price\"] = int(price)/4\n",
    "# # Check in/out time\n",
    "#             dictBook[\"CheckIn\"] = \"{}-{}-{}-15-00\".format(timeList[0][0].year, timeList[0][0].month, timeList[0][0].day)\n",
    "#             dictBook[\"CheckOut\"] = \"{}-{}-{}-11-00\".format(timeList[0][1].year, timeList[0][1].month, timeList[0][1].day)\n",
    "# # Latitude, Longitude\n",
    "#             coor1 = item.findAll(lambda y: y.get('data-coords'))[1] \n",
    "#             coor2 = re.findall('data-coords=\"(135[\\w|,|\\.]+)\"', str(coor1))\n",
    "#             Latitude = coor2[0].split(\",\")[0]\n",
    "#             Longitude = coor2[0].split(\",\")[1]\n",
    "#             #print(Latitude)\n",
    "#             dictBook[\"Latitude\"] = Latitude\n",
    "#             #print(Longitude)\n",
    "#             dictBook[\"Longitude\"] = Longitude\n",
    "# # Star Rate\n",
    "#             sr = item.select(\"div.sr_property_block_main_row\")\n",
    "#             sr2 = re.findall('-sprite-ratings_stars_(\\w+)\"', str(sr))\n",
    "#             if sr2 == []:\n",
    "#                 dictBook[\"StarRate\"] = \"NA\"\n",
    "#             else:\n",
    "#                 dictBook[\"StarRate\"] = sr2[0]\n",
    "# # Score\n",
    "#             score1 = item.select(\"div.sr-review-score\")\n",
    "#             score2 = re.findall('review-score-badge\">\\\\n([\\w|\\.]+)', str(score1))\n",
    "#             if score2 == []:\n",
    "#                 dictBook[\"Score\"] = \"NA\"\n",
    "#             else:\n",
    "#                 dictBook[\"Score\"] = score2[0]\n",
    "# # Comments\n",
    "#                 comment1 = item.select(\"div.sr-review-score\")\n",
    "#                 comment2 = re.findall('review-score-widget__subtext\">\\\\n([\\w|,]+)\\s則評語\\\\n<', str(comment1))\n",
    "#                 if comment2 == []:\n",
    "#                     dictBook[\"Comment\"] = \"NA\"\n",
    "#                 else: \n",
    "#                     dictBook[\"Comment\"] = \"\".join(comment2[0].split(\",\"))\n",
    "            #print(\"==========================\")\n",
    "            #print(dictBook)\n",
    "            HotelList.append(dictBook)\n",
    "        xxx = json.dumps(HotelList, ensure_ascii = False)\n",
    "        time.sleep(1)\n",
    "#     print(\"saving dictBook...\")\n",
    "#     os.makedirs('D:\\\\DATA\\\\data-{}'.format(time.localtime()))\n",
    "#     with open('D:\\\\DATA\\\\data-{}\\\\BookingList-from-{}-to-{}.txt'.format(time.localtime(), timeList[i-1][0], timeList[i-1][1]), 'w', encoding = 'UTF-8') as f:\n",
    "#         f.write(str(dictBook))    \n",
    "# print(\"Cost time: \" + str(time.time()-start_time-2*sum(turnPage)))\n",
    "print(xxx)"
   ]
  },
  {
   "cell_type": "code",
   "execution_count": 36,
   "metadata": {},
   "outputs": [
    {
     "data": {
      "text/plain": [
       "'[{\"ChiName\": \"京都四條烏丸UNIZO酒店\", \"EngName\": \"HOTEL UNIZO KYOTO SHIJO KARASUMA\"}, {\"ChiName\": \"京都站堀川通阿帕酒店\", \"EngName\": \"APA HOTEL KYOTO-EKI HORIKAWA-DORI\"}, {\"ChiName\": \"波德京都膠囊旅館\", \"EngName\": \"THE PRIME POD KYOTO\"}, {\"ChiName\": \"京都站前大和魯內酒店\", \"EngName\": \"DAIWA ROYNET HOTEL KYOTO EKIMAE\"}, {\"ChiName\": \"京都索拉利亞西鐵尊貴酒店\", \"EngName\": \"SOLARIA NISHITETSU HOTEL KYOTO PREMIER\"}, {\"ChiName\": \"密斯普拉斯杰奧米雅酒店\", \"EngName\": \"HOTEL M\\'S PLUS SHIJO OMIYA\"}, {\"ChiName\": \"京都皇家SPA飯店\", \"EngName\": \"KYOTO ROYAL HOTEL & SPA\"}, {\"ChiName\": \"京都蘭威特酒店\", \"EngName\": \"ARANVERT HOTEL KYOTO\"}, {\"ChiName\": \"京都三條三井花園飯店\", \"EngName\": \"MITSUI GARDEN HOTEL KYOTO SANJO\"}, {\"ChiName\": \"京都格蘭王子大飯店\", \"EngName\": \"GRAND PRINCE HOTEL KYOTO\"}, {\"ChiName\": \"京都河原町四條酒店\", \"EngName\": \"UNIZO INN KYOTO KAWARAMACHI SHIJO\"}, {\"ChiName\": \"京都二條溢價城市酒店\", \"EngName\": \"URBAN HOTEL KYOTO NIJO PREMIUM\"}, {\"ChiName\": \"京都花園皇宮酒店\", \"EngName\": \"KYOTO GARDEN PALACE\"}, {\"ChiName\": \"日航國際酒店\", \"EngName\": \"HOTEL NIKKO PRINCESS KYOTO\"}, {\"ChiName\": \"京都麗思卡爾頓酒店\", \"EngName\": \"THE RITZ-CARLTON KYOTO\"}, {\"ChiName\": \"京都祗園酒店\", \"EngName\": \"KYOTO INN GION\"}, {\"ChiName\": \"京都水晶門情趣酒店（僅限成人）\", \"EngName\": \"HOTEL CRYSTAL GATE KYOTO (ADULT ONLY)\"}, {\"ChiName\": \"京都亞克酒店\", \"EngName\": \"ARK HOTEL KYOTO\"}, {\"ChiName\": \"APA京都站前別墅酒店\", \"EngName\": \"APA VILLA HOTEL KYOTO EKIMAE\"}, {\"ChiName\": \"京都諾庫酒店\", \"EngName\": \"NOKU KYOTO\"}, {\"ChiName\": \"京都御所西侧君艾酒店\", \"EngName\": \"THE JUNEI HOTEL KYOTO IMPERIAL PALACE WEST\"}, {\"ChiName\": \"京都格蘭愛慕斯酒店\", \"EngName\": \"HOTEL GRAN MS KYOTO\"}, {\"ChiName\": \"京都八條口相鐵弗雷薩經濟型酒店\", \"EngName\": \"SOTETSU FRESA INN KYOTO-HACHIJOGUCHI\"}, {\"ChiName\": \"京都科米卡普膠囊旅館\", \"EngName\": \"COMICAP KYOTO\"}, {\"ChiName\": \"BJ家庭旅館\", \"EngName\": \"BJ FAMILY INN\"}, {\"ChiName\": \"京都嵯峨太陽成員酒店\", \"EngName\": \"SUN MEMBERS KYOTO SAGA\"}, {\"ChiName\": \"日昇套房酒店\", \"EngName\": \"SUNRISE SUITES\"}, {\"ChiName\": \"第一艙京都烏丸\", \"EngName\": \"FIRST CABIN KYOTO KARASUMA\"}, {\"ChiName\": \"京都南部花園精品酒店（僅限成人入住）\", \"EngName\": \"HOTEL FINE GARDEN KYOTO MINAMI (ADULT ONLY)\"}, {\"ChiName\": \"京都9小時旅館\", \"EngName\": \"NINE HOURS KYOTO\"}, {\"ChiName\": \"京都廣場膠囊旅館\", \"EngName\": \"CAPSULE RESORT KYOTO SQUARE\"}, {\"ChiName\": \"京都三条格拉斯丽酒店\", \"EngName\": \"HOTEL GRACERY KYOTO SANJO\"}, {\"ChiName\": \"京都KKR庫尼索酒店\", \"EngName\": \"KKR KYOTO KUNISO\"}, {\"ChiName\": \"京都岡崎精品大酒店（僅限成人）\", \"EngName\": \"HOTEL GRAND FINE KYOTO OKAZAKI (ADULT ONLY)\"}, {\"ChiName\": \"NA\", \"EngName\": \"HOTEL SAGANO (ADULT ONLY)\"}, {\"ChiName\": \"東寺陶醉附屬旅館\", \"EngName\": \"MIHORERU ANNEX TOJI\"}, {\"ChiName\": \"愛瑞美特哥情趣酒店（僅限成人）\", \"EngName\": \"ERMITAGE (ADULT ONLY)\"}, {\"ChiName\": \"京都阿爾法情趣酒店（僅限成人）\", \"EngName\": \"HOTEL ALFA KYOTO (ADULT ONLY)\"}, {\"ChiName\": \"百花園酒店（僅限成人）\", \"EngName\": \"HOTEL JARDIN DE FLEURS (ADULT ONLY)\"}, {\"ChiName\": \"鵬圖酒店\", \"EngName\": \"HOTEL PONTO\"}, {\"ChiName\": \"京都酒店\", \"EngName\": \"CAPHOTEL KYOTO\"}, {\"ChiName\": \"馬賽克櫻花酒店（僅限成人）\", \"EngName\": \"SAKURA HOTEL MOSAIC (ADULT ONLY)\"}, {\"ChiName\": \"NA\", \"EngName\": \"MIYABI\"}, {\"ChiName\": \"NA\", \"EngName\": \"HOTEL IN THE MOOD\"}]'"
      ]
     },
     "execution_count": 36,
     "metadata": {},
     "output_type": "execute_result"
    }
   ],
   "source": [
    "import json\n",
    "\n",
    "json.dumps(HotelList, ensure_ascii = False).replace(\"\\'\", \"'\")"
   ]
  },
  {
   "cell_type": "code",
   "execution_count": null,
   "metadata": {
    "collapsed": true
   },
   "outputs": [],
   "source": [
    "# Test Zone\n",
    "\n",
    "cnt = 1\n",
    "for item in x:\n",
    "#     print(item.select('.sr_rooms_table_block')[0].text)\n",
    "#     if cnt == 1:\n",
    "#     sr = item.select(\"div.sr_property_block_main_row\")\n",
    "    sr = item.select(\"div.sr-review-score\")\n",
    "    sr2 = re.findall('review-score-widget__subtext\">\\\\n([\\w|,]+)\\s則評語\\\\n<', str(sr))\n",
    "    if sr2 == []:\n",
    "        print(\"NA\")\n",
    "    else: \n",
    "        print(\"\".join(sr2[0].split(\",\")))\n",
    "#         cnt +=1    \n",
    "       # re.findall(\"TWD\\s(\\w+,\\w+$)\", target)[0].split(\",\"))\n",
    "       # totPage = soup.select('#right')[0].find(lambda x: x.get('data-et-view') == 'TULQWNVLBLWIJDAOfUYdXaO:1')"
   ]
  }
 ],
 "metadata": {
  "kernelspec": {
   "display_name": "Python 3",
   "language": "python",
   "name": "python3"
  },
  "language_info": {
   "codemirror_mode": {
    "name": "ipython",
    "version": 3
   },
   "file_extension": ".py",
   "mimetype": "text/x-python",
   "name": "python",
   "nbconvert_exporter": "python",
   "pygments_lexer": "ipython3",
   "version": "3.6.1"
  }
 },
 "nbformat": 4,
 "nbformat_minor": 2
}
