{
 "cells": [
  {
   "cell_type": "markdown",
   "metadata": {},
   "source": [
    "# Booking hotel crawler"
   ]
  },
  {
   "cell_type": "code",
   "execution_count": 16,
   "metadata": {
    "collapsed": true
   },
   "outputs": [],
   "source": [
    "# import lib\n",
    "from datetime import datetime, timedelta, date\n",
    "import requests\n",
    "from bs4 import BeautifulSoup\n",
    "import re\n",
    "import time"
   ]
  },
  {
   "cell_type": "markdown",
   "metadata": {},
   "source": [
    "最多查詢到明年年底"
   ]
  },
  {
   "cell_type": "code",
   "execution_count": 2,
   "metadata": {
    "collapsed": true
   },
   "outputs": [],
   "source": [
    "# Settings\n",
    "surveyRange = 5\n",
    "travelPeriod = 4"
   ]
  },
  {
   "cell_type": "code",
   "execution_count": 3,
   "metadata": {
    "collapsed": true
   },
   "outputs": [],
   "source": [
    "# Date List \n",
    "# args: start date, survey range, travel period(days)\n",
    "# ex. [datetime.date(2017, 8, 7), datetime.date(2017, 8, 11)] ~ [datetime.date(2017, 9, 5), datetime.date(2017, 9, 9)]]\n",
    "def getDateList(dt = date.today(), ran = surveyRange, period = travelPeriod):\n",
    "    timeList = []\n",
    "    start = dt\n",
    "    end = start + timedelta(days = period)\n",
    "    for i in range(1, ran+1):  # i = 1 ~ ran\n",
    "        timeList.append([start, end])\n",
    "        start = start + timedelta(days = 1)\n",
    "        end = end + timedelta(days = 1) \n",
    "    return timeList\n",
    "timeList = getDateList()"
   ]
  },
  {
   "cell_type": "code",
   "execution_count": 4,
   "metadata": {
    "collapsed": true
   },
   "outputs": [],
   "source": [
    "# Date List components\n",
    "checkinM = []\n",
    "checkinD = []\n",
    "checkinY = []\n",
    "checkoutM = []\n",
    "checkoutD = []\n",
    "checkoutY = []\n",
    "for i in timeList:\n",
    "    checkinM.append(i[0].month)\n",
    "    checkinD.append(i[0].day)\n",
    "    checkinY.append(i[0].year)\n",
    "    checkoutM.append(i[1].month)\n",
    "    checkoutD.append(i[1].day)\n",
    "    checkoutY.append(i[1].year)"
   ]
  },
  {
   "cell_type": "code",
   "execution_count": 5,
   "metadata": {
    "collapsed": true
   },
   "outputs": [],
   "source": [
    "# headers\n",
    "# cookies\n",
    "# location\n",
    "headers = {'User-Agent':'Mozilla/5.0 (Windows NT 6.1; Win64; x64) AppleWebKit/537.36 (KHTML, like Gecko) Chrome/59.0.3071.115 Safari/537.36'}\n",
    "cookie = {\"Cookie\":\"header_signin_prompt=1; zz_cook_tms_seg1=1; zz_cook_tms_seg3=7; zz_cook_tms_ed=1; has_preloaded=1; _ga=GA1.2.2061587162.1502107968; _gid=GA1.2.1814322313.1502107968; BJS=-; utag_main=v_id:015dbc9ca2c900457102ac7642380407300bf06b00978$_sn:1$_ss:0$_st:1502109920031$ses_id:1502107968202%3Bexp-session$_pn:3%3Bexp-session$4split:0$4split2:0; bkng=11UmFuZG9tSVYkc2RlIyh9Yaa29%2F3xUOLbKE7bjkbYWzncUcat06CAsbQ%2B9%2FAkzVENB8nmBa8Vs%2F%2BVVB4vsfV9CjFR48ycz7Yx9EStGOdtWO3JGmN9AgMB0%2BVUgMcxBgoCrfKMX2yn9L%2FD3c0q2Li1pkMyK7ILqx8bL20GYH8glGAe%2FhsFvdJwERKlgvjQM1TPezbzeLBGAiQ%3D; lastSeen=0; _gat=1\"}\n",
    "location = '京都'"
   ]
  },
  {
   "cell_type": "code",
   "execution_count": 6,
   "metadata": {},
   "outputs": [],
   "source": [
    "# Pages amount for each travel period.  \n",
    "# ex. numHotelList = [ ['145'], ['160'], ['167'], ['203'], ['239'], ['294'], ['353'], ['371'], ... increasing by date to date\n",
    "\n",
    "pagesList = []\n",
    "numHotelList = []\n",
    "turnPageList = []\n",
    "for i in range(1, surveyRange+1): # i = 1 ~ surveyRange\n",
    "    # url位址為XHR文件中的searchresults，去除AJAX部分\n",
    "    url = \"https://www.booking.com/searchresults.zh-tw.html?aid=304142&label=gen173nr-1DCAEoggJCAlhYSDNiBW5vcmVmaOcBiAEBmAEwuAEGyAEM2AED6AEBkgIBeagCAw&sid=25f3195cbf76726e8ffac861269a0d24&checkin_month=\"+str(checkinM[i-1])+\"&checkin_monthday=\"+str(checkinD[i-1])+\"&checkin_year=\"+str(checkinY[i-1])+\"&checkout_month=\"+str(checkoutM[i-1])+\"&checkout_monthday=\"+str(checkoutD[i-1])+\"&checkout_year=\"+str(checkoutY[i-1])+\"&class_interval=1&dest_id=-235402&dest_type=city&group_adults=2&group_children=0&label_click=undef&no_rooms=1&raw_dest_type=city&room1=A%2CA&sb_price_type=total&src=index&src_elem=sb&ss=\"+str(location)+\"&ssb=empty&ssne=\"+str(location)+\"&ssne_untouched=\"+str(location)+\"&rows=50\"###+\"&sr_ajax=1&b_gtt=dLYAeZFVJfNTBdAHUdPHUBSSUVJfcbWYaNLDRCAET&_=1501050897864\"\n",
    "    res = requests.get(url, headers = headers, cookies = cookie)\n",
    "    soup = BeautifulSoup(res.text, 'lxml')\n",
    "    \n",
    "    # 找總頁數\n",
    "    clue1 = soup.select('#right')[0].find(lambda x: x.get('data-et-view') == 'TULQWNVLBLWIJDAOfUYdXaO:1')\n",
    "    pattern = \"找到\\s(\\d+)\\s間\" #找頁數用\n",
    "    numHotelText = re.findall(pattern, clue1.find('h1').text)\n",
    "    # 這區間共幾間hotel\n",
    "    numHotel = int(numHotelText[0])\n",
    "    # numHotel / 一頁有50筆  =  翻頁數\n",
    "    turnPage = round(numHotel/50)\n",
    "    # append to lists\n",
    "    pagesList.append(numHotel)\n",
    "    turnPageList.append(turnPage)"
   ]
  },
  {
   "cell_type": "code",
   "execution_count": 17,
   "metadata": {},
   "outputs": [
    {
     "ename": "IndexError",
     "evalue": "list index out of range",
     "output_type": "error",
     "traceback": [
      "\u001b[1;31m---------------------------------------------------------------------------\u001b[0m",
      "\u001b[1;31mIndexError\u001b[0m                                Traceback (most recent call last)",
      "\u001b[1;32m<ipython-input-17-5fc6ecd44af7>\u001b[0m in \u001b[0;36m<module>\u001b[1;34m()\u001b[0m\n\u001b[0;32m     13\u001b[0m             \u001b[0msoup2\u001b[0m \u001b[1;33m=\u001b[0m \u001b[0mBeautifulSoup\u001b[0m\u001b[1;33m(\u001b[0m\u001b[0mres2\u001b[0m\u001b[1;33m.\u001b[0m\u001b[0mtext\u001b[0m\u001b[1;33m,\u001b[0m \u001b[1;34m'lxml'\u001b[0m\u001b[1;33m)\u001b[0m\u001b[1;33m\u001b[0m\u001b[0m\n\u001b[0;32m     14\u001b[0m             \u001b[0mitems\u001b[0m \u001b[1;33m=\u001b[0m \u001b[0msoup2\u001b[0m\u001b[1;33m.\u001b[0m\u001b[0mselect\u001b[0m\u001b[1;33m(\u001b[0m\u001b[1;34m\".sr_item\"\u001b[0m\u001b[1;33m)\u001b[0m\u001b[1;33m\u001b[0m\u001b[0m\n\u001b[1;32m---> 15\u001b[1;33m             \u001b[1;32mwith\u001b[0m \u001b[0mopen\u001b[0m\u001b[1;33m(\u001b[0m\u001b[1;34m'BookingCrawl_now-{}-{}-{}-from-{}-to-{}-Page{}.txt'\u001b[0m\u001b[1;33m.\u001b[0m\u001b[0mformat\u001b[0m\u001b[1;33m(\u001b[0m\u001b[0mtime\u001b[0m\u001b[1;33m.\u001b[0m\u001b[0mlocaltime\u001b[0m\u001b[1;33m(\u001b[0m\u001b[1;33m)\u001b[0m\u001b[1;33m.\u001b[0m\u001b[0mtm_mon\u001b[0m\u001b[1;33m,\u001b[0m \u001b[0mtime\u001b[0m\u001b[1;33m.\u001b[0m\u001b[0mlocaltime\u001b[0m\u001b[1;33m(\u001b[0m\u001b[1;33m)\u001b[0m\u001b[1;33m.\u001b[0m\u001b[0mtm_mday\u001b[0m\u001b[1;33m,\u001b[0m \u001b[0mtime\u001b[0m\u001b[1;33m.\u001b[0m\u001b[0mlocaltime\u001b[0m\u001b[1;33m(\u001b[0m\u001b[1;33m)\u001b[0m\u001b[1;33m.\u001b[0m\u001b[0mtm_hour\u001b[0m\u001b[1;33m,\u001b[0m \u001b[0mtimeList\u001b[0m\u001b[1;33m[\u001b[0m\u001b[0mi\u001b[0m\u001b[1;33m]\u001b[0m\u001b[1;33m[\u001b[0m\u001b[1;36m0\u001b[0m\u001b[1;33m]\u001b[0m\u001b[1;33m,\u001b[0m \u001b[0mtimeList\u001b[0m\u001b[1;33m[\u001b[0m\u001b[0mi\u001b[0m\u001b[1;33m]\u001b[0m\u001b[1;33m[\u001b[0m\u001b[1;36m1\u001b[0m\u001b[1;33m]\u001b[0m\u001b[1;33m,\u001b[0m \u001b[0mpage\u001b[0m\u001b[1;33m)\u001b[0m\u001b[1;33m,\u001b[0m \u001b[1;34m'w'\u001b[0m\u001b[1;33m,\u001b[0m \u001b[0mencoding\u001b[0m \u001b[1;33m=\u001b[0m \u001b[1;34m'UTF-8'\u001b[0m\u001b[1;33m)\u001b[0m \u001b[1;32mas\u001b[0m \u001b[0mf\u001b[0m\u001b[1;33m:\u001b[0m\u001b[1;33m\u001b[0m\u001b[0m\n\u001b[0m\u001b[0;32m     16\u001b[0m                 \u001b[0mf\u001b[0m\u001b[1;33m.\u001b[0m\u001b[0mwrite\u001b[0m\u001b[1;33m(\u001b[0m\u001b[0mstr\u001b[0m\u001b[1;33m(\u001b[0m\u001b[0mitems\u001b[0m\u001b[1;33m)\u001b[0m\u001b[1;33m)\u001b[0m\u001b[1;33m\u001b[0m\u001b[0m\n",
      "\u001b[1;31mIndexError\u001b[0m: list index out of range"
     ]
    }
   ],
   "source": [
    "# for each period (ex. 10/7 ~ 10/11), grab the hotelList information\n",
    "\n",
    "for i in range(1, surveyRange+1): # i = 1 ~ surveyRange\n",
    "    url = \"https://www.booking.com/searchresults.zh-tw.html?aid=304142&label=gen173nr-1DCAEoggJCAlhYSDNiBW5vcmVmaOcBiAEBmAEwuAEGyAEM2AED6AEBkgIBeagCAw&sid=25f3195cbf76726e8ffac861269a0d24&checkin_month=\"+str(checkinM[i-1])+\"&checkin_monthday=\"+str(checkinD[i-1])+\"&checkin_year=\"+str(checkinY[i-1])+\"&checkout_month=\"+str(checkoutM[i-1])+\"&checkout_monthday=\"+str(checkoutD[i-1])+\"&checkout_year=\"+str(checkoutY[i-1])+\"&class_interval=1&dest_id=-235402&dest_type=city&group_adults=2&group_children=0&label_click=undef&no_rooms=1&raw_dest_type=city&room1=A%2CA&sb_price_type=total&src=index&src_elem=sb&ss=\"+str(location)+\"&ssb=empty&ssne=\"+str(location)+\"&ssne_untouched=\"+str(location)+\"&rows=50\"###+\"&sr_ajax=1&b_gtt=dLYAeZFVJfNTBdAHUdPHUBSSUVJfcbWYaNLDRCAET&_=1501050897864\"\n",
    "    res = requests.get(url, headers = headers, cookies = cookie)\n",
    "    soup = BeautifulSoup(res.text, 'lxml')\n",
    "    \n",
    "    for turnPage in turnPageList: # turnPageList: ex. [3, 3, 3, 3, 4]\n",
    "        for page in range(1, turnPage+1): # page = 1 ~ turnPage\n",
    "            offset = (page-1)*50  # offset: from index of hotel(in below url)\n",
    "            url2 = \"https://www.booking.com/searchresults.zh-tw.html?label=gen173nr-1DCAEoggJCAlhYSDNiBW5vcmVmaOcBiAEBmAEwuAEGyAEM2AED6AEBkgIBeagCAw&sid=4996667e149bfae490c17f2eb37eafa9&checkin_month=\"+str(checkinM[i-1])+\"&checkin_monthday=\"+str(checkinD[i-1])+\"&checkin_year=\"+str(checkinY[i-1])+\"&checkout_month=\"+str(checkoutM[i-1])+\"&checkout_monthday=\"+str(checkoutD[i-1])+\"&checkout_year=\"+str(checkoutY[i-1])+\"&class_interval=1&dest_id=-235402&dest_type=city&dtdisc=0&group_adults=2&group_children=0&inac=0&index_postcard=0&label_click=undef&no_rooms=1&postcard=0&raw_dest_type=city&room1=A%2CA&sb_price_type=total&src=index&src_elem=sb&ss=\"+str(location)+\"&ss_all=0&ssb=empty&sshis=0&ssne=\"+str(location)+\"&ssne_untouched=\"+str(location)+\"&rows=50&offset=\"+ str(offset)### + \"&sr_ajax=1&b_gtt=dLYAeZFVJfNTBdAHUdHPGZDfIfVNASUcbTYWPJLO&_=1501678454525\"        \n",
    "            res2 = requests.get(url2, headers = headers, cookies = cookie)\n",
    "            soup2 = BeautifulSoup(res2.text, 'lxml')\n",
    "            items = soup2.select(\".sr_item\")\n",
    "            with open('BookingCrawl_now-{}-{}-{}-from-{}-to-{}-Page{}.txt'.format(time.localtime().tm_mon, time.localtime().tm_mday, time.localtime().tm_hour, timeList[i-1][0], timeList[i-1][1], page), 'w', encoding = 'UTF-8') as f:\n",
    "                f.write(str(items))"
   ]
  },
  {
   "cell_type": "code",
   "execution_count": 19,
   "metadata": {},
   "outputs": [
    {
     "data": {
      "text/plain": [
       "[[datetime.date(2017, 8, 8), datetime.date(2017, 8, 12)],\n",
       " [datetime.date(2017, 8, 9), datetime.date(2017, 8, 13)],\n",
       " [datetime.date(2017, 8, 10), datetime.date(2017, 8, 14)],\n",
       " [datetime.date(2017, 8, 11), datetime.date(2017, 8, 15)],\n",
       " [datetime.date(2017, 8, 12), datetime.date(2017, 8, 16)]]"
      ]
     },
     "execution_count": 19,
     "metadata": {},
     "output_type": "execute_result"
    }
   ],
   "source": [
    "timeList"
   ]
  },
  {
   "cell_type": "code",
   "execution_count": 18,
   "metadata": {
    "scrolled": true
   },
   "outputs": [
    {
     "data": {
      "text/plain": [
       "[3, 3, 3, 3, 4]"
      ]
     },
     "execution_count": 18,
     "metadata": {},
     "output_type": "execute_result"
    }
   ],
   "source": [
    "turnPageList"
   ]
  },
  {
   "cell_type": "code",
   "execution_count": 20,
   "metadata": {},
   "outputs": [
    {
     "data": {
      "text/plain": [
       "5"
      ]
     },
     "execution_count": 20,
     "metadata": {},
     "output_type": "execute_result"
    }
   ],
   "source": [
    "surveyRange"
   ]
  }
 ],
 "metadata": {
  "kernelspec": {
   "display_name": "Python 3",
   "language": "python",
   "name": "python3"
  },
  "language_info": {
   "codemirror_mode": {
    "name": "ipython",
    "version": 3
   },
   "file_extension": ".py",
   "mimetype": "text/x-python",
   "name": "python",
   "nbconvert_exporter": "python",
   "pygments_lexer": "ipython3",
   "version": "3.6.1"
  }
 },
 "nbformat": 4,
 "nbformat_minor": 2
}
