{
 "cells": [
  {
   "cell_type": "code",
   "execution_count": 1,
   "metadata": {
    "collapsed": true
   },
   "outputs": [],
   "source": [
    "# Booking hotel crawler\n",
    "import requests\n",
    "import time\n",
    "from bs4 import BeautifulSoup\n",
    "from collections import Counter\n",
    "import re"
   ]
  },
  {
   "cell_type": "code",
   "execution_count": null,
   "metadata": {
    "collapsed": true
   },
   "outputs": [],
   "source": [
    "# 刪減掉亂碼\n",
    "https://www.booking.com/searchresults.zh-tw.html?ss=%E4%BA%AC%E9%83%BD&checkin_year=2017&checkin_month=8&checkin_monthday=24&checkout_year=2017&checkout_month=8&checkout_monthday=27&room1=A%2CA&no_rooms=1&group_adults=2&group_children=0&dest_id=&dest_type=&search_pageview_id=2d8e26a278ec036f&search_selected=false"
   ]
  },
  {
   "cell_type": "code",
   "execution_count": 33,
   "metadata": {
    "collapsed": true
   },
   "outputs": [],
   "source": [
    "offset = 0\n",
    "headers = {'User-Agent':'Mozilla/5.0 (Windows NT 6.1; Win64; x64) AppleWebKit/537.36 (KHTML, like Gecko) Chrome/59.0.3071.115 Safari/537.36'}\n",
    "url = \"https://www.booking.com/searchresults.zh-tw.html?ss=%E4%BA%AC%E9%83%BD&ssne=%E4%BA%AC%E9%83%BD&checkin_year=2017&checkin_month=10&checkin_monthday=19&checkout_year=2017&checkout_month=10&checkout_monthday=22&room1=A%2CA&no_rooms=1&group_adults=2\"   \n",
    "res = requests.get(url, headers = headers)\n",
    "soup = BeautifulSoup(res.text, 'lxml')"
   ]
  },
  {
   "cell_type": "code",
   "execution_count": 34,
   "metadata": {},
   "outputs": [
    {
     "name": "stdout",
     "output_type": "stream",
     "text": [
      "1\n",
      "\n",
      "APA Hotel Kyoto-eki Horikawa-Dori（京都站堀川通阿帕酒店）\n",
      "\n",
      "2\n",
      "\n",
      "Hotel The Celestine Kyoto Gion（京都祗園塞萊斯廷酒店）\n",
      "\n",
      "3\n",
      "\n",
      "Four Seasons Hotel Kyoto（京都四季酒店）\n",
      "\n",
      "4\n",
      "\n",
      "APA Hotel Kyoto Gion Excellent（京都祗園優秀APA酒店）\n",
      "\n",
      "5\n",
      "\n",
      "Hotel Gracery Kyoto Sanjo（京都三条格拉斯丽酒店）\n",
      "\n",
      "6\n",
      "\n",
      "Kyoto Brighton Hotel（京都布萊頓酒店）\n",
      "\n",
      "7\n",
      "\n",
      "New Miyako Hotel（新・都酒店）\n",
      "\n",
      "8\n",
      "\n",
      "Hotel Kanra Kyoto（京都甘樂酒店）\n",
      "\n",
      "9\n",
      "\n",
      "Kotoha Kiyomizu - Guest House In Kyoto（京都清水寺科图哈宾馆）\n",
      "\n",
      "10\n",
      "\n",
      "Royal Park Hotel The Kyoto（皇家花園酒店京都）\n",
      "\n",
      "11\n",
      "\n",
      "Nagomi-Ryokan Yuu（Nagomi旅館　悠）\n",
      "\n",
      "12\n",
      "\n",
      "Kyoto Royal Hotel & Spa（京都皇家SPA飯店）\n",
      "\n",
      "13\n",
      "\n",
      "Solaria Nishitetsu Hotel Kyoto Premier（京都索拉利亞西鐵尊貴酒店）\n",
      "\n",
      "14\n",
      "\n",
      "HOTEL MYSTAYS Kyoto Shijo（京都四條我的住宿酒店）\n",
      "\n",
      "15\n",
      "\n",
      "RIHGA Royal Hotel Kyoto（京都麗嘉皇家酒店）\n",
      "\n",
      "16\n",
      "\n",
      "HOTEL UNIZO Kyoto Shijo Karasuma（京都四條烏丸UNIZO酒店）\n",
      "\n",
      "17\n",
      "\n",
      "APA Hotel Kyoto Ekimae（京都站前APA酒店）\n",
      "\n"
     ]
    }
   ],
   "source": [
    "\n",
    "items = soup.select(\".sr_item\")\n",
    "x = 1\n",
    "for item in items:\n",
    "    print(x)\n",
    "    name = item.select(\".sr-hotel__name\")[0].text\n",
    "    print(name)\n",
    "#     print(str(x) + name)\n",
    "    x += 1"
   ]
  }
 ],
 "metadata": {
  "kernelspec": {
   "display_name": "Python 3",
   "language": "python",
   "name": "python3"
  },
  "language_info": {
   "codemirror_mode": {
    "name": "ipython",
    "version": 3
   },
   "file_extension": ".py",
   "mimetype": "text/x-python",
   "name": "python",
   "nbconvert_exporter": "python",
   "pygments_lexer": "ipython3",
   "version": "3.6.1"
  }
 },
 "nbformat": 4,
 "nbformat_minor": 2
}
