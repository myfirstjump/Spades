{
 "cells": [
  {
   "cell_type": "code",
   "execution_count": 25,
   "metadata": {
    "collapsed": true
   },
   "outputs": [],
   "source": [
    "from datetime import datetime, timedelta, date"
   ]
  },
  {
   "cell_type": "code",
   "execution_count": 12,
   "metadata": {
    "scrolled": true
   },
   "outputs": [
    {
     "data": {
      "text/plain": [
       "datetime.timedelta(5)"
      ]
     },
     "execution_count": 12,
     "metadata": {},
     "output_type": "execute_result"
    }
   ],
   "source": [
    "timedelta(days = 5)"
   ]
  },
  {
   "cell_type": "code",
   "execution_count": 21,
   "metadata": {},
   "outputs": [
    {
     "data": {
      "text/plain": [
       "datetime.date(2017, 9, 6)"
      ]
     },
     "execution_count": 21,
     "metadata": {},
     "output_type": "execute_result"
    }
   ],
   "source": [
    "date.today() + timedelta(days = 30)"
   ]
  },
  {
   "cell_type": "code",
   "execution_count": 24,
   "metadata": {},
   "outputs": [
    {
     "data": {
      "text/plain": [
       "7"
      ]
     },
     "execution_count": 24,
     "metadata": {},
     "output_type": "execute_result"
    }
   ],
   "source": [
    "date.today()."
   ]
  },
  {
   "cell_type": "code",
   "execution_count": null,
   "metadata": {
    "collapsed": true
   },
   "outputs": [],
   "source": []
  },
  {
   "cell_type": "code",
   "execution_count": null,
   "metadata": {
    "collapsed": true
   },
   "outputs": [],
   "source": []
  },
  {
   "cell_type": "code",
   "execution_count": 26,
   "metadata": {},
   "outputs": [
    {
     "data": {
      "text/plain": [
       "datetime.date(2017, 8, 7)"
      ]
     },
     "execution_count": 26,
     "metadata": {},
     "output_type": "execute_result"
    }
   ],
   "source": [
    "date.today()"
   ]
  },
  {
   "cell_type": "code",
   "execution_count": 27,
   "metadata": {},
   "outputs": [
    {
     "data": {
      "text/plain": [
       "(8, 7)"
      ]
     },
     "execution_count": 27,
     "metadata": {},
     "output_type": "execute_result"
    }
   ],
   "source": [
    "for i in range(0,30):\n",
    "    tp = date.today()\n",
    "    print()"
   ]
  },
  {
   "cell_type": "code",
   "execution_count": 37,
   "metadata": {},
   "outputs": [],
   "source": [
    "def getDateList(dt = date.today(), ran = 30, period = 4):\n",
    "    timeList = []\n",
    "    start = dt\n",
    "    end = start + timedelta(days = period)\n",
    "    for i in range(1, ran+1):  # i = 1 ~ ran\n",
    "        timeList.append([start, end])\n",
    "        start = start + timedelta(days = 1)\n",
    "        end = end + timedelta(days = 1) \n",
    "    return timeList"
   ]
  },
  {
   "cell_type": "code",
   "execution_count": 40,
   "metadata": {},
   "outputs": [
    {
     "data": {
      "text/plain": [
       "[[datetime.date(2017, 8, 7), datetime.date(2017, 8, 11)],\n",
       " [datetime.date(2017, 8, 8), datetime.date(2017, 8, 12)],\n",
       " [datetime.date(2017, 8, 9), datetime.date(2017, 8, 13)],\n",
       " [datetime.date(2017, 8, 10), datetime.date(2017, 8, 14)],\n",
       " [datetime.date(2017, 8, 11), datetime.date(2017, 8, 15)],\n",
       " [datetime.date(2017, 8, 12), datetime.date(2017, 8, 16)],\n",
       " [datetime.date(2017, 8, 13), datetime.date(2017, 8, 17)],\n",
       " [datetime.date(2017, 8, 14), datetime.date(2017, 8, 18)],\n",
       " [datetime.date(2017, 8, 15), datetime.date(2017, 8, 19)],\n",
       " [datetime.date(2017, 8, 16), datetime.date(2017, 8, 20)],\n",
       " [datetime.date(2017, 8, 17), datetime.date(2017, 8, 21)],\n",
       " [datetime.date(2017, 8, 18), datetime.date(2017, 8, 22)],\n",
       " [datetime.date(2017, 8, 19), datetime.date(2017, 8, 23)],\n",
       " [datetime.date(2017, 8, 20), datetime.date(2017, 8, 24)],\n",
       " [datetime.date(2017, 8, 21), datetime.date(2017, 8, 25)],\n",
       " [datetime.date(2017, 8, 22), datetime.date(2017, 8, 26)],\n",
       " [datetime.date(2017, 8, 23), datetime.date(2017, 8, 27)],\n",
       " [datetime.date(2017, 8, 24), datetime.date(2017, 8, 28)],\n",
       " [datetime.date(2017, 8, 25), datetime.date(2017, 8, 29)],\n",
       " [datetime.date(2017, 8, 26), datetime.date(2017, 8, 30)],\n",
       " [datetime.date(2017, 8, 27), datetime.date(2017, 8, 31)],\n",
       " [datetime.date(2017, 8, 28), datetime.date(2017, 9, 1)],\n",
       " [datetime.date(2017, 8, 29), datetime.date(2017, 9, 2)],\n",
       " [datetime.date(2017, 8, 30), datetime.date(2017, 9, 3)],\n",
       " [datetime.date(2017, 8, 31), datetime.date(2017, 9, 4)],\n",
       " [datetime.date(2017, 9, 1), datetime.date(2017, 9, 5)],\n",
       " [datetime.date(2017, 9, 2), datetime.date(2017, 9, 6)],\n",
       " [datetime.date(2017, 9, 3), datetime.date(2017, 9, 7)],\n",
       " [datetime.date(2017, 9, 4), datetime.date(2017, 9, 8)],\n",
       " [datetime.date(2017, 9, 5), datetime.date(2017, 9, 9)]]"
      ]
     },
     "execution_count": 40,
     "metadata": {},
     "output_type": "execute_result"
    }
   ],
   "source": [
    "getDateList()"
   ]
  },
  {
   "cell_type": "code",
   "execution_count": 48,
   "metadata": {},
   "outputs": [
    {
     "data": {
      "text/plain": [
       "30"
      ]
     },
     "execution_count": 48,
     "metadata": {},
     "output_type": "execute_result"
    }
   ],
   "source": [
    "checkinM = []\n",
    "checkinD = []\n",
    "checkinY = []\n",
    "checkoutM = []\n",
    "checkoutD = []\n",
    "checkoutY = []\n",
    "for i in getDateList():\n",
    "    checkinM.append(i[0].month)\n",
    "    checkinD.append(i[0].day)\n",
    "    checkinY.append(i[0].year)\n",
    "    checkoutM.append(i[1].month)\n",
    "    checkoutD.append(i[1].day)\n",
    "    checkoutY.append(i[1].year)\n",
    "len(checkoutM)"
   ]
  }
 ],
 "metadata": {
  "kernelspec": {
   "display_name": "Python 3",
   "language": "python",
   "name": "python3"
  },
  "language_info": {
   "codemirror_mode": {
    "name": "ipython",
    "version": 3
   },
   "file_extension": ".py",
   "mimetype": "text/x-python",
   "name": "python",
   "nbconvert_exporter": "python",
   "pygments_lexer": "ipython3",
   "version": "3.6.1"
  }
 },
 "nbformat": 4,
 "nbformat_minor": 2
}
