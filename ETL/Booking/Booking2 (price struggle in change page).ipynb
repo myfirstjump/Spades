{
 "cells": [
  {
   "cell_type": "code",
   "execution_count": 1,
   "metadata": {
    "collapsed": true
   },
   "outputs": [],
   "source": [
    "# Booking hotel crawler\n",
    "import requests\n",
    "import time\n",
    "from bs4 import BeautifulSoup\n",
    "from collections import Counter\n",
    "import re\n",
    "import time"
   ]
  },
  {
   "cell_type": "code",
   "execution_count": 2,
   "metadata": {
    "collapsed": true
   },
   "outputs": [],
   "source": [
    "d1 = {\"k1\":\"v1\"}\n",
    "d2 = {\"k2\":\"v2\"}\n",
    "l1 = []"
   ]
  },
  {
   "cell_type": "code",
   "execution_count": 4,
   "metadata": {
    "collapsed": true
   },
   "outputs": [],
   "source": [
    "l1.append(d1)"
   ]
  },
  {
   "cell_type": "code",
   "execution_count": 5,
   "metadata": {},
   "outputs": [
    {
     "data": {
      "text/plain": [
       "[{'k1': 'v1'}]"
      ]
     },
     "execution_count": 5,
     "metadata": {},
     "output_type": "execute_result"
    }
   ],
   "source": [
    "l1"
   ]
  },
  {
   "cell_type": "code",
   "execution_count": 6,
   "metadata": {
    "collapsed": true
   },
   "outputs": [],
   "source": [
    "l1.append(d2)"
   ]
  },
  {
   "cell_type": "code",
   "execution_count": 7,
   "metadata": {},
   "outputs": [
    {
     "data": {
      "text/plain": [
       "[{'k1': 'v1'}, {'k2': 'v2'}]"
      ]
     },
     "execution_count": 7,
     "metadata": {},
     "output_type": "execute_result"
    }
   ],
   "source": [
    "l1"
   ]
  },
  {
   "cell_type": "code",
   "execution_count": 60,
   "metadata": {},
   "outputs": [
    {
     "data": {
      "text/plain": [
       "'abel:gen173nr-1FCAEoggJCAlhYSDNiBW5vcmVmaOcBiAEBmAEwuAEGyAEM2AEB6AEB-AELkgIBeagCAw\\nsid:1be0bee52e034c3d2cf97e52fd2cf0d3\\ncheckin_month:10\\ncheckin_monthday:19\\ncheckin_year:2017\\ncheckout_month:10\\ncheckout_monthday:21\\ncheckout_year:2017\\nclass_interval:1\\ndest_id:-235402\\ndest_type:city\\ndtdisc:0\\ngroup_adults:2\\ngroup_children:0\\ninac:0\\nindex_postcard:0\\nlabel_click:undef\\nno_rooms:1\\npostcard:0\\nraw_dest_type:city\\nroom1:A,A\\nsb_price_type:total\\nsearch_selected:1\\nsrc:index\\nsrc_elem:sb\\nss:京都, 京都府, 日本\\nss_all:0\\nss_raw:京都\\nssb:empty\\nsshis:0\\nrows:40offset:40'"
      ]
     },
     "execution_count": 60,
     "metadata": {},
     "output_type": "execute_result"
    }
   ],
   "source": [
    "url = \"https://www.booking.com/searchresults.zh-tw.html?label=gen173nr-1FCAEoggJCAlhYSDNiBW5vcmVmaOcBiAEBmAEwuAEGyAEM2AEB6AEB-AELkgIBeagCAw&sid=1be0bee52e034c3d2cf97e52fd2cf0d3&checkin_month=10&checkin_monthday=19&checkin_year=2017&checkout_month=10&checkout_monthday=21&checkout_year=2017&class_interval=1&dest_id=-235402&dest_type=city&dtdisc=0&group_adults=2&group_children=0&inac=0&index_postcard=0&label_click=undef&no_rooms=1&postcard=0&raw_dest_type=city&room1=A%2CA&sb_price_type=total&search_selected=1&src=index&src_elem=sb&ss=京都, 京都府, 日本&ss_all=0&ss_raw=%E4%BA%AC%E9%83%BD&ssb=empty&sshis=0&rows=40&offset=0\"\n",
    "\n",
    "\"\"\"abel:gen173nr-1FCAEoggJCAlhYSDNiBW5vcmVmaOcBiAEBmAEwuAEGyAEM2AEB6AEB-AELkgIBeagCAw\n",
    "sid:1be0bee52e034c3d2cf97e52fd2cf0d3\n",
    "checkin_month:10\n",
    "checkin_monthday:19\n",
    "checkin_year:2017\n",
    "checkout_month:10\n",
    "checkout_monthday:21\n",
    "checkout_year:2017\n",
    "class_interval:1\n",
    "dest_id:-235402\n",
    "dest_type:city\n",
    "dtdisc:0\n",
    "group_adults:2\n",
    "group_children:0\n",
    "inac:0\n",
    "index_postcard:0\n",
    "label_click:undef\n",
    "no_rooms:1\n",
    "postcard:0\n",
    "raw_dest_type:city\n",
    "room1:A,A\n",
    "sb_price_type:total\n",
    "search_selected:1\n",
    "src:index\n",
    "src_elem:sb\n",
    "ss:京都, 京都府, 日本\n",
    "ss_all:0\n",
    "ss_raw:京都\n",
    "ssb:empty\n",
    "sshis:0\n",
    "rows:40offset:40\"\"\"\n"
   ]
  },
  {
   "cell_type": "code",
   "execution_count": 61,
   "metadata": {
    "collapsed": true
   },
   "outputs": [],
   "source": [
    "headers = {'User-Agent':'Mozilla/5.0 (Windows NT 6.1; Win64; x64) AppleWebKit/537.36 (KHTML, like Gecko) Chrome/59.0.3071.115 Safari/537.36'}\n",
    "\n",
    "          "
   ]
  },
  {
   "cell_type": "code",
   "execution_count": 62,
   "metadata": {
    "collapsed": true
   },
   "outputs": [],
   "source": [
    "res = requests.get(url, headers = headers)"
   ]
  },
  {
   "cell_type": "code",
   "execution_count": 65,
   "metadata": {},
   "outputs": [
    {
     "data": {
      "text/plain": [
       "<Response [200]>"
      ]
     },
     "execution_count": 65,
     "metadata": {},
     "output_type": "execute_result"
    }
   ],
   "source": [
    "res"
   ]
  },
  {
   "cell_type": "code",
   "execution_count": 66,
   "metadata": {
    "collapsed": true
   },
   "outputs": [],
   "source": [
    "soup = BeautifulSoup(res.text, 'lxml')"
   ]
  },
  {
   "cell_type": "code",
   "execution_count": 89,
   "metadata": {
    "collapsed": true
   },
   "outputs": [],
   "source": [
    "pattern = \"[^0](\\d+.\\d+)\"\n",
    "price = re.findall(pattern, tagC)[0]"
   ]
  },
  {
   "cell_type": "code",
   "execution_count": 26,
   "metadata": {
    "collapsed": true
   },
   "outputs": [],
   "source": [
    "import requests\n",
    "import time\n",
    "from bs4 import BeautifulSoup\n",
    "from collections import Counter\n",
    "import re\n",
    "url = \"https://www.booking.com/searchresults.zh-tw.html?label=gen173nr-1FCAEog\\\n",
    "gJCAlhYSDNiBW5vcmVmaOcBiAEBmAEwuAEGyAEM2AEB6AEB-AELkgIBeagCAw&sid=1be0bee52e034c\\\n",
    "3d2cf97e52fd2cf0d3&checkin_month=10&checkin_monthday=19&checkin_year=2017&checko\\\n",
    "ut_month=10&checkout_monthday=21&checkout_year=2017&class_interval=1&dest_id=-23\\\n",
    "5402&dest_type=city&dtdisc=0&group_adults=2&group_children=0&inac=0&index_postca\\\n",
    "rd=0&label_click=undef&no_rooms=1&postcard=0&raw_dest_type=city&room1=A%2CA&sb_p\\\n",
    "rice_type=total&search_selected=1&src=index&src_elem=sb&ss=京都&ss_\\\n",
    "all=0&ss_raw=京都&ssb=empty&sshis=0&rows=40&offset=40\"\n",
    "\n",
    "# 可以調整 checkin_month=10 checkin_monthday=19 checkout_month=10 checkout_monthday=21 group_adults=2 ss=京都 ss_raw=京都"
   ]
  },
  {
   "cell_type": "code",
   "execution_count": 28,
   "metadata": {},
   "outputs": [
    {
     "data": {
      "text/plain": [
       "<div class=\"sr_header \" data-et-view=\"TULQWNVLBLWIJDAOfUYdXaO:1\" role=\"heading\">\n",
       "<h1>\n",
       "京都：找到 852 間住宿 －包括 99 項超值優惠\n",
       "</h1>\n",
       "<h2>\n",
       "3 大旅遊主題：<strong>寺廟</strong>、<strong>文化</strong>、<strong>觀光</strong>\n",
       "</h2>\n",
       "</div>"
      ]
     },
     "execution_count": 28,
     "metadata": {},
     "output_type": "execute_result"
    }
   ],
   "source": [
    "#Variables\n",
    "# location = '京都'\n",
    "# group_ad = '2'\n",
    "# row = '50' #default\n",
    "# offset = '0'\n",
    "\n",
    "\n",
    "headers = {'User-Agent':'Mozilla/5.0 (Windows NT 6.1; Win64; x64) AppleWebKit/537.36 (KHTML, like Gecko) Chrome/59.0.3071.115 Safari/537.36'}\n",
    "# 找總頁數\n",
    "url1 = \"https://www.booking.com/searchresults.zh-tw.html?label=gen173nr-1FCAEoggJCAlhYSDNiBW5vcmVmaOcBiAEBmAEwuAEGyAEM2AEB6AEB-AELkgIBeagCAw&sid=1be0bee52e034c3d2cf97e52fd2cf0d3&checkin_month=10&checkin_monthday=19&checkin_year=2017&checkout_month=10&checkout_monthday=21&checkout_year=2017&class_interval=1&dest_id=-235402&dest_type=city&dtdisc=0&group_adults=2&group_children=0&inac=0&index_postcard=0&label_click=undef&no_rooms=1&postcard=0&raw_dest_type=city&room1=A%2CA&sb_price_type=total&search_selected=1&src=index&src_elem=sb&ss=京都&ss_all=0&ss_raw=京都&ssb=empty&sshis=0&rows=40\"\n",
    "\n",
    "res1 = requests.get(url1, headers = headers)\n",
    "soup1 = BeautifulSoup(res1.text, 'lxml')\n",
    "soup1.select('#right')[0].find(lambda x: x.get('data-et-view') == 'TULQWNVLBLWIJDAOfUYdXaO:1')\n",
    "\n",
    "\n",
    "# for \n",
    "# url = \"https://www.booking.com/searchresults.zh-tw.html?label=gen173nr-1FCAEog\\\n",
    "# gJCAlhYSDNiBW5vcmVmaOcBiAEBmAEwuAEGyAEM2AEB6AEB-AELkgIBeagCAw&sid=1be0bee52e034c\\\n",
    "# 3d2cf97e52fd2cf0d3&checkin_month=10&checkin_monthday=19&checkin_year=2017&checko\\\n",
    "# ut_month=10&checkout_monthday=21&checkout_year=2017&class_interval=1&dest_id=-23\\\n",
    "# 5402&dest_type=city&dtdisc=0&group_adults=2&group_children=0&inac=0&index_postca\\\n",
    "# rd=0&label_click=undef&no_rooms=1&postcard=0&raw_dest_type=city&room1=A%2CA&sb_p\\\n",
    "# rice_type=total&search_selected=1&src=index&src_elem=sb&ss=\" + str(location) +\"&ss_\\\n",
    "# all=0&ss_raw=\" + str(location) +\"&ssb=empty&sshis=0&rows=40&offset=\" + str(offset)\n",
    "\n",
    "# res = requests.get(url, headers = headers)\n",
    "# soup = BeautifulSoup(res.text, 'lxml')\n",
    "\n",
    "# for i in \n",
    "\n",
    "# A = soup.select_one(\".sr_item\").find(lambda x: x.get('data-et-click') == 'customGoal:OQRWSEcYC:4')\n",
    "# A.select(\".sr-hotel__name\")[0]"
   ]
  },
  {
   "cell_type": "code",
   "execution_count": 15,
   "metadata": {},
   "outputs": [
    {
     "data": {
      "text/plain": [
       "<div class=\"sr_header \" data-et-view=\"TULQWNVLBLWIJDAOfUYdXaO:1\" role=\"heading\">\n",
       "<h1>\n",
       "京都：找到 852 間住宿 －包括 99 項超值優惠\n",
       "</h1>\n",
       "<h2>\n",
       "3 大旅遊主題：<strong>寺廟</strong>、<strong>文化</strong>、<strong>觀光</strong>\n",
       "</h2>\n",
       "</div>"
      ]
     },
     "execution_count": 15,
     "metadata": {},
     "output_type": "execute_result"
    }
   ],
   "source": [
    "# 找總頁數\n",
    "soup1 = BeautifulSoup(res1.text, 'lxml')\n",
    "pa1 = soup1.select('#right')[0].find(lambda x: x.get('data-et-view') == 'TULQWNVLBLWIJDAOfUYdXaO:1')\n",
    "pa1"
   ]
  },
  {
   "cell_type": "code",
   "execution_count": 16,
   "metadata": {
    "collapsed": true
   },
   "outputs": [],
   "source": [
    "pa1.find('h1').text\n",
    "pattern = \"找到\\s(\\d+)\\s間\"\n",
    "pa2 = re.findall(pattern, pa1.find('h1').text)"
   ]
  },
  {
   "cell_type": "code",
   "execution_count": 21,
   "metadata": {
    "scrolled": true
   },
   "outputs": [
    {
     "data": {
      "text/plain": [
       "852"
      ]
     },
     "execution_count": 21,
     "metadata": {},
     "output_type": "execute_result"
    }
   ],
   "source": [
    "int(pa2[0])"
   ]
  },
  {
   "cell_type": "code",
   "execution_count": 25,
   "metadata": {
    "scrolled": true
   },
   "outputs": [
    {
     "data": {
      "text/plain": [
       "17"
      ]
     },
     "execution_count": 25,
     "metadata": {},
     "output_type": "execute_result"
    }
   ],
   "source": [
    "int(852/50)"
   ]
  },
  {
   "cell_type": "code",
   "execution_count": 9,
   "metadata": {},
   "outputs": [
    {
     "data": {
      "text/plain": [
       "{'Cookie': 'zz_cook_tms_seg1=1; zz_cook_tms_seg3=5; header_signin_prompt=1; zz_cook_tms_ed=1; b1577f1603e12140d61ae5e8237aafdd=1; _ga=GA1.2.2067083198.1501046935; _gid=GA1.2.832559918.1501046935; BJS=-; has_preloaded=1; utag_main=v_id:015d7d5e90a50053be3f16ff21e80407200f506a00bd0$_sn:1$_ss:0$_st:1501063966716$4split:0$4split2:0$ses_id:1501046935719%3Bexp-session$_pn:24%3Bexp-session; bkng=11UmFuZG9tSVYkc2RlIyh9Yaa29%2F3xUOLbXpFeYC4TUhAJbaRO0jw2RDQsK5U5lBnZtZNYGGQ5Gwk68y4W5EpWdnDv%2Bl0uPZZ%2BX1kzZwIkbIaPcI%2FOB5CMfmR4pBZuFxwalc68jMR7N166r7QJFNHMrgySfuLcxZhRTkuTBKFXoggwF0EKZ8wYuuOOmmdrqiT22TD6yXtx3e4%3D; lastSeen=0; _gat=1'}"
      ]
     },
     "execution_count": 9,
     "metadata": {},
     "output_type": "execute_result"
    }
   ],
   "source": [
    "cookie"
   ]
  },
  {
   "cell_type": "code",
   "execution_count": 5,
   "metadata": {
    "collapsed": true
   },
   "outputs": [],
   "source": [
    "data = {'aid':304142,\n",
    "'label':'gen173nr-1DCAEoggJCAlhYSDNiBW5vcmVmaOcBiAEBmAEwuAEGyAEM2AED6AEBkgIBeagCAw',\n",
    "'sid':'25f3195cbf76726e8ffac861269a0d24',\n",
    "'checkin_month':8,\n",
    "'checkin_monthday':24,\n",
    "'checkin_year':2017,\n",
    "'checkout_month':8,\n",
    "'checkout_monthday':27,\n",
    "'checkout_year':2017,\n",
    "'class_interval':1,\n",
    "'dest_id':-235402,\n",
    "'dest_type':'city',\n",
    "'dtdisc':0,\n",
    "'group_adults':2,\n",
    "'group_children':0,\n",
    "'inac':0,\n",
    "'index_postcard':0,\n",
    "'label_click':'undef',\n",
    "'no_rooms':1,\n",
    "'postcard':0,\n",
    "'raw_dest_type':'city',\n",
    "'room1':'A,A',\n",
    "'sb_price_type':'total',\n",
    "'src':'index',\n",
    "'src_elem':'sb',\n",
    "'ss':'京都',\n",
    "'ss_all':0,\n",
    "'ssb':'empty',\n",
    "'sshis':0,\n",
    "'ssne':'京都',\n",
    "'ssne_untouched':'京都',\n",
    "'rows':40,\n",
    "'offset':40,\n",
    "'sr_ajax':1,\n",
    "'b_gtt':'dLYAeZFVJfNTBdAHUdPHUBSSUVJfcbWYaNLDRCAET',\n",
    "'_':1501060181667}"
   ]
  },
  {
   "cell_type": "code",
   "execution_count": 8,
   "metadata": {},
   "outputs": [
    {
     "name": "stdout",
     "output_type": "stream",
     "text": [
      "============================================================page:1\n",
      "============================================================page:2\n",
      "============================================================page:3\n",
      "============================================================page:4\n",
      "============================================================page:5\n"
     ]
    }
   ],
   "source": [
    "# 跑多頁\n",
    "headers = {'User-Agent':'Mozilla/5.0 (Windows NT 6.1; Win64; x64) AppleWebKit/537.36 (KHTML, like Gecko) Chrome/59.0.3071.115 Safari/537.36'}\n",
    "url1 = \"https://www.booking.com/searchresults.zh-tw.html?label=gen173nr-1FCAEoggJCAlhYSDNiBW5vcmVmaOcBiAEBmAEwuAEGyAEM2AEB6AEB-AELkgIBeagCAw&sid=1be0bee52e034c3d2cf97e52fd2cf0d3&checkin_month=10&checkin_monthday=19&checkin_year=2017&checkout_month=10&checkout_monthday=21&checkout_year=2017&class_interval=1&dest_id=-235402&dest_type=city&dtdisc=0&group_adults=2&group_children=0&inac=0&index_postcard=0&label_click=undef&no_rooms=1&postcard=0&raw_dest_type=city&room1=A%2CA&sb_price_type=total&search_selected=1&src=index&src_elem=sb&ss=京都&ss_all=0&ss_raw=京都&ssb=empty&sshis=0&rows=40\"\n",
    "cookie = {'Cookie':'zz_cook_tms_seg1=1; zz_cook_tms_seg3=5; header_signin_prompt=1; zz_cook_tms_ed=1; b1577f1603e12140d61ae5e8237aafdd=1; _ga=GA1.2.2067083198.1501046935; _gid=GA1.2.832559918.1501046935; BJS=-; has_preloaded=1; utag_main=v_id:015d7d5e90a50053be3f16ff21e80407200f506a00bd0$_sn:1$_ss:0$_st:1501063966716$4split:0$4split2:0$ses_id:1501046935719%3Bexp-session$_pn:24%3Bexp-session; bkng=11UmFuZG9tSVYkc2RlIyh9Yaa29%2F3xUOLbXpFeYC4TUhAJbaRO0jw2RDQsK5U5lBnZtZNYGGQ5Gwk68y4W5EpWdnDv%2Bl0uPZZ%2BX1kzZwIkbIaPcI%2FOB5CMfmR4pBZuFxwalc68jMR7N166r7QJFNHMrgySfuLcxZhRTkuTBKFXoggwF0EKZ8wYuuOOmmdrqiT22TD6yXtx3e4%3D; lastSeen=0; _gat=1'}\n",
    "res1 = requests.get(url1, headers = headers, cookies = cookie, data = data)\n",
    "soup1 = BeautifulSoup(res1.text, 'lxml')\n",
    "\n",
    "# 找總頁數\n",
    "# pa1 = soup1.select('#right')[0].find(lambda x: x.get('data-et-view') == 'TULQWNVLBLWIJDAOfUYdXaO:1')\n",
    "# pa1.find('h1').text\n",
    "# pattern = \"找到\\s(\\d+)\\s間\" #找頁數用\n",
    "# pa2 = re.findall(pattern, pa1.find('h1').text)\n",
    "# pageAmount = int(pa2[0])\n",
    "# turnPage = round(pageAmount/50)\n",
    "\n",
    "#\n",
    "location = '京都'\n",
    "\n",
    "for page in range(0, 5):\n",
    "    print(\"===\"*20+\"page:\" + str(page+1))\n",
    "    offset = page*40\n",
    "    url2 = \"https://www.booking.com/searchresults.zh-tw.html?aid=304142&label=gen173nr-1DCAEoggJCAlhYSDNiBW5vcmVmaOcBiAEBmAEwuAEGyAEM2AED6AEBkgIBeagCAw&sid=25f3195cbf76726e8ffac861269a0d24&checkin_month=8&checkin_monthday=24&checkin_year=2017&checkout_month=8&checkout_monthday=27&checkout_year=2017&class_interval=1&dest_id=-235402&dest_type=city&group_adults=2&group_children=0&label_click=undef&no_rooms=1&raw_dest_type=city&room1=A%2CA&sb_price_type=total&src=index&src_elem=sb&ss=%E4%BA%AC%E9%83%BD&ssb=empty&ssne=%E4%BA%AC%E9%83%BD&ssne_untouched=%E4%BA%AC%E9%83%BD&offset=\"+str(offset)###+\"&sr_ajax=1&b_gtt=dLYAeZFVJfNTBdAHUdPHUBSSUVJfcbWYaNLDRCAET&_=1501050897864\"\n",
    "    res2 = requests.get(url2, headers = headers, cookies = cookie, data = data)\n",
    "    soup2 = BeautifulSoup(res2.text, 'lxml')\n",
    "    items = soup2.select(\".sr_item\")\n",
    "    x = 1\n",
    "    for item in items:\n",
    "        print(x); x+=1\n",
    "        name = item.select(\".sr-hotel__name\")[0].text\n",
    "        print(name)   \n",
    "        ii = item.select('.sr_rooms_table_block')[0].select('strong')\n",
    "#         rr = re.findall(\"TWD\\s(\\w+,\\w+$)\", ii)\n",
    "#         if x%3 == 0:\n",
    "#         time.sleep(1);\n",
    "        print(ii)\n",
    "\n",
    "#    for iii in ii:\n",
    "#         tar = iii.select('b')[0]\n",
    "    \n",
    "#         rr = re.findall(\"TWD\\s(\\w+,\\w+$)\", tar.text)\n",
    "    \n",
    "    \n",
    "#             findall(lambda x: x.get('data-et-click') == 'customGoal:OQRWSEcYC:4')\n",
    "#     for item in items:\n",
    "#         name = item.select(\".sr-hotel__name\")[0]\n",
    "#         print(name)\n",
    "\n",
    "#  for i in target:\n",
    "#     ii = i.select('.sr_rooms_table_block')[0].select('strong')\n",
    "# #    ii = i.select('.sr_rooms_table_block')[0].select('strong')\n",
    "\n",
    "#     print(ii)   "
   ]
  },
  {
   "cell_type": "code",
   "execution_count": 33,
   "metadata": {},
   "outputs": [
    {
     "name": "stdout",
     "output_type": "stream",
     "text": [
      "<span class=\"sr-hotel__name\">\n",
      "Stay inn Kyoto Gojo（京都五條公寓式酒店）\n",
      "</span>\n",
      "<span class=\"sr-hotel__name\">\n",
      "Hotel M's Est Shijo Karasuma（四條烏丸艾姆斯伊斯特酒店）\n",
      "</span>\n",
      "<span class=\"sr-hotel__name\">\n",
      "Hana-Touro Hotel Gion（哈納- 圖羅祗園酒店）\n",
      "</span>\n",
      "<span class=\"sr-hotel__name\">\n",
      "Guesthouse Tenkai（騰凱度假屋）\n",
      "</span>\n",
      "<span class=\"sr-hotel__name\">\n",
      "Hotel Sunline Kyoto Gion Shijo（京都森莱精品酒店）\n",
      "</span>\n",
      "<span class=\"sr-hotel__name\">\n",
      "Hearton Hotel Kyoto（京都哈頓酒店）\n",
      "</span>\n",
      "<span class=\"sr-hotel__name\">\n",
      "Aoi Kyoto Stay（葵京都住宿別墅）\n",
      "</span>\n",
      "<span class=\"sr-hotel__name\">\n",
      "Hana-Touro Stay Kyoto Residence（花灯旅宫川町公寓）\n",
      "</span>\n",
      "<span class=\"sr-hotel__name\">\n",
      "The Besso Soso Kyoto（蘇素別墅）\n",
      "</span>\n",
      "<span class=\"sr-hotel__name\">\n",
      "Hotel M's Plus Shijo Omiya（密斯普拉斯杰奧米雅酒店）\n",
      "</span>\n",
      "<span class=\"sr-hotel__name\">\n",
      "Serendipity at Kyoto（京都好運度假屋）\n",
      "</span>\n",
      "<span class=\"sr-hotel__name\">\n",
      "Houze 1st Gojo Omiya - Guest House In Kyoto（五條大宮第一屋公寓- 京都旅館）\n",
      "</span>\n",
      "<span class=\"sr-hotel__name\">\n",
      "Gion Maifukan（祗園舞風館）\n",
      "</span>\n",
      "<span class=\"sr-hotel__name\">\n",
      "Japaning Hotel Modany Kyoto Enmachi（莫丹京都円町酒店）\n",
      "</span>\n",
      "<span class=\"sr-hotel__name\">\n",
      "Four Seasons Hotel Kyoto（京都四季酒店）\n",
      "</span>\n",
      "<span class=\"sr-hotel__name\">\n",
      "Village Kyoto（Village京都）\n",
      "</span>\n",
      "<span class=\"sr-hotel__name\">\n",
      "Hotel Keihan Kyoto Grande（京阪京都大酒店）\n",
      "</span>\n"
     ]
    }
   ],
   "source": [
    "items = soup.select(\".sr_item\")\n",
    "for item in items:\n",
    "     name = item.select(\".sr-hotel__name\")[0]\n",
    "     print(name)   \n",
    "#             findall(lambda x: x.get('data-et-click') == 'customGoal:OQRWSEcYC:4')\n",
    "#     for item in items:\n",
    "#         name = item.select(\".sr-hotel__name\")[0]\n",
    "#         print(name)"
   ]
  },
  {
   "cell_type": "code",
   "execution_count": 23,
   "metadata": {},
   "outputs": [
    {
     "data": {
      "text/plain": [
       "16.98"
      ]
     },
     "execution_count": 23,
     "metadata": {},
     "output_type": "execute_result"
    }
   ],
   "source": [
    "pageAmount/50"
   ]
  },
  {
   "cell_type": "code",
   "execution_count": 71,
   "metadata": {},
   "outputs": [
    {
     "name": "stdout",
     "output_type": "stream",
     "text": [
      "[<strong aria-label=\"2 晚房價: TWD 7,651.\" class=\" price scarcity_color anim_rack_rate \" data-et-view=\"OTfdASFOLCEBJFUC:1\">\n",
      "<b>\n",
      "TWD 7,651\n",
      "</b>\n",
      "</strong>]\n",
      "[<strong aria-label=\"2 晚房價: TWD 15,419.\" class=\" price scarcity_color anim_rack_rate \" data-et-view=\"OTfdASFOLCEBJFUC:1\">\n",
      "<b>\n",
      "TWD 15,419\n",
      "</b>\n",
      "</strong>]\n",
      "[<strong aria-label=\"2 晚房價: TWD 15,148.\" class=\" price scarcity_color anim_rack_rate \" data-et-view=\"OTfdASFOLCEBJFUC:1\">\n",
      "<b>\n",
      "TWD 15,148\n",
      "</b>\n",
      "</strong>]\n",
      "[<strong aria-label=\"2 晚房價: TWD 10,656.\" class=\" price scarcity_color anim_rack_rate \" data-et-view=\"OTfdASFOLCEBJFUC:1\">\n",
      "<b>\n",
      "TWD 10,656\n",
      "</b>\n",
      "</strong>]\n",
      "[<strong aria-label=\"2 晚房價: TWD 10,033.\" class=\" price scarcity_color anim_rack_rate \" data-et-view=\"OTfdASFOLCEBJFUC:1\">\n",
      "<b>\n",
      "TWD 10,033\n",
      "</b>\n",
      "</strong>]\n",
      "[<strong aria-label=\"2 晚房價: TWD 26,764.\" class=\" price scarcity_color anim_rack_rate \" data-et-view=\"OTfdASFOLCEBJFUC:1\">\n",
      "<b>\n",
      "TWD 26,764\n",
      "</b>\n",
      "</strong>]\n",
      "[<strong aria-label=\"2 晚房價: TWD 15,247.\" class=\" price scarcity_color anim_rack_rate \" data-et-view=\"OTfdASFOLCEBJFUC:1\">\n",
      "<b>\n",
      "TWD 15,247\n",
      "</b>\n",
      "</strong>]\n",
      "[<strong aria-label=\"2 晚房價: TWD 9,591.\" class=\" price availprice no_rack_rate \" data-et-view=\"OTfdASFOLCEBJFUC:1\">\n",
      "<b>\n",
      "TWD 9,591\n",
      "</b>\n",
      "</strong>]\n",
      "[<strong aria-label=\"2 晚房價: TWD 9,454.\" class=\" price scarcity_color anim_rack_rate \" data-et-view=\"OTfdASFOLCEBJFUC:1\">\n",
      "<b>\n",
      "TWD 9,454\n",
      "</b>\n",
      "</strong>]\n",
      "[<strong aria-label=\"2 晚房價: TWD 13,361.\" class=\" price scarcity_color anim_rack_rate \" data-et-view=\"OTfdASFOLCEBJFUC:1\">\n",
      "<b>\n",
      "TWD 13,361\n",
      "</b>\n",
      "</strong>]\n",
      "[<strong aria-label=\"2 晚房價: TWD 10,104.\" class=\" price scarcity_color anim_rack_rate \" data-et-view=\"OTfdASFOLCEBJFUC:1\">\n",
      "<b>\n",
      "TWD 10,104\n",
      "</b>\n",
      "</strong>]\n",
      "[<strong aria-label=\"2 晚房價: TWD 12,591.\" class=\" price scarcity_color anim_rack_rate \" data-et-view=\"OTfdASFOLCEBJFUC:1\">\n",
      "<b>\n",
      "TWD 12,591\n",
      "</b>\n",
      "</strong>]\n",
      "[<strong aria-label=\"2 晚房價: TWD 10,820.\" class=\" price scarcity_color anim_rack_rate \" data-et-view=\"OTfdASFOLCEBJFUC:1\">\n",
      "<b>\n",
      "TWD 10,820\n",
      "</b>\n",
      "</strong>]\n",
      "[<strong aria-label=\"2 晚房價: TWD 12,842.\" class=\" price availprice no_rack_rate \" data-et-view=\"OTfdASFOLCEBJFUC:1\">\n",
      "<b>\n",
      "TWD 12,842\n",
      "</b>\n",
      "</strong>]\n",
      "[<strong aria-label=\"2 晚房價: TWD 9,037.\" class=\" price scarcity_color anim_rack_rate \" data-et-view=\"OTfdASFOLCEBJFUC:1\">\n",
      "<b>\n",
      "TWD 9,037\n",
      "</b>\n",
      "</strong>]\n"
     ]
    }
   ],
   "source": [
    "target = soup.select('.sr_item')\n",
    "\n",
    "for i in target:\n",
    "    ii = i.select('.sr_rooms_table_block')[0].select('strong')\n",
    "#    ii = i.select('.sr_rooms_table_block')[0].select('strong')\n",
    "\n",
    "    print(ii)\n",
    "\n",
    "\n",
    "#    for iii in ii:\n",
    "#         tar = iii.select('b')[0]\n",
    "# #         print(tar.text)\n",
    "#         rr = re.findall(\"TWD\\s(\\w+,\\w+$)\", tar.text)\n",
    "        \n",
    "#         print(rr)\n",
    "#         print(re.findall(\"TWD\", tar))\n",
    "#     re.findall(\"TWD\", ii)"
   ]
  },
  {
   "cell_type": "code",
   "execution_count": 78,
   "metadata": {
    "scrolled": true
   },
   "outputs": [
    {
     "data": {
      "text/plain": [
       "'https://www.booking.com/searchresults.zh-tw.html?label=gen173nr-1FCAEoggJCAlhYSDNiBW5vcmVmaOcBiAEBmAEwuAEGyAEM2AEB6AEB-AELkgIBeagCAw&sid=1be0bee52e034c3d2cf97e52fd2cf0d3&checkin_month=10&checkin_monthday=19&checkin_year=2017&checkout_month=10&checkout_monthday=21&checkout_year=2017&class_interval=1&dest_id=-235402&dest_type=city&dtdisc=0&group_adults=2&group_children=0&inac=0&index_postcard=0&label_click=undef&no_rooms=1&postcard=0&raw_dest_type=city&room1=A%2CA&sb_price_type=total&search_selected=1&src=index&src_elem=sb&ss=京都, 京都府, 日本&ss_all=0&ss_raw=%E4%BA%AC%E9%83%BD&ssb=empty&sshis=0&rows=40&offset=0'"
      ]
     },
     "execution_count": 78,
     "metadata": {},
     "output_type": "execute_result"
    }
   ],
   "source": [
    "url"
   ]
  },
  {
   "cell_type": "code",
   "execution_count": null,
   "metadata": {
    "collapsed": true
   },
   "outputs": [],
   "source": [
    "https://www.booking.com/searchresults.zh-tw.html?label=gen173nr-1FCAEoggJCAlhYSDNiBW5vcmVmaOcBiAEBmAEwuAEGyAEM2AEB6AEB-AELkgIBeagCAw&sid=1be0bee52e034c3d2cf97e52fd2cf0d3&checkin_month=10&checkin_monthday=19&checkin_year=2017&checkout_month=10&checkout_monthday=21&checkout_year=2017&class_interval=1&dest_id=-235402&dest_type=city&dtdisc=0&group_adults=2&group_children=0&inac=0&index_postcard=0&label_click=undef&no_rooms=1&postcard=0&raw_dest_type=city&room1=A%2CA&sb_price_type=total&search_selected=1&src=index&src_elem=sb&ss=京都&ss_all=0&ss_raw=京都&ssb=empty&sshis=0&rows=40&offset=0"
   ]
  }
 ],
 "metadata": {
  "kernelspec": {
   "display_name": "Python 3",
   "language": "python",
   "name": "python3"
  },
  "language_info": {
   "codemirror_mode": {
    "name": "ipython",
    "version": 3
   },
   "file_extension": ".py",
   "mimetype": "text/x-python",
   "name": "python",
   "nbconvert_exporter": "python",
   "pygments_lexer": "ipython3",
   "version": "3.6.1"
  }
 },
 "nbformat": 4,
 "nbformat_minor": 2
}
