{
 "cells": [
  {
   "cell_type": "code",
   "execution_count": 2,
   "metadata": {
    "collapsed": true
   },
   "outputs": [],
   "source": [
    "import requests\n",
    "from bs4 import BeautifulSoup\n",
    "import re"
   ]
  },
  {
   "cell_type": "code",
   "execution_count": 3,
   "metadata": {
    "collapsed": true
   },
   "outputs": [],
   "source": [
    "url = \"https://www.tripadvisor.com.tw/Attractions-g298564-Activities-Kyoto_Kyoto_Prefecture_Kinki.html#ATTRACTION_LIST\"\n",
    "res = requests.get(url, 'lxml')"
   ]
  },
  {
   "cell_type": "code",
   "execution_count": 4,
   "metadata": {
    "collapsed": true
   },
   "outputs": [],
   "source": [
    "soup = BeautifulSoup(res.text, 'lxml')"
   ]
  },
  {
   "cell_type": "code",
   "execution_count": 5,
   "metadata": {
    "collapsed": true
   },
   "outputs": [],
   "source": [
    "items = soup.select('div > .attraction_clarity_cell')"
   ]
  },
  {
   "cell_type": "code",
   "execution_count": 6,
   "metadata": {
    "scrolled": true
   },
   "outputs": [
    {
     "data": {
      "text/plain": [
       "<a href=\"/Attraction_Review-g298564-d321456-Reviews-Fushimi_Inari_taisha_Shrine-Kyoto_Kyoto_Prefecture_Kinki.html\" onclick=\"ta.setEvtCookie('Attraction_List_Click', 'POI_click', 'name', 1, '/Attraction_Review')\" target=\"_blank\">伏見稻荷大社</a>"
      ]
     },
     "execution_count": 6,
     "metadata": {},
     "output_type": "execute_result"
    }
   ],
   "source": [
    "items[1].select(\"a\")[0]"
   ]
  },
  {
   "cell_type": "code",
   "execution_count": 7,
   "metadata": {
    "scrolled": true
   },
   "outputs": [
    {
     "data": {
      "text/plain": [
       "['\\n京都五山送火\\n',\n",
       " '伏見稻荷大社',\n",
       " '私人遊覽 (33)',\n",
       " '金閣寺',\n",
       " '清水寺',\n",
       " '三十三間堂',\n",
       " '課程和工作坊 (69)',\n",
       " '禪林寺（永觀堂）',\n",
       " '銀閣寺',\n",
       " '二條城',\n",
       " '祗園',\n",
       " '京都駅',\n",
       " '嵐山岩田山猴子公園',\n",
       " '仁和寺',\n",
       " '青蓮院',\n",
       " '東寺',\n",
       " '東福寺',\n",
       " '三千院',\n",
       " '南禪寺',\n",
       " '天龍寺',\n",
       " '高台寺',\n",
       " '京都錦市場',\n",
       " '哲學之道',\n",
       " '建仁寺',\n",
       " '鞍馬山',\n",
       " '大河內山莊庭園',\n",
       " '龍安寺',\n",
       " '三年坂二年坂',\n",
       " '西本願寺',\n",
       " '先斗町',\n",
       " '上賀茂神社']"
      ]
     },
     "execution_count": 7,
     "metadata": {},
     "output_type": "execute_result"
    }
   ],
   "source": [
    "[items[i].select(\"a\")[0].text for i in range(0, len(items))]\n",
    "#[re.findall('target', item[1].select(\"a\")[0].text) for item in items]"
   ]
  },
  {
   "cell_type": "code",
   "execution_count": 25,
   "metadata": {},
   "outputs": [
    {
     "name": "stdout",
     "output_type": "stream",
     "text": [
      "['京都五山送火', '伏見稻荷大社', '私人遊覽 (33)', '金閣寺', '清水寺', '三十三間堂', '課程和工作坊 (69)', '禪林寺（永觀堂）', '銀閣寺', '二條城', '祗園', '京都駅', '嵐山岩田山猴子公園', '仁和寺', '青蓮院', '東寺', '東福寺', '三千院', '南禪寺', '天龍寺', '高台寺', '京都錦市場', '哲學之道', '建仁寺', '鞍馬山', '大河內山莊庭園', '龍安寺', '三年坂二年坂', '西本願寺', '先斗町', '上賀茂神社']\n",
      "===========31\n",
      "['京都五山送火', '下鴨神社', '嵯峨野', '嵯峨野竹林', '北野天滿宮', '醍醐寺', '貴船神社', 'Ran Theatre Kyoto', '平安神宮', '京都鐵道博物館', '京都御所', '賀茂川', '東本願寺', '八坂神社', '修學院離宮', '知恩院', '京都府立植物園', '石塀小路', '酒吧、夜店和酒館遊覽 (1)', '鞍馬寺', '祇王寺', '圓山公園', '嵐山嵯峨野觀光小火車', '渡月橋', '文化遊覽 (29)', '大覺寺', '京都塔', '禮品和特色商店 (327)', '清水板老街', '京都國立博物館', '桂離宮']\n",
      "===========31\n",
      "['京都五山送火', '步行遊覽 (20)', '大德寺', '南禪寺水路閣', '法然院', '愛宕念佛寺', '祗園祭', '常寂光寺', '京都御苑', '智積院', '涉成園', '八坂塔', '京都水族館', '詩仙堂', '花見小路', '寶泉院', '東映太秦電影村', '晴明神社', '京都國際漫畫博物館', '妙心寺', '平野神社', '蹴上傾斜鐵道', '月桂冠大倉紀念館', '安井金比羅宮', '西芳寺', '新京極', '高桐院', 'Genkoan', '祇園甲部歌舞劇場', '新橋通', '京都傳統產業體驗館']\n",
      "===========31\n",
      "['京都五山送火', '真如堂(真正極樂寺)', '神護寺', '化野念佛寺', '將軍塚', '圓光寺', '廣隆寺', '今宮神社', '城市遊覽 (24)', '野宮神社', '酒吧和夜店 (33)', '錦天滿宮', '京都市美術館', '城南宮', '善峰寺', '京都Porta地下街', '等持院', '比叡山', '金戒光明寺', '松尾大社', 'Entoku-in', '六波羅蜜寺', '無鄰奄庭園', '鈴蟲寺', '寶嚴院', '京都永旺購物中心', 'Spa (34)', '設備器材租賃 (102)', '金地院', '二尊院', '清涼寺']\n",
      "===========31\n",
      "['京都五山送火', 'Kyoto City Bus', '雲龍院', '大文字山', 'Shokokuji Temple', 'Haradanien', '泉湧寺', '退藏院庭園', '地主神社', '天授庵庭園', 'Kyoto Tourist Information Center', '木屋町通', '表演 (11)', '寂光院', '頂法寺', '仙洞御所', '靈山觀音', '瑠璃光院', '京都府京都文化博物館', '烹飪課程 (24)', '毘沙門堂', '京都國立近代美術館', '寺町', '本能寺', 'Nene石板步行街', 'Umekoji Park', 'Komyoin', 'Jotenkaku Museum', '西陣織會館', 'Kyoto Horse Racetrack', 'Shozan Resort Kyoto']\n",
      "===========31\n"
     ]
    }
   ],
   "source": [
    "spotList = []\n",
    "for page in range(0, 5):\n",
    "    url = \"https://www.tripadvisor.com.tw/Attractions-g298564-Activities-oa\"+str(30*page)+\"-Kyoto_Kyoto_Prefecture_Kinki.html#ATTRACTION_LIST\" \n",
    "    res = requests.get(url, 'lxml')\n",
    "    soup = BeautifulSoup(res.text, 'lxml')\n",
    "    items = soup.select('div > .attraction_clarity_cell')\n",
    "    target = [str(items[i].select(\"a\")[0].text).strip() for i in range(0, len(items))]\n",
    "    print(target)\n",
    "    spotList.append(target)\n",
    "    print(\"===========\"+str(len(target)))\n",
    "spots = [j for i in spotList for j in i]"
   ]
  },
  {
   "cell_type": "code",
   "execution_count": 26,
   "metadata": {},
   "outputs": [],
   "source": [
    "import pymongo\n",
    "import ast"
   ]
  },
  {
   "cell_type": "code",
   "execution_count": null,
   "metadata": {
    "collapsed": true
   },
   "outputs": [],
   "source": [
    "from pymongo import MongoClient\n",
    "# uri = \"mongodb://%s:%s@%s\" % (\n",
    "#     quote_plus(user), quote_plus(password), host)\n",
    "# client = MongoClient(uri)\n",
    "client = MongoClient('10.120.27.11', 27017)\n",
    "# client = MongoClient()\n",
    "##自己創一個DB\n",
    "db=client[\"bb102\"]\n",
    "## 自己創一個collection\n",
    "collection=db[\"Booking\"]"
   ]
  }
 ],
 "metadata": {
  "kernelspec": {
   "display_name": "Python 3",
   "language": "python",
   "name": "python3"
  },
  "language_info": {
   "codemirror_mode": {
    "name": "ipython",
    "version": 3
   },
   "file_extension": ".py",
   "mimetype": "text/x-python",
   "name": "python",
   "nbconvert_exporter": "python",
   "pygments_lexer": "ipython3",
   "version": "3.6.1"
  }
 },
 "nbformat": 4,
 "nbformat_minor": 2
}
