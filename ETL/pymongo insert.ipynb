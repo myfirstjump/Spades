{
 "cells": [
  {
   "cell_type": "code",
   "execution_count": 1,
   "metadata": {},
   "outputs": [
    {
     "name": "stdout",
     "output_type": "stream",
     "text": [
      "Requirement already satisfied: pymongo in d:\\programdata\\anaconda3\\lib\\site-packages\n"
     ]
    }
   ],
   "source": [
    "#! pip install pymongo\n"
   ]
  },
  {
   "cell_type": "code",
   "execution_count": 1,
   "metadata": {
    "collapsed": true
   },
   "outputs": [],
   "source": [
    "import pymongo\n",
    "import re\n",
    "import ast\n",
    "# ast.literal_eval(\"{'muffin' : 'lolz', 'foo' : 'kitty'}\")\n",
    "# {'muffin': 'lolz', 'foo': 'kitty'}\n",
    "from datetime import datetime, timedelta, date"
   ]
  },
  {
   "cell_type": "code",
   "execution_count": 2,
   "metadata": {
    "collapsed": true
   },
   "outputs": [],
   "source": [
    "# Settings\n",
    "surveyRange = 180\n",
    "travelPeriod = 1\n",
    "#adultNumber = 2\n",
    "\n",
    "# Date List \n",
    "# args: start date, survey range, travel period(days)\n",
    "# ex. [datetime.date(2017, 8, 7), datetime.date(2017, 8, 11)] ~ [datetime.date(2017, 9, 5), datetime.date(2017, 9, 9)]]\n",
    "def getDateList(dt = date.today(), ran = surveyRange, period = travelPeriod):\n",
    "    timeList = []\n",
    "    start = dt\n",
    "    end = start + timedelta(days = period)\n",
    "    for i in range(1, ran+1):  # i = 1 ~ ran\n",
    "        timeList.append([start, end])\n",
    "        start = start + timedelta(days = 1)\n",
    "        end = end + timedelta(days = 1) \n",
    "    return timeList\n",
    "timeList = getDateList(dt = date(2017, 8 ,15)) # from dt = date(2017, 12 ,31)"
   ]
  },
  {
   "cell_type": "code",
   "execution_count": 4,
   "metadata": {},
   "outputs": [
    {
     "data": {
      "text/plain": [
       "[[datetime.date(2017, 8, 15), datetime.date(2017, 8, 16)],\n",
       " [datetime.date(2017, 8, 16), datetime.date(2017, 8, 17)],\n",
       " [datetime.date(2017, 8, 17), datetime.date(2017, 8, 18)],\n",
       " [datetime.date(2017, 8, 18), datetime.date(2017, 8, 19)],\n",
       " [datetime.date(2017, 8, 19), datetime.date(2017, 8, 20)],\n",
       " [datetime.date(2017, 8, 20), datetime.date(2017, 8, 21)],\n",
       " [datetime.date(2017, 8, 21), datetime.date(2017, 8, 22)],\n",
       " [datetime.date(2017, 8, 22), datetime.date(2017, 8, 23)],\n",
       " [datetime.date(2017, 8, 23), datetime.date(2017, 8, 24)],\n",
       " [datetime.date(2017, 8, 24), datetime.date(2017, 8, 25)],\n",
       " [datetime.date(2017, 8, 25), datetime.date(2017, 8, 26)],\n",
       " [datetime.date(2017, 8, 26), datetime.date(2017, 8, 27)],\n",
       " [datetime.date(2017, 8, 27), datetime.date(2017, 8, 28)],\n",
       " [datetime.date(2017, 8, 28), datetime.date(2017, 8, 29)],\n",
       " [datetime.date(2017, 8, 29), datetime.date(2017, 8, 30)],\n",
       " [datetime.date(2017, 8, 30), datetime.date(2017, 8, 31)],\n",
       " [datetime.date(2017, 8, 31), datetime.date(2017, 9, 1)],\n",
       " [datetime.date(2017, 9, 1), datetime.date(2017, 9, 2)],\n",
       " [datetime.date(2017, 9, 2), datetime.date(2017, 9, 3)],\n",
       " [datetime.date(2017, 9, 3), datetime.date(2017, 9, 4)],\n",
       " [datetime.date(2017, 9, 4), datetime.date(2017, 9, 5)],\n",
       " [datetime.date(2017, 9, 5), datetime.date(2017, 9, 6)],\n",
       " [datetime.date(2017, 9, 6), datetime.date(2017, 9, 7)],\n",
       " [datetime.date(2017, 9, 7), datetime.date(2017, 9, 8)],\n",
       " [datetime.date(2017, 9, 8), datetime.date(2017, 9, 9)],\n",
       " [datetime.date(2017, 9, 9), datetime.date(2017, 9, 10)],\n",
       " [datetime.date(2017, 9, 10), datetime.date(2017, 9, 11)],\n",
       " [datetime.date(2017, 9, 11), datetime.date(2017, 9, 12)],\n",
       " [datetime.date(2017, 9, 12), datetime.date(2017, 9, 13)],\n",
       " [datetime.date(2017, 9, 13), datetime.date(2017, 9, 14)],\n",
       " [datetime.date(2017, 9, 14), datetime.date(2017, 9, 15)],\n",
       " [datetime.date(2017, 9, 15), datetime.date(2017, 9, 16)],\n",
       " [datetime.date(2017, 9, 16), datetime.date(2017, 9, 17)],\n",
       " [datetime.date(2017, 9, 17), datetime.date(2017, 9, 18)],\n",
       " [datetime.date(2017, 9, 18), datetime.date(2017, 9, 19)],\n",
       " [datetime.date(2017, 9, 19), datetime.date(2017, 9, 20)],\n",
       " [datetime.date(2017, 9, 20), datetime.date(2017, 9, 21)],\n",
       " [datetime.date(2017, 9, 21), datetime.date(2017, 9, 22)],\n",
       " [datetime.date(2017, 9, 22), datetime.date(2017, 9, 23)],\n",
       " [datetime.date(2017, 9, 23), datetime.date(2017, 9, 24)],\n",
       " [datetime.date(2017, 9, 24), datetime.date(2017, 9, 25)],\n",
       " [datetime.date(2017, 9, 25), datetime.date(2017, 9, 26)],\n",
       " [datetime.date(2017, 9, 26), datetime.date(2017, 9, 27)],\n",
       " [datetime.date(2017, 9, 27), datetime.date(2017, 9, 28)],\n",
       " [datetime.date(2017, 9, 28), datetime.date(2017, 9, 29)],\n",
       " [datetime.date(2017, 9, 29), datetime.date(2017, 9, 30)],\n",
       " [datetime.date(2017, 9, 30), datetime.date(2017, 10, 1)],\n",
       " [datetime.date(2017, 10, 1), datetime.date(2017, 10, 2)],\n",
       " [datetime.date(2017, 10, 2), datetime.date(2017, 10, 3)],\n",
       " [datetime.date(2017, 10, 3), datetime.date(2017, 10, 4)],\n",
       " [datetime.date(2017, 10, 4), datetime.date(2017, 10, 5)],\n",
       " [datetime.date(2017, 10, 5), datetime.date(2017, 10, 6)],\n",
       " [datetime.date(2017, 10, 6), datetime.date(2017, 10, 7)],\n",
       " [datetime.date(2017, 10, 7), datetime.date(2017, 10, 8)],\n",
       " [datetime.date(2017, 10, 8), datetime.date(2017, 10, 9)],\n",
       " [datetime.date(2017, 10, 9), datetime.date(2017, 10, 10)],\n",
       " [datetime.date(2017, 10, 10), datetime.date(2017, 10, 11)],\n",
       " [datetime.date(2017, 10, 11), datetime.date(2017, 10, 12)],\n",
       " [datetime.date(2017, 10, 12), datetime.date(2017, 10, 13)],\n",
       " [datetime.date(2017, 10, 13), datetime.date(2017, 10, 14)],\n",
       " [datetime.date(2017, 10, 14), datetime.date(2017, 10, 15)],\n",
       " [datetime.date(2017, 10, 15), datetime.date(2017, 10, 16)],\n",
       " [datetime.date(2017, 10, 16), datetime.date(2017, 10, 17)],\n",
       " [datetime.date(2017, 10, 17), datetime.date(2017, 10, 18)],\n",
       " [datetime.date(2017, 10, 18), datetime.date(2017, 10, 19)],\n",
       " [datetime.date(2017, 10, 19), datetime.date(2017, 10, 20)],\n",
       " [datetime.date(2017, 10, 20), datetime.date(2017, 10, 21)],\n",
       " [datetime.date(2017, 10, 21), datetime.date(2017, 10, 22)],\n",
       " [datetime.date(2017, 10, 22), datetime.date(2017, 10, 23)],\n",
       " [datetime.date(2017, 10, 23), datetime.date(2017, 10, 24)],\n",
       " [datetime.date(2017, 10, 24), datetime.date(2017, 10, 25)],\n",
       " [datetime.date(2017, 10, 25), datetime.date(2017, 10, 26)],\n",
       " [datetime.date(2017, 10, 26), datetime.date(2017, 10, 27)],\n",
       " [datetime.date(2017, 10, 27), datetime.date(2017, 10, 28)],\n",
       " [datetime.date(2017, 10, 28), datetime.date(2017, 10, 29)],\n",
       " [datetime.date(2017, 10, 29), datetime.date(2017, 10, 30)],\n",
       " [datetime.date(2017, 10, 30), datetime.date(2017, 10, 31)],\n",
       " [datetime.date(2017, 10, 31), datetime.date(2017, 11, 1)],\n",
       " [datetime.date(2017, 11, 1), datetime.date(2017, 11, 2)],\n",
       " [datetime.date(2017, 11, 2), datetime.date(2017, 11, 3)],\n",
       " [datetime.date(2017, 11, 3), datetime.date(2017, 11, 4)],\n",
       " [datetime.date(2017, 11, 4), datetime.date(2017, 11, 5)],\n",
       " [datetime.date(2017, 11, 5), datetime.date(2017, 11, 6)],\n",
       " [datetime.date(2017, 11, 6), datetime.date(2017, 11, 7)],\n",
       " [datetime.date(2017, 11, 7), datetime.date(2017, 11, 8)],\n",
       " [datetime.date(2017, 11, 8), datetime.date(2017, 11, 9)],\n",
       " [datetime.date(2017, 11, 9), datetime.date(2017, 11, 10)],\n",
       " [datetime.date(2017, 11, 10), datetime.date(2017, 11, 11)],\n",
       " [datetime.date(2017, 11, 11), datetime.date(2017, 11, 12)],\n",
       " [datetime.date(2017, 11, 12), datetime.date(2017, 11, 13)],\n",
       " [datetime.date(2017, 11, 13), datetime.date(2017, 11, 14)],\n",
       " [datetime.date(2017, 11, 14), datetime.date(2017, 11, 15)],\n",
       " [datetime.date(2017, 11, 15), datetime.date(2017, 11, 16)],\n",
       " [datetime.date(2017, 11, 16), datetime.date(2017, 11, 17)],\n",
       " [datetime.date(2017, 11, 17), datetime.date(2017, 11, 18)],\n",
       " [datetime.date(2017, 11, 18), datetime.date(2017, 11, 19)],\n",
       " [datetime.date(2017, 11, 19), datetime.date(2017, 11, 20)],\n",
       " [datetime.date(2017, 11, 20), datetime.date(2017, 11, 21)],\n",
       " [datetime.date(2017, 11, 21), datetime.date(2017, 11, 22)],\n",
       " [datetime.date(2017, 11, 22), datetime.date(2017, 11, 23)],\n",
       " [datetime.date(2017, 11, 23), datetime.date(2017, 11, 24)],\n",
       " [datetime.date(2017, 11, 24), datetime.date(2017, 11, 25)],\n",
       " [datetime.date(2017, 11, 25), datetime.date(2017, 11, 26)],\n",
       " [datetime.date(2017, 11, 26), datetime.date(2017, 11, 27)],\n",
       " [datetime.date(2017, 11, 27), datetime.date(2017, 11, 28)],\n",
       " [datetime.date(2017, 11, 28), datetime.date(2017, 11, 29)],\n",
       " [datetime.date(2017, 11, 29), datetime.date(2017, 11, 30)],\n",
       " [datetime.date(2017, 11, 30), datetime.date(2017, 12, 1)],\n",
       " [datetime.date(2017, 12, 1), datetime.date(2017, 12, 2)],\n",
       " [datetime.date(2017, 12, 2), datetime.date(2017, 12, 3)],\n",
       " [datetime.date(2017, 12, 3), datetime.date(2017, 12, 4)],\n",
       " [datetime.date(2017, 12, 4), datetime.date(2017, 12, 5)],\n",
       " [datetime.date(2017, 12, 5), datetime.date(2017, 12, 6)],\n",
       " [datetime.date(2017, 12, 6), datetime.date(2017, 12, 7)],\n",
       " [datetime.date(2017, 12, 7), datetime.date(2017, 12, 8)],\n",
       " [datetime.date(2017, 12, 8), datetime.date(2017, 12, 9)],\n",
       " [datetime.date(2017, 12, 9), datetime.date(2017, 12, 10)],\n",
       " [datetime.date(2017, 12, 10), datetime.date(2017, 12, 11)],\n",
       " [datetime.date(2017, 12, 11), datetime.date(2017, 12, 12)],\n",
       " [datetime.date(2017, 12, 12), datetime.date(2017, 12, 13)],\n",
       " [datetime.date(2017, 12, 13), datetime.date(2017, 12, 14)],\n",
       " [datetime.date(2017, 12, 14), datetime.date(2017, 12, 15)],\n",
       " [datetime.date(2017, 12, 15), datetime.date(2017, 12, 16)],\n",
       " [datetime.date(2017, 12, 16), datetime.date(2017, 12, 17)],\n",
       " [datetime.date(2017, 12, 17), datetime.date(2017, 12, 18)],\n",
       " [datetime.date(2017, 12, 18), datetime.date(2017, 12, 19)],\n",
       " [datetime.date(2017, 12, 19), datetime.date(2017, 12, 20)],\n",
       " [datetime.date(2017, 12, 20), datetime.date(2017, 12, 21)],\n",
       " [datetime.date(2017, 12, 21), datetime.date(2017, 12, 22)],\n",
       " [datetime.date(2017, 12, 22), datetime.date(2017, 12, 23)],\n",
       " [datetime.date(2017, 12, 23), datetime.date(2017, 12, 24)],\n",
       " [datetime.date(2017, 12, 24), datetime.date(2017, 12, 25)],\n",
       " [datetime.date(2017, 12, 25), datetime.date(2017, 12, 26)],\n",
       " [datetime.date(2017, 12, 26), datetime.date(2017, 12, 27)],\n",
       " [datetime.date(2017, 12, 27), datetime.date(2017, 12, 28)],\n",
       " [datetime.date(2017, 12, 28), datetime.date(2017, 12, 29)],\n",
       " [datetime.date(2017, 12, 29), datetime.date(2017, 12, 30)],\n",
       " [datetime.date(2017, 12, 30), datetime.date(2017, 12, 31)],\n",
       " [datetime.date(2017, 12, 31), datetime.date(2018, 1, 1)],\n",
       " [datetime.date(2018, 1, 1), datetime.date(2018, 1, 2)],\n",
       " [datetime.date(2018, 1, 2), datetime.date(2018, 1, 3)],\n",
       " [datetime.date(2018, 1, 3), datetime.date(2018, 1, 4)],\n",
       " [datetime.date(2018, 1, 4), datetime.date(2018, 1, 5)],\n",
       " [datetime.date(2018, 1, 5), datetime.date(2018, 1, 6)],\n",
       " [datetime.date(2018, 1, 6), datetime.date(2018, 1, 7)],\n",
       " [datetime.date(2018, 1, 7), datetime.date(2018, 1, 8)],\n",
       " [datetime.date(2018, 1, 8), datetime.date(2018, 1, 9)],\n",
       " [datetime.date(2018, 1, 9), datetime.date(2018, 1, 10)],\n",
       " [datetime.date(2018, 1, 10), datetime.date(2018, 1, 11)],\n",
       " [datetime.date(2018, 1, 11), datetime.date(2018, 1, 12)],\n",
       " [datetime.date(2018, 1, 12), datetime.date(2018, 1, 13)],\n",
       " [datetime.date(2018, 1, 13), datetime.date(2018, 1, 14)],\n",
       " [datetime.date(2018, 1, 14), datetime.date(2018, 1, 15)],\n",
       " [datetime.date(2018, 1, 15), datetime.date(2018, 1, 16)],\n",
       " [datetime.date(2018, 1, 16), datetime.date(2018, 1, 17)],\n",
       " [datetime.date(2018, 1, 17), datetime.date(2018, 1, 18)],\n",
       " [datetime.date(2018, 1, 18), datetime.date(2018, 1, 19)],\n",
       " [datetime.date(2018, 1, 19), datetime.date(2018, 1, 20)],\n",
       " [datetime.date(2018, 1, 20), datetime.date(2018, 1, 21)],\n",
       " [datetime.date(2018, 1, 21), datetime.date(2018, 1, 22)],\n",
       " [datetime.date(2018, 1, 22), datetime.date(2018, 1, 23)],\n",
       " [datetime.date(2018, 1, 23), datetime.date(2018, 1, 24)],\n",
       " [datetime.date(2018, 1, 24), datetime.date(2018, 1, 25)],\n",
       " [datetime.date(2018, 1, 25), datetime.date(2018, 1, 26)],\n",
       " [datetime.date(2018, 1, 26), datetime.date(2018, 1, 27)],\n",
       " [datetime.date(2018, 1, 27), datetime.date(2018, 1, 28)],\n",
       " [datetime.date(2018, 1, 28), datetime.date(2018, 1, 29)],\n",
       " [datetime.date(2018, 1, 29), datetime.date(2018, 1, 30)],\n",
       " [datetime.date(2018, 1, 30), datetime.date(2018, 1, 31)],\n",
       " [datetime.date(2018, 1, 31), datetime.date(2018, 2, 1)],\n",
       " [datetime.date(2018, 2, 1), datetime.date(2018, 2, 2)],\n",
       " [datetime.date(2018, 2, 2), datetime.date(2018, 2, 3)],\n",
       " [datetime.date(2018, 2, 3), datetime.date(2018, 2, 4)],\n",
       " [datetime.date(2018, 2, 4), datetime.date(2018, 2, 5)],\n",
       " [datetime.date(2018, 2, 5), datetime.date(2018, 2, 6)],\n",
       " [datetime.date(2018, 2, 6), datetime.date(2018, 2, 7)],\n",
       " [datetime.date(2018, 2, 7), datetime.date(2018, 2, 8)],\n",
       " [datetime.date(2018, 2, 8), datetime.date(2018, 2, 9)],\n",
       " [datetime.date(2018, 2, 9), datetime.date(2018, 2, 10)],\n",
       " [datetime.date(2018, 2, 10), datetime.date(2018, 2, 11)]]"
      ]
     },
     "execution_count": 4,
     "metadata": {},
     "output_type": "execute_result"
    }
   ],
   "source": [
    "timeList"
   ]
  },
  {
   "cell_type": "code",
   "execution_count": 9,
   "metadata": {
    "collapsed": true
   },
   "outputs": [],
   "source": [
    "from pymongo import MongoClient\n",
    "# uri = \"mongodb://%s:%s@%s\" % (\n",
    "#     quote_plus(user), quote_plus(password), host)\n",
    "# client = MongoClient(uri)\n",
    "client = MongoClient('10.120.27.11', 27017)\n",
    "# client = MongoClient()"
   ]
  },
  {
   "cell_type": "code",
   "execution_count": 10,
   "metadata": {
    "collapsed": true
   },
   "outputs": [],
   "source": [
    "##自己創一個DB\n",
    "db=client[\"bb102\"]"
   ]
  },
  {
   "cell_type": "code",
   "execution_count": 11,
   "metadata": {
    "collapsed": true
   },
   "outputs": [],
   "source": [
    "## 自己創一個collection\n",
    "collection=db[\"Booking\"]"
   ]
  },
  {
   "cell_type": "code",
   "execution_count": 12,
   "metadata": {},
   "outputs": [
    {
     "name": "stderr",
     "output_type": "stream",
     "text": [
      "C:\\Users\\Java\\Anaconda3\\lib\\site-packages\\ipykernel_launcher.py:12: DeprecationWarning: insert is deprecated. Use insert_one or insert_many instead.\n",
      "  if sys.path[0] == '':\n"
     ]
    }
   ],
   "source": [
    "for i in range(1, surveyRange+1):\n",
    "    f = open(\"D:\\DATA\\data-grabTime-(8, 12, 12)\\BookingList-from-{}-to-{}.txt\".format(timeList[i-1][0], timeList[i-1][1]), encoding = \"UTF-8\")\n",
    "    content = f.read()   # content為一個period的全部旅館string\n",
    "    items = content.split(\"}\")\n",
    "    items.pop()\n",
    "    for item in items:\n",
    "        #print(type(item))\n",
    "        item = item + str(\"}\")\n",
    "        #print(item.strip(\",\"))\n",
    "        put = ast.literal_eval(item.strip(\",\").strip(\" \"))\n",
    "        #print(type(put))\n",
    "        collection.insert(put)\n",
    "    f.close"
   ]
  },
  {
   "cell_type": "code",
   "execution_count": 5,
   "metadata": {
    "collapsed": true
   },
   "outputs": [],
   "source": [
    "# dir1 = {'Arrival': 'KIX',\n",
    "#  'Chiname': '捷星',\n",
    "#  'Depart': 'TPE',\n",
    "#  'Departtime': '2017-8-15-12-40',\n",
    "#  'Engname': 'JETSTAR',\n",
    "#  'No': '3K721',\n",
    "#  'Price': '7598',\n",
    "#  'arrivaltime': '2017-8-15-16-30'}"
   ]
  },
  {
   "cell_type": "code",
   "execution_count": 6,
   "metadata": {},
   "outputs": [
    {
     "name": "stderr",
     "output_type": "stream",
     "text": [
      "c:\\program files\\python36\\lib\\site-packages\\ipykernel_launcher.py:1: DeprecationWarning: insert is deprecated. Use insert_one or insert_many instead.\n",
      "  \"\"\"Entry point for launching an IPython kernel.\n"
     ]
    },
    {
     "data": {
      "text/plain": [
       "ObjectId('598d9fa7aadaed1e4c719923')"
      ]
     },
     "execution_count": 6,
     "metadata": {},
     "output_type": "execute_result"
    }
   ],
   "source": [
    "# collection.insert(dir1)"
   ]
  },
  {
   "cell_type": "code",
   "execution_count": null,
   "metadata": {
    "collapsed": true
   },
   "outputs": [],
   "source": []
  }
 ],
 "metadata": {
  "kernelspec": {
   "display_name": "Python 3",
   "language": "python",
   "name": "python3"
  },
  "language_info": {
   "codemirror_mode": {
    "name": "ipython",
    "version": 3
   },
   "file_extension": ".py",
   "mimetype": "text/x-python",
   "name": "python",
   "nbconvert_exporter": "python",
   "pygments_lexer": "ipython3",
   "version": "3.6.1"
  }
 },
 "nbformat": 4,
 "nbformat_minor": 2
}
