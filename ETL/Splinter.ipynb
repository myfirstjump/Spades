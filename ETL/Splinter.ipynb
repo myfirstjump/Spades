{
 "cells": [
  {
   "cell_type": "code",
   "execution_count": 1,
   "metadata": {
    "scrolled": true
   },
   "outputs": [
    {
     "name": "stdout",
     "output_type": "stream",
     "text": [
      "Collecting splinter\n",
      "  Downloading splinter-0.7.5.tar.gz\n",
      "Collecting selenium>=2.53.6 (from splinter)\n",
      "  Downloading selenium-3.4.3-py2.py3-none-any.whl (931kB)\n",
      "Building wheels for collected packages: splinter\n",
      "  Running setup.py bdist_wheel for splinter: started\n",
      "  Running setup.py bdist_wheel for splinter: finished with status 'done'\n",
      "  Stored in directory: C:\\Users\\Java\\AppData\\Local\\pip\\Cache\\wheels\\00\\42\\c2\\24111557fd99b18cb53e301d060d2f04b17cdab3ac467f3314\n",
      "Successfully built splinter\n",
      "Installing collected packages: selenium, splinter\n",
      "Successfully installed selenium-3.4.3 splinter-0.7.5\n"
     ]
    }
   ],
   "source": [
    "!pip install splinter"
   ]
  },
  {
   "cell_type": "code",
   "execution_count": 9,
   "metadata": {
    "collapsed": true
   },
   "outputs": [],
   "source": [
    "import splinter"
   ]
  },
  {
   "cell_type": "code",
   "execution_count": 20,
   "metadata": {},
   "outputs": [],
   "source": [
    "browser = splinter.Browser(driver_name='chrome')"
   ]
  },
  {
   "cell_type": "code",
   "execution_count": 48,
   "metadata": {
    "collapsed": true
   },
   "outputs": [],
   "source": [
    "browser.visit('https://www.booking.com/searchresults.zh-tw.html?label=gen173nr-1FCAEoggJCAlhYSDNiBW5vcmVmaOcBiAEBmAEwuAEGyAEM2AEB6AEB-AELkgIBeagCAw&sid=e310dbd34cbc14b3e574ee0ee8c6fd19&sb=1&src=index&src_elem=sb&error_url=https%3A%2F%2Fwww.booking.com%2Findex.zh-tw.html%3Flabel%3Dgen173nr-1FCAEoggJCAlhYSDNiBW5vcmVmaOcBiAEBmAEwuAEGyAEM2AEB6AEB-AELkgIBeagCAw%3Bsid%3De310dbd34cbc14b3e574ee0ee8c6fd19%3Bsb_price_type%3Dtotal%26%3B&ss=%E4%BA%AC%E9%83%BD%2C+%E4%BA%AC%E9%83%BD%E5%BA%9C%2C+%E6%97%A5%E6%9C%AC&checkin_year=2017&checkin_month=8&checkin_monthday=24&checkout_year=2017&checkout_month=8&checkout_monthday=25&room1=A%2CA&no_rooms=1&group_adults=2&group_children=0&search_pageview_id=e63713fa27070324&ac_suggestion_list_length=5&ac_suggestion_theme_list_length=0&ac_position=0&ac_langcode=xt&dest_id=-235402&dest_type=city&search_pageview_id=e63713fa27070324&search_selected=true&ss_raw=%E4%BA%AC%E9%83%BD')"
   ]
  },
  {
   "cell_type": "code",
   "execution_count": 43,
   "metadata": {
    "collapsed": true
   },
   "outputs": [],
   "source": [
    "elem = browser.find_by_xpath(\"/html/body/div/div/div[2]/section/article[1]/h2/a\")"
   ]
  },
  {
   "cell_type": "code",
   "execution_count": 44,
   "metadata": {},
   "outputs": [],
   "source": [
    "elem.click()"
   ]
  },
  {
   "cell_type": "code",
   "execution_count": 41,
   "metadata": {},
   "outputs": [],
   "source": [
    "browser.back()"
   ]
  },
  {
   "cell_type": "code",
   "execution_count": 49,
   "metadata": {},
   "outputs": [
    {
     "data": {
      "text/plain": [
       "{'BJS': '-',\n",
       " '_ga': 'GA1.2.14948436.1501642234',\n",
       " '_gat': '1',\n",
       " '_gid': 'GA1.2.117798303.1501642234',\n",
       " 'bkng': '11UmFuZG9tSVYkc2RlIyh9Yaa29%2F3xUOLbca8KLfxLPef8T0GsMW1%2FDreTTlV%2F4gPmtDxznXS1tnWe6A0HgC%2F6s%2BzTXR68XmaTOovcnEwI24TwskDmqCuPDm5ukRl1CUOFSRlR%2Fs13%2F4sFFTI0NTs3yz4Q8s5vkcv6k9mVKzXOPahwV%2FpeJT1lZVSsrNFfPR11wKCO9hLgTpU%3D',\n",
       " 'header_signin_prompt': '1',\n",
       " 'lastSeen': '0',\n",
       " 'qr_sr': '1',\n",
       " 'utag_main': 'v_id:015da0da1880001d2e44bc1772310507200b206a00bd0$_sn:1$_ss:0$_st:1501644111835$ses_id:1501642233986%3Bexp-session$_pn:5%3Bexp-session$4split:2$4split2:3',\n",
       " 'vpmss': '1',\n",
       " 'zz_cook_tms_ed': '1',\n",
       " 'zz_cook_tms_seg1': '2',\n",
       " 'zz_cook_tms_seg3': '6'}"
      ]
     },
     "execution_count": 49,
     "metadata": {},
     "output_type": "execute_result"
    }
   ],
   "source": [
    "browser.cookies.all()"
   ]
  },
  {
   "cell_type": "code",
   "execution_count": null,
   "metadata": {
    "collapsed": true
   },
   "outputs": [],
   "source": []
  },
  {
   "cell_type": "code",
   "execution_count": null,
   "metadata": {
    "collapsed": true
   },
   "outputs": [],
   "source": []
  },
  {
   "cell_type": "code",
   "execution_count": null,
   "metadata": {
    "collapsed": true
   },
   "outputs": [],
   "source": []
  },
  {
   "cell_type": "code",
   "execution_count": null,
   "metadata": {
    "collapsed": true
   },
   "outputs": [],
   "source": []
  },
  {
   "cell_type": "code",
   "execution_count": null,
   "metadata": {
    "collapsed": true
   },
   "outputs": [],
   "source": []
  },
  {
   "cell_type": "code",
   "execution_count": null,
   "metadata": {
    "collapsed": true
   },
   "outputs": [],
   "source": []
  }
 ],
 "metadata": {
  "kernelspec": {
   "display_name": "Python 3",
   "language": "python",
   "name": "python3"
  },
  "language_info": {
   "codemirror_mode": {
    "name": "ipython",
    "version": 3
   },
   "file_extension": ".py",
   "mimetype": "text/x-python",
   "name": "python",
   "nbconvert_exporter": "python",
   "pygments_lexer": "ipython3",
   "version": "3.6.1"
  }
 },
 "nbformat": 4,
 "nbformat_minor": 2
}
