{
 "cells": [
  {
   "cell_type": "code",
   "execution_count": 2,
   "metadata": {
    "collapsed": true
   },
   "outputs": [],
   "source": [
    "# import lib\n",
    "from datetime import datetime, timedelta, date\n",
    "import requests\n",
    "from bs4 import BeautifulSoup\n",
    "import re\n",
    "import time\n",
    "import os\n",
    "import json"
   ]
  },
  {
   "cell_type": "code",
   "execution_count": 8,
   "metadata": {},
   "outputs": [],
   "source": [
    "# http://www37.eyny.com/forum-514-1.html\n",
    "url = \"http://www37.eyny.com/search.php?mod=forum&searchid=149311&orderby=lastpost&ascdesc=desc&searchsubmit=yes&srchfrom=0&kw=%E4%BA%AC%E9%83%BD\" \n",
    "res = requests.get(url)\n",
    "soup = BeautifulSoup(res.text, 'lxml')"
   ]
  },
  {
   "cell_type": "code",
   "execution_count": 42,
   "metadata": {},
   "outputs": [],
   "source": [
    "x = soup.select(\"div#threadlist > div.slst > table\")[0]('tbody')"
   ]
  },
  {
   "cell_type": "code",
   "execution_count": 65,
   "metadata": {},
   "outputs": [
    {
     "data": {
      "text/plain": [
       "'s09151617'"
      ]
     },
     "execution_count": 65,
     "metadata": {},
     "output_type": "execute_result"
    }
   ],
   "source": [
    "# 作者\n",
    "[i for i in x][1].find(\"tr\").findAll(\"td\")[3].a.text"
   ]
  },
  {
   "cell_type": "code",
   "execution_count": 82,
   "metadata": {},
   "outputs": [
    {
     "data": {
      "text/plain": [
       "'京都四季酒店有人去過嗎？'"
      ]
     },
     "execution_count": 82,
     "metadata": {},
     "output_type": "execute_result"
    }
   ],
   "source": [
    "# 標題\n",
    "[i for i in x][1].find(\"tr\").findAll('a')[1].text"
   ]
  },
  {
   "cell_type": "code",
   "execution_count": 67,
   "metadata": {},
   "outputs": [
    {
     "data": {
      "text/plain": [
       "'2017-8-3'"
      ]
     },
     "execution_count": 67,
     "metadata": {},
     "output_type": "execute_result"
    }
   ],
   "source": [
    "#時間\n",
    "[i for i in x][1].find(\"tr\").findAll(\"td\")[3].span.text"
   ]
  },
  {
   "cell_type": "code",
   "execution_count": 87,
   "metadata": {
    "scrolled": true
   },
   "outputs": [
    {
     "data": {
      "text/plain": [
       "'thread-11446898-1-1.html'"
      ]
     },
     "execution_count": 87,
     "metadata": {},
     "output_type": "execute_result"
    }
   ],
   "source": [
    "#內文連結\n",
    "[i for i in x][1].find(\"tr\").findAll(\"td\")[4].a['href']"
   ]
  },
  {
   "cell_type": "code",
   "execution_count": 98,
   "metadata": {
    "collapsed": true
   },
   "outputs": [],
   "source": [
    "in_url = [i for i in x][1].find(\"tr\").findAll(\"td\")[4].a['href']"
   ]
  },
  {
   "cell_type": "code",
   "execution_count": 99,
   "metadata": {
    "collapsed": true
   },
   "outputs": [],
   "source": [
    "in_url = \"http://www37.eyny.com/\" +  str(in_url)"
   ]
  },
  {
   "cell_type": "code",
   "execution_count": 100,
   "metadata": {},
   "outputs": [],
   "source": [
    "in_res = requests.get(in_url)\n",
    "in_soup = BeautifulSoup(in_res.text, 'lxml')"
   ]
  },
  {
   "cell_type": "code",
   "execution_count": 149,
   "metadata": {},
   "outputs": [],
   "source": [
    "# in_soup.select(\"div.pcb\") 包含內文及評論\n",
    "#  用len 判斷 in_soup.select(\"div.pcb\")[8]  評論數\n",
    "context = in_soup.select(\"div.pcb\")[0]"
   ]
  },
  {
   "cell_type": "code",
   "execution_count": 150,
   "metadata": {},
   "outputs": [
    {
     "data": {
      "text/plain": [
       "\" 本帖最後由 s09151617 於 2017-8-3 17:51 PM 編輯 \\n\\n上次不知道在哪邊介紹到京都的四季酒店\\r\\n是在日本有800年歷史的庭園積翠園\\r\\n裡面房外的景色非常清幽美麗一看非常喜歡～～\\r\\n最近也有出國的打算\\r\\n就上網找一下太平洋旅行社有一團是住在京都四季酒店兩晚真的是太心動了！\\r\\n大家有人去住過的推嗎？\\r\\n\\t\\t\\t\\tgoogle_ad_client = 'pub-9810807221749687';\\r\\n\\t\\t\\t\\tgoogle_ad_width = 336;\\r\\n\\t\\t\\t\\tgoogle_ad_height = 280;\\r\\n\\t\\t\\t\\tgoogle_ad_format = '336x280_as';\\r\\n\\t\\t\\t\\tgoogle_ad_type = 'image';\\r\\n\\t\\t\\t\\tgoogle_ad_channel = '1478637488+9994336801+8011175577';\\r\\n\\t\\t\\t\\tgoogle_ad_region = 'expat';\\r\\n\\t\\t\\t\\tgoogle_alternate_ad_url = '';\\r\\n\\t\\t\\t\\tgoogle_alternate_color = 'FDFDFD';\\r\\n\\t\\t\\t\\tgoogle_color_border = 'FDFDFD';\\r\\n\\t\\t\\t\\tgoogle_color_bg = 'FDFDFD';\\r\\n\\t\\t\\t\\tgoogle_color_link = '0000CC';\\r\\n\\t\\t\\t\\tgoogle_color_text = '000000';\\r\\n\\t\\t\\t\\tgoogle_color_url = '006633';\\r\\n\\t\\t\\t\\t\\n\\n\\r\\n\\t\\t\\t\\t\\tgoogle_ad_client = 'pub-9810807221749687';\\r\\n\\t\\t\\t\\t\\tgoogle_ad_width = 336;\\r\\n\\t\\t\\t\\t\\tgoogle_ad_height = 280;\\r\\n\\t\\t\\t\\t\\tgoogle_ad_format = '336x280_as';\\r\\n\\t\\t\\t\\t\\tgoogle_ad_type = 'image';\\r\\n\\t\\t\\t\\t\\tgoogle_ad_channel = '1478637488+9994336801+8011175577';\\r\\n\\t\\t\\t\\t\\tgoogle_ad_region = 'expat';\\r\\n\\t\\t\\t\\t\\tgoogle_alternate_ad_url = '';\\r\\n\\t\\t\\t\\t\\tgoogle_alternate_color = 'FDFDFD';\\r\\n\\t\\t\\t\\t\\tgoogle_color_border = 'FDFDFD';\\r\\n\\t\\t\\t\\t\\tgoogle_color_bg = 'FDFDFD';\\r\\n\\t\\t\\t\\t\\tgoogle_color_link = '0000CC';\\r\\n\\t\\t\\t\\t\\tgoogle_color_text = '000000';\\r\\n\\t\\t\\t\\t\\tgoogle_color_url = '006633';\\r\\n\\t\\t\\t\\t\\t\\n\\n\""
      ]
     },
     "execution_count": 150,
     "metadata": {},
     "output_type": "execute_result"
    }
   ],
   "source": [
    "context.text"
   ]
  },
  {
   "cell_type": "code",
   "execution_count": 151,
   "metadata": {},
   "outputs": [],
   "source": [
    "content = re.findall(\"編輯\\s\\\\n\\\\n([\\w|\\r|\\n|！|～|？]+)\", context.text)"
   ]
  },
  {
   "cell_type": "code",
   "execution_count": 158,
   "metadata": {},
   "outputs": [
    {
     "data": {
      "text/plain": [
       "'上次不知道在哪邊介紹到京都的四季酒店,是在日本有800年歷史的庭園積翠園,裡面房外的景色非常清幽美麗一看非常喜歡～～,最近也有出國的打算,就上網找一下太平洋旅行社有一團是住在京都四季酒店兩晚真的是太心動了！,大家有人去住過的推嗎？,'"
      ]
     },
     "execution_count": 158,
     "metadata": {},
     "output_type": "execute_result"
    }
   ],
   "source": [
    "# 內文\n",
    "\",\".join(content[0].split(\"\\r\\n\"))"
   ]
  },
  {
   "cell_type": "code",
   "execution_count": 167,
   "metadata": {},
   "outputs": [
    {
     "name": "stdout",
     "output_type": "stream",
     "text": [
      "=====\n",
      " 本帖最後由 s09151617 於 2017-8-3 17:51 PM 編輯 \n",
      "\n",
      "上次不知道在哪邊介紹到京都的四季酒店\r\n",
      "是在日本有800年歷史的庭園積翠園\r\n",
      "裡面房外的景色非常清幽美麗一看非常喜歡～～\r\n",
      "最近也有出國的打算\r\n",
      "就上網找一下太平洋旅行社有一團是住在京都四季酒店兩晚真的是太心動了！\r\n",
      "大家有人去住過的推嗎？\r\n",
      "\t\t\t\tgoogle_ad_client = 'pub-9810807221749687';\r\n",
      "\t\t\t\tgoogle_ad_width = 336;\r\n",
      "\t\t\t\tgoogle_ad_height = 280;\r\n",
      "\t\t\t\tgoogle_ad_format = '336x280_as';\r\n",
      "\t\t\t\tgoogle_ad_type = 'image';\r\n",
      "\t\t\t\tgoogle_ad_channel = '1478637488+9994336801+8011175577';\r\n",
      "\t\t\t\tgoogle_ad_region = 'expat';\r\n",
      "\t\t\t\tgoogle_alternate_ad_url = '';\r\n",
      "\t\t\t\tgoogle_alternate_color = 'FDFDFD';\r\n",
      "\t\t\t\tgoogle_color_border = 'FDFDFD';\r\n",
      "\t\t\t\tgoogle_color_bg = 'FDFDFD';\r\n",
      "\t\t\t\tgoogle_color_link = '0000CC';\r\n",
      "\t\t\t\tgoogle_color_text = '000000';\r\n",
      "\t\t\t\tgoogle_color_url = '006633';\r\n",
      "\t\t\t\t\n",
      "\n",
      "\r\n",
      "\t\t\t\t\tgoogle_ad_client = 'pub-9810807221749687';\r\n",
      "\t\t\t\t\tgoogle_ad_width = 336;\r\n",
      "\t\t\t\t\tgoogle_ad_height = 280;\r\n",
      "\t\t\t\t\tgoogle_ad_format = '336x280_as';\r\n",
      "\t\t\t\t\tgoogle_ad_type = 'image';\r\n",
      "\t\t\t\t\tgoogle_ad_channel = '1478637488+9994336801+8011175577';\r\n",
      "\t\t\t\t\tgoogle_ad_region = 'expat';\r\n",
      "\t\t\t\t\tgoogle_alternate_ad_url = '';\r\n",
      "\t\t\t\t\tgoogle_alternate_color = 'FDFDFD';\r\n",
      "\t\t\t\t\tgoogle_color_border = 'FDFDFD';\r\n",
      "\t\t\t\t\tgoogle_color_bg = 'FDFDFD';\r\n",
      "\t\t\t\t\tgoogle_color_link = '0000CC';\r\n",
      "\t\t\t\t\tgoogle_color_text = '000000';\r\n",
      "\t\t\t\t\tgoogle_color_url = '006633';\r\n",
      "\t\t\t\t\t\n",
      "\n",
      "\n",
      "=====\n",
      "沒住過 \n",
      "\r\n",
      "看起來是蠻不錯的 \n",
      "\r\n",
      "吃好住好 \n",
      "\r\n",
      "是個舒適的行程！\n",
      "=====\n",
      "聽說京都四季酒店是個還蠻有特色的飯店 \r\n",
      "如果剛好有想去日本的話，感覺可以去那裡住一下 XD\r\n",
      "剛好有成團的話感覺就可以跟一下\r\n",
      "跟團就比較不用自己安排行程XD\n",
      "=====\n",
      "四季酒店的品質當然是無庸置疑\r\n",
      "但是要小心\r\n",
      "旅行社有沒有加一句\" 或同級\"\r\n",
      "一定要住付錢前要旅行社把這句刪掉並蓋章\n",
      "\n",
      "\n",
      "=====\n",
      "在北海道滑雪也有住過一家四季酒店 非常高級，如果是同一家那就很值得著耶\r\n",
      "\t\t\t\tgoogle_ad_client = 'pub-9810807221749687';\r\n",
      "\t\t\t\tgoogle_ad_width = 728;\r\n",
      "\t\t\t\tgoogle_ad_height = 90;\r\n",
      "\t\t\t\tgoogle_ad_format = '728x90_as';\r\n",
      "\t\t\t\tgoogle_ad_type = '';\r\n",
      "\t\t\t\tgoogle_ad_channel = '5293438802+9994336801+8011175577';\r\n",
      "\t\t\t\tgoogle_ad_region = 'expat';\r\n",
      "\t\t\t\tgoogle_alternate_ad_url = '';\r\n",
      "\t\t\t\tgoogle_alternate_color = 'FDFDFD';\r\n",
      "\t\t\t\tgoogle_color_border = 'FDFDFD';\r\n",
      "\t\t\t\tgoogle_color_bg = 'FDFDFD';\r\n",
      "\t\t\t\tgoogle_color_link = '0000CC';\r\n",
      "\t\t\t\tgoogle_color_text = '000000';\r\n",
      "\t\t\t\tgoogle_color_url = '006633';\r\n",
      "\t\t\t\t\n",
      "\n",
      "\n",
      "=====\n",
      "看了都想去住了....稍微看一下太平洋的網站旅費也沒貴的誇張，有點心動了....\n",
      "=====\n",
      "網上查過，好像也不是太貴，感覺不錯，希望有機會可以去住一下\n",
      "=====\n",
      "感覺超美的～我也想去體驗ㄧ下！\r\n",
      "可以去問一下太平洋～\r\n",
      "上次問其他行程他們家的業務超熱心的\n",
      "=====\n",
      "四季酒店感覺很不錯耶\r\n",
      "跟團可以住兩晚真的很吸引人\n"
     ]
    }
   ],
   "source": [
    "for i in in_soup.select(\"div.pcb\"):\n",
    "    print(\"=====\")\n",
    "    print(i.text)"
   ]
  },
  {
   "cell_type": "code",
   "execution_count": 166,
   "metadata": {},
   "outputs": [
    {
     "data": {
      "text/plain": [
       "[<div class=\"pcb\"><div class=\"t_fsz\"><table cellpadding=\"0\" cellspacing=\"0\"><tr><td class=\"t_f\" id=\"postmessage_304046084\"><i class=\"pstatus\"> 本帖最後由 s09151617 於 2017-8-3 17:51 PM 編輯 </i><br/>\n",
       " <br/>\n",
       " 上次不知道在哪邊介紹到京都的四季酒店<br/>\n",
       " 是在日本有800年歷史的庭園積翠園<br/>\n",
       " 裡面房外的景色非常清幽美麗一看非常喜歡～～<br/>\n",
       " 最近也有出國的打算<br/>\n",
       " 就上網找一下太平洋旅行社有一團是住在京都四季酒店兩晚真的是太心動了！<br/>\n",
       " 大家有人去住過的推嗎？<div><div style=\"margin:5px 0 5px 0;\"><script type=\"text/javascript\">\n",
       " \t\t\t\tgoogle_ad_client = 'pub-9810807221749687';\n",
       " \t\t\t\tgoogle_ad_width = 336;\n",
       " \t\t\t\tgoogle_ad_height = 280;\n",
       " \t\t\t\tgoogle_ad_format = '336x280_as';\n",
       " \t\t\t\tgoogle_ad_type = 'image';\n",
       " \t\t\t\tgoogle_ad_channel = '1478637488+9994336801+8011175577';\n",
       " \t\t\t\tgoogle_ad_region = 'expat';\n",
       " \t\t\t\tgoogle_alternate_ad_url = '';\n",
       " \t\t\t\tgoogle_alternate_color = 'FDFDFD';\n",
       " \t\t\t\tgoogle_color_border = 'FDFDFD';\n",
       " \t\t\t\tgoogle_color_bg = 'FDFDFD';\n",
       " \t\t\t\tgoogle_color_link = '0000CC';\n",
       " \t\t\t\tgoogle_color_text = '000000';\n",
       " \t\t\t\tgoogle_color_url = '006633';\n",
       " \t\t\t\t</script>\n",
       " <script src=\"http://pagead2.googlesyndication.com/pagead/show_ads.js\" type=\"text/javascript\">\n",
       " </script><script type=\"text/javascript\">\n",
       " \t\t\t\t\tgoogle_ad_client = 'pub-9810807221749687';\n",
       " \t\t\t\t\tgoogle_ad_width = 336;\n",
       " \t\t\t\t\tgoogle_ad_height = 280;\n",
       " \t\t\t\t\tgoogle_ad_format = '336x280_as';\n",
       " \t\t\t\t\tgoogle_ad_type = 'image';\n",
       " \t\t\t\t\tgoogle_ad_channel = '1478637488+9994336801+8011175577';\n",
       " \t\t\t\t\tgoogle_ad_region = 'expat';\n",
       " \t\t\t\t\tgoogle_alternate_ad_url = '';\n",
       " \t\t\t\t\tgoogle_alternate_color = 'FDFDFD';\n",
       " \t\t\t\t\tgoogle_color_border = 'FDFDFD';\n",
       " \t\t\t\t\tgoogle_color_bg = 'FDFDFD';\n",
       " \t\t\t\t\tgoogle_color_link = '0000CC';\n",
       " \t\t\t\t\tgoogle_color_text = '000000';\n",
       " \t\t\t\t\tgoogle_color_url = '006633';\n",
       " \t\t\t\t\t</script>\n",
       " <script src=\"http://pagead2.googlesyndication.com/pagead/show_ads.js\" type=\"text/javascript\">\n",
       " </script></div></div></td></tr></table></div><div class=\"cm\" id=\"comment_304046084\"></div><div id=\"post_rate_div_304046084\"></div></div>,\n",
       " <div class=\"pcb\"><div class=\"t_fsz\"><table cellpadding=\"0\" cellspacing=\"0\"><tr><td class=\"t_f\" id=\"postmessage_304047734\">沒住過<img alt=\"\" border=\"0\" smilieid=\"176\" src=\"static/image/smiley/default/9.gif\"/><img alt=\"\" border=\"0\" smilieid=\"176\" src=\"static/image/smiley/default/9.gif\"/><img alt=\"\" border=\"0\" smilieid=\"176\" src=\"static/image/smiley/default/9.gif\"/> <br/>\n",
       " <br/>\n",
       " 看起來是蠻不錯的 <br/>\n",
       " <br/>\n",
       " 吃好住好 <br/>\n",
       " <br/>\n",
       " 是個舒適的行程！</td></tr></table></div><div class=\"cm\" id=\"comment_304047734\"></div><div id=\"post_rate_div_304047734\"></div></div>,\n",
       " <div class=\"pcb\"><div class=\"t_fsz\"><table cellpadding=\"0\" cellspacing=\"0\"><tr><td class=\"t_f\" id=\"postmessage_304054799\">聽說京都四季酒店是個還蠻有特色的飯店 <br/>\n",
       " 如果剛好有想去日本的話，感覺可以去那裡住一下 XD<br/>\n",
       " 剛好有成團的話感覺就可以跟一下<br/>\n",
       " 跟團就比較不用自己安排行程XD</td></tr></table></div><div class=\"cm\" id=\"comment_304054799\"></div><div id=\"post_rate_div_304054799\"></div></div>,\n",
       " <div class=\"pcb\"><div class=\"t_fsz\"><table cellpadding=\"0\" cellspacing=\"0\"><tr><td class=\"t_f\" id=\"postmessage_304057128\">四季酒店的品質當然是無庸置疑<br/>\n",
       " 但是要小心<br/>\n",
       " 旅行社有沒有加一句\" 或同級\"<br/>\n",
       " 一定要住付錢前要旅行社把這句刪掉並蓋章<br/>\n",
       " <br/>\n",
       " </td></tr></table></div><div class=\"cm\" id=\"comment_304057128\"></div><div id=\"post_rate_div_304057128\"></div></div>,\n",
       " <div class=\"pcb\"><div class=\"t_fsz\"><table cellpadding=\"0\" cellspacing=\"0\"><tr><td class=\"t_f\" id=\"postmessage_304077578\">在北海道滑雪也有住過一家四季酒店 非常高級，如果是同一家那就很值得著耶<br/><br/><br/><br/><br/><div><div style=\"margin:5px 0 5px 0;\"><script type=\"text/javascript\">\n",
       " \t\t\t\tgoogle_ad_client = 'pub-9810807221749687';\n",
       " \t\t\t\tgoogle_ad_width = 728;\n",
       " \t\t\t\tgoogle_ad_height = 90;\n",
       " \t\t\t\tgoogle_ad_format = '728x90_as';\n",
       " \t\t\t\tgoogle_ad_type = '';\n",
       " \t\t\t\tgoogle_ad_channel = '5293438802+9994336801+8011175577';\n",
       " \t\t\t\tgoogle_ad_region = 'expat';\n",
       " \t\t\t\tgoogle_alternate_ad_url = '';\n",
       " \t\t\t\tgoogle_alternate_color = 'FDFDFD';\n",
       " \t\t\t\tgoogle_color_border = 'FDFDFD';\n",
       " \t\t\t\tgoogle_color_bg = 'FDFDFD';\n",
       " \t\t\t\tgoogle_color_link = '0000CC';\n",
       " \t\t\t\tgoogle_color_text = '000000';\n",
       " \t\t\t\tgoogle_color_url = '006633';\n",
       " \t\t\t\t</script>\n",
       " <script src=\"http://pagead2.googlesyndication.com/pagead/show_ads.js\" type=\"text/javascript\">\n",
       " </script></div></div></td></tr></table></div><div class=\"cm\" id=\"comment_304077578\"></div><div id=\"post_rate_div_304077578\"></div></div>,\n",
       " <div class=\"pcb\"><div class=\"t_fsz\"><table cellpadding=\"0\" cellspacing=\"0\"><tr><td class=\"t_f\" id=\"postmessage_304093528\">看了都想去住了....稍微看一下太平洋的網站旅費也沒貴的誇張，有點心動了....</td></tr></table></div><div class=\"cm\" id=\"comment_304093528\"></div><div id=\"post_rate_div_304093528\"></div></div>,\n",
       " <div class=\"pcb\"><div class=\"t_fsz\"><table cellpadding=\"0\" cellspacing=\"0\"><tr><td class=\"t_f\" id=\"postmessage_304097861\">網上查過，好像也不是太貴，感覺不錯，希望有機會可以去住一下</td></tr></table></div><div class=\"cm\" id=\"comment_304097861\"></div><div id=\"post_rate_div_304097861\"></div></div>,\n",
       " <div class=\"pcb\"><div class=\"t_fsz\"><table cellpadding=\"0\" cellspacing=\"0\"><tr><td class=\"t_f\" id=\"postmessage_304149711\">感覺超美的～我也想去體驗ㄧ下！<br/>\n",
       " 可以去問一下太平洋～<br/>\n",
       " 上次問其他行程他們家的業務超熱心的</td></tr></table></div><div class=\"cm\" id=\"comment_304149711\"></div><div id=\"post_rate_div_304149711\"></div></div>,\n",
       " <div class=\"pcb\"><div class=\"t_fsz\"><table cellpadding=\"0\" cellspacing=\"0\"><tr><td class=\"t_f\" id=\"postmessage_304295702\">四季酒店感覺很不錯耶<br/>\n",
       " 跟團可以住兩晚真的很吸引人</td></tr></table></div><div class=\"cm\" id=\"comment_304295702\"></div><div id=\"post_rate_div_304295702\"></div></div>]"
      ]
     },
     "execution_count": 166,
     "metadata": {},
     "output_type": "execute_result"
    }
   ],
   "source": [
    "in_soup.select(\"div.pcb\")\n",
    "\n",
    "re.fin<script type=\"text/javascript\">"
   ]
  }
 ],
 "metadata": {
  "kernelspec": {
   "display_name": "Python 3",
   "language": "python",
   "name": "python3"
  },
  "language_info": {
   "codemirror_mode": {
    "name": "ipython",
    "version": 3
   },
   "file_extension": ".py",
   "mimetype": "text/x-python",
   "name": "python",
   "nbconvert_exporter": "python",
   "pygments_lexer": "ipython3",
   "version": "3.6.1"
  }
 },
 "nbformat": 4,
 "nbformat_minor": 2
}
