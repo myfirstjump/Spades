{
 "cells": [
  {
   "cell_type": "code",
   "execution_count": 9,
   "metadata": {
    "collapsed": true
   },
   "outputs": [],
   "source": [
    "# import lib\n",
    "from datetime import datetime, timedelta, date\n",
    "import requests\n",
    "from bs4 import BeautifulSoup\n",
    "import re\n",
    "import time\n",
    "import os\n",
    "import json"
   ]
  },
  {
   "cell_type": "code",
   "execution_count": 19,
   "metadata": {
    "collapsed": true
   },
   "outputs": [],
   "source": [
    "# http://www37.eyny.com/forum-514-1.html\n",
    "url = \"http://www37.eyny.com/search.php?mod=forum&orderby=lastpost&ascdesc=desc&searchsubmit=yes&srchfrom=0&kw=%E4%BA%AC%E9%83%BD\" \n",
    "res = requests.get(url)searchid=149311&\n",
    "soup = BeautifulSoup(res.text, 'lxml')"
   ]
  },
  {
   "cell_type": "code",
   "execution_count": 20,
   "metadata": {},
   "outputs": [
    {
     "data": {
      "text/plain": [
       "<!DOCTYPE html PUBLIC \"-//W3C//DTD XHTML 1.0 Transitional//EN\" \"http://www.w3.org/TR/xhtml1/DTD/xhtml1-transitional.dtd\">\n",
       "<html xmlns=\"http://www.w3.org/1999/xhtml\"><head><meta content=\"text/html; charset=utf-8\" http-equiv=\"Content-Type\"/><title>搜索 -  伊莉討論區</title><meta content=\"\" name=\"keywords\"/><meta content=\",伊莉討論區\" name=\"description\"/><meta content=\"EYNY \" name=\"generator\"/><meta content=\"EYNY Team and EYNY UI Team\" name=\"author\"/><meta content=\"2001-2011 EYNY Inc.\" name=\"copyright\"/><meta content=\"True\" name=\"MSSmartTagsPreventParsing\"/><meta content=\"Yes\" http-equiv=\"MSThemeCompatible\"/><base href=\"http://www37.eyny.com/\"/><link href=\"data/cache/style_1_common.css?7mq\" rel=\"stylesheet\" type=\"text/css\"/><link href=\"data/cache/style_1_search_forum.css?7mq\" rel=\"stylesheet\" type=\"text/css\"/><link href=\"data/cache/css_common.css?7mq\" id=\"diy_common\" rel=\"stylesheet\" type=\"text/css\"/><script type=\"text/javascript\">var cp_max='120'; var Show_FT='2'; var Default_isFT='1'; var StranIt_Delay='50'; var sc_relate=''; </script><script src=\"data/cache/js_common.js?7mq\" type=\"text/javascript\"></script><script type=\"text/javascript\">var STYLEID = '1', STATICURL = 'static/', IMGDIR = 'static/image/common', VERHASH = '7mq', charset = 'utf-8', discuz_uid = '0', cookiepre = 'eXbD_e8d7_', cookiedomain = '.eyny.com', cookiepath = '/', showusercard = '1', attackevasive = '0', disallowfloat = 'newthread', creditnotice = '1|積分|點,2|潛水值|米', defaultstyle = '', REPORTURL = 'd3d3MzcuZXlueS5jb20vc2VhcmNoLnBocD9tb2Q9Zm9ydW0=', SITEURL = 'http://www37.eyny.com/', JSPATH = 'data/cache/';</script><script src=\"data/cache/common.js?7mq\" type=\"text/javascript\"></script><link href=\"favicon.ico?7mq\" rel=\"shortcut icon\" type=\"image/x-icon\"/>\n",
       "</head><body id=\"nv_search\" onkeydown=\"if(event.keyCode==27) return false;\"><div id=\"append_parent\"></div><div id=\"ajaxwaitid\"></div><div class=\"wp\" style=\"width:980px\"><div class=\"cl\" id=\"toptb\"><div class=\"z\"><a class=\"showmenu xi2\" href=\"./\" id=\"navs\" onmouseover=\"showMenu(this.id)\">返回首頁</a><a id=\"StranLink\">繁體</a></div><div class=\"y\"><a href=\"member.php?mod=register\">註冊</a><a href=\"member.php?mod=logging&amp;action=login\" onclick=\"showWindow('login', this.href)\">登錄</a></div></div><ul class=\"p_pop h_pop\" id=\"navs_menu\" style=\"display: none\"> <li id=\"mn_forum\"><a hidefocus=\"true\" href=\"forum.php\" title=\"BBS\">論壇<span>BBS</span></a></li> <li id=\"mn_group\"><a hidefocus=\"true\" href=\"group.php\" title=\"Group\">群組<span>Group</span></a></li> <li id=\"mn_home\"><a hidefocus=\"true\" href=\"home.php\" title=\"Space\">空間<span>Space</span></a></li> <li id=\"mn_N3258\"><a hidefocus=\"true\" href=\"http://video.eyny.com/\" target=\"_blank\">影片</a></li> <li id=\"mn_N12a7\"><a hidefocus=\"true\" href=\"misc.php?mod=ranklist\" title=\"Ranklist\">排行<span>Ranklist</span></a></li> <li id=\"mn_Nccf6\"><a hidefocus=\"true\" href=\"search.php?mod=forum&amp;adv=yes\">搜尋</a></li></ul><ul class=\"p_pop\" id=\"myspace_menu\" style=\"display:none;\"><li><a href=\"home.php?mod=space&amp;do=friend\" style=\"background-image:url(static/image/feed/friend_b.png) !important\">好友</a></li><li><a href=\"home.php?mod=space&amp;do=thread&amp;view=me\" style=\"background-image:url(static/image/feed/thread_b.png) !important\">帖子</a></li><li><a href=\"home.php?mod=space&amp;do=favorite&amp;view=me\" style=\"background-image:url(static/image/feed/favorite_b.png) !important\">收藏</a></li><li><a href=\"home.php?mod=magic\" style=\"background-image:url(static/image/feed/magic_b.png) !important\">道具</a></li><li><a href=\"home.php?mod=task\" style=\"background-image:url(static/image/feed/task_b.png) !important\">任務</a></li></ul><div class=\"cl w\" id=\"ct\"><div class=\"mw\"><form action=\"search.php?mod=forum\" autocomplete=\"off\" class=\"searchform\" method=\"post\" onsubmit=\"if($('scform_srchtxt')) searchFocus($('scform_srchtxt'));\"><input name=\"formhash\" type=\"hidden\" value=\"aace6554\"/><div class=\"hm mtw ptw pbw\"><h1 class=\"mtw ptw\"><a href=\"./\" title=\"伊莉討論區\"><img alt=\"伊莉討論區\" border=\"0\" src=\"static/image/common/logo.gif\"/></a></h1></div><table cellpadding=\"0\" cellspacing=\"0\" id=\"scform\" style=\"margin: 0 auto;\"><tr><td class=\"xs2\" id=\"scform_tb\"><span class=\"y xs1\"><a class=\"showmenu\" href=\"javascript:;\" id=\"quick_sch\" onmouseover=\"delayShow(this);\">快速</a><a href=\"search.php?mod=forum&amp;adv=yes\">高級</a></span><a class=\"a\" href=\"search.php?mod=forum\">帖子</a><a href=\"search.php?mod=blog\">日誌</a><a href=\"search.php?mod=album\">相冊</a><a href=\"search.php?mod=group\">群組</a><div style=\"float:right;vertical-align:bottom;\"><label for=\"safe\">過濾:</label><input id=\"safe\" name=\"safesearch\" style=\"position:relative;top:2px\" type=\"checkbox\" value=\"yes\"/></div><a href=\"search.php?mod=user\">用戶</a></td></tr><tr><td><table cellpadding=\"0\" cellspacing=\"0\" id=\"scform_form\"><tr><td class=\"td_srchtxt\"><div style=\"position:absolute;width:460px\"><div class=\"search_bar3\" id=\"sc_related\" style=\"display:none;\"></div></div><input id=\"scform_srchtxt\" maxlength=\"40\" name=\"srchtxt\" onblur=\"sc_related.style.display='none';\" onkeyup=\"keyword(this, 'sc_related','lib/api/search.php',event.keyCode);\" size=\"65\" tabindex=\"1\" type=\"text\" value=\"\"/><script type=\"text/javascript\">initSearchmenu('scform_srchtxt');$('scform_srchtxt').focus();</script></td><td class=\"td_srchbtn\"><input name=\"searchsubmit\" type=\"hidden\" value=\"yes\"/><button id=\"scform_submit\" type=\"submit\" value=\"true\"><strong></strong></button></td></tr></table></td></tr></table><ul class=\"p_pop\" id=\"quick_sch_menu\" style=\"display: none;\"><li><a href=\"search.php?mod=forum&amp;srchfrom=3600&amp;searchsubmit=yes\">1 小時以內的新帖</a></li><li><a href=\"search.php?mod=forum&amp;srchfrom=14400&amp;searchsubmit=yes\">4 小時以內的新帖</a></li><li><a href=\"search.php?mod=forum&amp;srchfrom=28800&amp;searchsubmit=yes\">8 小時以內的新帖</a></li><li><a href=\"search.php?mod=forum&amp;srchfrom=86400&amp;searchsubmit=yes\">24 小時以內的新帖</a></li><li><a href=\"search.php?mod=forum&amp;srchfrom=604800&amp;searchsubmit=yes\">1 周內帖子</a></li><li><a href=\"search.php?mod=forum&amp;srchfrom=2592000&amp;searchsubmit=yes\">1 月內帖子</a></li><li><a href=\"search.php?mod=forum&amp;srchfrom=15552000&amp;searchsubmit=yes\">6 月內帖子</a></li><li><a href=\"search.php?mod=forum&amp;srchfrom=31536000&amp;searchsubmit=yes\">1 年內帖子</a></li></ul></form></div></div><div class=\"wp cl\" id=\"ft\"><div class=\"y\" id=\"flk\"><p><a href=\"archiver/\">Archiver</a><span class=\"pipe\">|</span><a href=\"http://m.eyny.com\">手機版</a><span class=\"pipe\">|</span><a href=\"mailto:admin@eyny.com\">聯絡我們</a><span class=\"pipe\">|</span><a href=\"mailto:admin@eyny.com\">廣告查詢</a><span class=\"pipe\">|</span><a href=\"mailto:admin@eyny.com\">廠商合作</a><span class=\"pipe\">|</span><strong><a href=\"http://www.eyny.com/\" target=\"_blank\">伊莉</a></strong></p><p class=\"xs0\">\n",
       "GMT+8, 2017-8-17 04:17 PM<span id=\"debuginfo\"></span></p></div></div><div class=\"tip tip_3\" id=\"g_upmine_menu\" style=\"display:none;\"><div class=\"tip_c\">\n",
       "積分 0, 距離下一級還需  積分\n",
       "</div><div class=\"tip_horn\"></div></div> </div><script src=\"home.php?mod=misc&amp;ac=sendmail&amp;rand=1502957858\" type=\"text/javascript\"></script><span id=\"scrolltop\" onclick=\"window.scrollTo('0','0')\">回頂部</span><script type=\"text/javascript\">_attachEvent(window, 'scroll', function(){showTopLink();});</script><script src=\"data/cache/js_langconv.js?7mq\" type=\"text/javascript\"></script></body></html>"
      ]
     },
     "execution_count": 20,
     "metadata": {},
     "output_type": "execute_result"
    }
   ],
   "source": [
    "soup"
   ]
  },
  {
   "cell_type": "code",
   "execution_count": 21,
   "metadata": {},
   "outputs": [],
   "source": [
    "x = soup.select(\"div#threadlist > div.slst > table\")"
   ]
  },
  {
   "cell_type": "code",
   "execution_count": 22,
   "metadata": {},
   "outputs": [
    {
     "data": {
      "text/plain": [
       "[]"
      ]
     },
     "execution_count": 22,
     "metadata": {},
     "output_type": "execute_result"
    }
   ],
   "source": [
    "x"
   ]
  },
  {
   "cell_type": "code",
   "execution_count": 65,
   "metadata": {},
   "outputs": [
    {
     "data": {
      "text/plain": [
       "'s09151617'"
      ]
     },
     "execution_count": 65,
     "metadata": {},
     "output_type": "execute_result"
    }
   ],
   "source": [
    "# 作者\n",
    "[i for i in x][1].find(\"tr\").findAll(\"td\")[3].a.text"
   ]
  },
  {
   "cell_type": "code",
   "execution_count": 82,
   "metadata": {},
   "outputs": [
    {
     "data": {
      "text/plain": [
       "'京都四季酒店有人去過嗎？'"
      ]
     },
     "execution_count": 82,
     "metadata": {},
     "output_type": "execute_result"
    }
   ],
   "source": [
    "# 標題\n",
    "[i for i in x][1].find(\"tr\").findAll('a')[1].text"
   ]
  },
  {
   "cell_type": "code",
   "execution_count": 67,
   "metadata": {},
   "outputs": [
    {
     "data": {
      "text/plain": [
       "'2017-8-3'"
      ]
     },
     "execution_count": 67,
     "metadata": {},
     "output_type": "execute_result"
    }
   ],
   "source": [
    "#時間\n",
    "[i for i in x][1].find(\"tr\").findAll(\"td\")[3].span.text"
   ]
  },
  {
   "cell_type": "code",
   "execution_count": 87,
   "metadata": {
    "scrolled": true
   },
   "outputs": [
    {
     "data": {
      "text/plain": [
       "'thread-11446898-1-1.html'"
      ]
     },
     "execution_count": 87,
     "metadata": {},
     "output_type": "execute_result"
    }
   ],
   "source": [
    "#內文連結\n",
    "[i for i in x][1].find(\"tr\").findAll(\"td\")[4].a['href']"
   ]
  },
  {
   "cell_type": "code",
   "execution_count": 98,
   "metadata": {
    "collapsed": true
   },
   "outputs": [],
   "source": [
    "in_url = [i for i in x][1].find(\"tr\").findAll(\"td\")[4].a['href']"
   ]
  },
  {
   "cell_type": "code",
   "execution_count": 99,
   "metadata": {
    "collapsed": true
   },
   "outputs": [],
   "source": [
    "in_url = \"http://www37.eyny.com/\" +  str(in_url)"
   ]
  },
  {
   "cell_type": "code",
   "execution_count": 100,
   "metadata": {
    "collapsed": true
   },
   "outputs": [],
   "source": [
    "in_res = requests.get(in_url)\n",
    "in_soup = BeautifulSoup(in_res.text, 'lxml')"
   ]
  },
  {
   "cell_type": "code",
   "execution_count": 149,
   "metadata": {
    "collapsed": true
   },
   "outputs": [],
   "source": [
    "# in_soup.select(\"div.pcb\") 包含內文及評論\n",
    "#  用len 判斷 in_soup.select(\"div.pcb\")[8]  評論數\n",
    "context = in_soup.select(\"div.pcb\")[0]"
   ]
  },
  {
   "cell_type": "code",
   "execution_count": 150,
   "metadata": {},
   "outputs": [
    {
     "data": {
      "text/plain": [
       "\" 本帖最後由 s09151617 於 2017-8-3 17:51 PM 編輯 \\n\\n上次不知道在哪邊介紹到京都的四季酒店\\r\\n是在日本有800年歷史的庭園積翠園\\r\\n裡面房外的景色非常清幽美麗一看非常喜歡～～\\r\\n最近也有出國的打算\\r\\n就上網找一下太平洋旅行社有一團是住在京都四季酒店兩晚真的是太心動了！\\r\\n大家有人去住過的推嗎？\\r\\n\\t\\t\\t\\tgoogle_ad_client = 'pub-9810807221749687';\\r\\n\\t\\t\\t\\tgoogle_ad_width = 336;\\r\\n\\t\\t\\t\\tgoogle_ad_height = 280;\\r\\n\\t\\t\\t\\tgoogle_ad_format = '336x280_as';\\r\\n\\t\\t\\t\\tgoogle_ad_type = 'image';\\r\\n\\t\\t\\t\\tgoogle_ad_channel = '1478637488+9994336801+8011175577';\\r\\n\\t\\t\\t\\tgoogle_ad_region = 'expat';\\r\\n\\t\\t\\t\\tgoogle_alternate_ad_url = '';\\r\\n\\t\\t\\t\\tgoogle_alternate_color = 'FDFDFD';\\r\\n\\t\\t\\t\\tgoogle_color_border = 'FDFDFD';\\r\\n\\t\\t\\t\\tgoogle_color_bg = 'FDFDFD';\\r\\n\\t\\t\\t\\tgoogle_color_link = '0000CC';\\r\\n\\t\\t\\t\\tgoogle_color_text = '000000';\\r\\n\\t\\t\\t\\tgoogle_color_url = '006633';\\r\\n\\t\\t\\t\\t\\n\\n\\r\\n\\t\\t\\t\\t\\tgoogle_ad_client = 'pub-9810807221749687';\\r\\n\\t\\t\\t\\t\\tgoogle_ad_width = 336;\\r\\n\\t\\t\\t\\t\\tgoogle_ad_height = 280;\\r\\n\\t\\t\\t\\t\\tgoogle_ad_format = '336x280_as';\\r\\n\\t\\t\\t\\t\\tgoogle_ad_type = 'image';\\r\\n\\t\\t\\t\\t\\tgoogle_ad_channel = '1478637488+9994336801+8011175577';\\r\\n\\t\\t\\t\\t\\tgoogle_ad_region = 'expat';\\r\\n\\t\\t\\t\\t\\tgoogle_alternate_ad_url = '';\\r\\n\\t\\t\\t\\t\\tgoogle_alternate_color = 'FDFDFD';\\r\\n\\t\\t\\t\\t\\tgoogle_color_border = 'FDFDFD';\\r\\n\\t\\t\\t\\t\\tgoogle_color_bg = 'FDFDFD';\\r\\n\\t\\t\\t\\t\\tgoogle_color_link = '0000CC';\\r\\n\\t\\t\\t\\t\\tgoogle_color_text = '000000';\\r\\n\\t\\t\\t\\t\\tgoogle_color_url = '006633';\\r\\n\\t\\t\\t\\t\\t\\n\\n\""
      ]
     },
     "execution_count": 150,
     "metadata": {},
     "output_type": "execute_result"
    }
   ],
   "source": [
    "context.text"
   ]
  },
  {
   "cell_type": "code",
   "execution_count": 151,
   "metadata": {
    "collapsed": true
   },
   "outputs": [],
   "source": [
    "content = re.findall(\"編輯\\s\\\\n\\\\n([\\w|\\r|\\n|！|～|？]+)\", context.text)"
   ]
  },
  {
   "cell_type": "code",
   "execution_count": 158,
   "metadata": {},
   "outputs": [
    {
     "data": {
      "text/plain": [
       "'上次不知道在哪邊介紹到京都的四季酒店,是在日本有800年歷史的庭園積翠園,裡面房外的景色非常清幽美麗一看非常喜歡～～,最近也有出國的打算,就上網找一下太平洋旅行社有一團是住在京都四季酒店兩晚真的是太心動了！,大家有人去住過的推嗎？,'"
      ]
     },
     "execution_count": 158,
     "metadata": {},
     "output_type": "execute_result"
    }
   ],
   "source": [
    "# 內文\n",
    "\",\".join(content[0].split(\"\\r\\n\"))"
   ]
  },
  {
   "cell_type": "code",
   "execution_count": 167,
   "metadata": {},
   "outputs": [
    {
     "name": "stdout",
     "output_type": "stream",
     "text": [
      "=====\n",
      " 本帖最後由 s09151617 於 2017-8-3 17:51 PM 編輯 \n",
      "\n",
      "上次不知道在哪邊介紹到京都的四季酒店\r\n",
      "是在日本有800年歷史的庭園積翠園\r\n",
      "裡面房外的景色非常清幽美麗一看非常喜歡～～\r\n",
      "最近也有出國的打算\r\n",
      "就上網找一下太平洋旅行社有一團是住在京都四季酒店兩晚真的是太心動了！\r\n",
      "大家有人去住過的推嗎？\r\n",
      "\t\t\t\tgoogle_ad_client = 'pub-9810807221749687';\r\n",
      "\t\t\t\tgoogle_ad_width = 336;\r\n",
      "\t\t\t\tgoogle_ad_height = 280;\r\n",
      "\t\t\t\tgoogle_ad_format = '336x280_as';\r\n",
      "\t\t\t\tgoogle_ad_type = 'image';\r\n",
      "\t\t\t\tgoogle_ad_channel = '1478637488+9994336801+8011175577';\r\n",
      "\t\t\t\tgoogle_ad_region = 'expat';\r\n",
      "\t\t\t\tgoogle_alternate_ad_url = '';\r\n",
      "\t\t\t\tgoogle_alternate_color = 'FDFDFD';\r\n",
      "\t\t\t\tgoogle_color_border = 'FDFDFD';\r\n",
      "\t\t\t\tgoogle_color_bg = 'FDFDFD';\r\n",
      "\t\t\t\tgoogle_color_link = '0000CC';\r\n",
      "\t\t\t\tgoogle_color_text = '000000';\r\n",
      "\t\t\t\tgoogle_color_url = '006633';\r\n",
      "\t\t\t\t\n",
      "\n",
      "\r\n",
      "\t\t\t\t\tgoogle_ad_client = 'pub-9810807221749687';\r\n",
      "\t\t\t\t\tgoogle_ad_width = 336;\r\n",
      "\t\t\t\t\tgoogle_ad_height = 280;\r\n",
      "\t\t\t\t\tgoogle_ad_format = '336x280_as';\r\n",
      "\t\t\t\t\tgoogle_ad_type = 'image';\r\n",
      "\t\t\t\t\tgoogle_ad_channel = '1478637488+9994336801+8011175577';\r\n",
      "\t\t\t\t\tgoogle_ad_region = 'expat';\r\n",
      "\t\t\t\t\tgoogle_alternate_ad_url = '';\r\n",
      "\t\t\t\t\tgoogle_alternate_color = 'FDFDFD';\r\n",
      "\t\t\t\t\tgoogle_color_border = 'FDFDFD';\r\n",
      "\t\t\t\t\tgoogle_color_bg = 'FDFDFD';\r\n",
      "\t\t\t\t\tgoogle_color_link = '0000CC';\r\n",
      "\t\t\t\t\tgoogle_color_text = '000000';\r\n",
      "\t\t\t\t\tgoogle_color_url = '006633';\r\n",
      "\t\t\t\t\t\n",
      "\n",
      "\n",
      "=====\n",
      "沒住過 \n",
      "\r\n",
      "看起來是蠻不錯的 \n",
      "\r\n",
      "吃好住好 \n",
      "\r\n",
      "是個舒適的行程！\n",
      "=====\n",
      "聽說京都四季酒店是個還蠻有特色的飯店 \r\n",
      "如果剛好有想去日本的話，感覺可以去那裡住一下 XD\r\n",
      "剛好有成團的話感覺就可以跟一下\r\n",
      "跟團就比較不用自己安排行程XD\n",
      "=====\n",
      "四季酒店的品質當然是無庸置疑\r\n",
      "但是要小心\r\n",
      "旅行社有沒有加一句\" 或同級\"\r\n",
      "一定要住付錢前要旅行社把這句刪掉並蓋章\n",
      "\n",
      "\n",
      "=====\n",
      "在北海道滑雪也有住過一家四季酒店 非常高級，如果是同一家那就很值得著耶\r\n",
      "\t\t\t\tgoogle_ad_client = 'pub-9810807221749687';\r\n",
      "\t\t\t\tgoogle_ad_width = 728;\r\n",
      "\t\t\t\tgoogle_ad_height = 90;\r\n",
      "\t\t\t\tgoogle_ad_format = '728x90_as';\r\n",
      "\t\t\t\tgoogle_ad_type = '';\r\n",
      "\t\t\t\tgoogle_ad_channel = '5293438802+9994336801+8011175577';\r\n",
      "\t\t\t\tgoogle_ad_region = 'expat';\r\n",
      "\t\t\t\tgoogle_alternate_ad_url = '';\r\n",
      "\t\t\t\tgoogle_alternate_color = 'FDFDFD';\r\n",
      "\t\t\t\tgoogle_color_border = 'FDFDFD';\r\n",
      "\t\t\t\tgoogle_color_bg = 'FDFDFD';\r\n",
      "\t\t\t\tgoogle_color_link = '0000CC';\r\n",
      "\t\t\t\tgoogle_color_text = '000000';\r\n",
      "\t\t\t\tgoogle_color_url = '006633';\r\n",
      "\t\t\t\t\n",
      "\n",
      "\n",
      "=====\n",
      "看了都想去住了....稍微看一下太平洋的網站旅費也沒貴的誇張，有點心動了....\n",
      "=====\n",
      "網上查過，好像也不是太貴，感覺不錯，希望有機會可以去住一下\n",
      "=====\n",
      "感覺超美的～我也想去體驗ㄧ下！\r\n",
      "可以去問一下太平洋～\r\n",
      "上次問其他行程他們家的業務超熱心的\n",
      "=====\n",
      "四季酒店感覺很不錯耶\r\n",
      "跟團可以住兩晚真的很吸引人\n"
     ]
    }
   ],
   "source": [
    "for i in in_soup.select(\"div.pcb\"):\n",
    "    print(\"=====\")\n",
    "    print(i.text)"
   ]
  },
  {
   "cell_type": "code",
   "execution_count": 12,
   "metadata": {
    "scrolled": true
   },
   "outputs": [
    {
     "ename": "NameError",
     "evalue": "name 'in_soup' is not defined",
     "output_type": "error",
     "traceback": [
      "\u001b[1;31m---------------------------------------------------------------------------\u001b[0m",
      "\u001b[1;31mNameError\u001b[0m                                 Traceback (most recent call last)",
      "\u001b[1;32m<ipython-input-12-8d059c1cb456>\u001b[0m in \u001b[0;36m<module>\u001b[1;34m()\u001b[0m\n\u001b[1;32m----> 1\u001b[1;33m \u001b[0min_soup\u001b[0m\u001b[1;33m.\u001b[0m\u001b[0mselect\u001b[0m\u001b[1;33m(\u001b[0m\u001b[1;34m\"div.pcb\"\u001b[0m\u001b[1;33m)\u001b[0m\u001b[1;33m[\u001b[0m\u001b[1;36m0\u001b[0m\u001b[1;33m]\u001b[0m\u001b[1;33m\u001b[0m\u001b[0m\n\u001b[0m",
      "\u001b[1;31mNameError\u001b[0m: name 'in_soup' is not defined"
     ]
    }
   ],
   "source": [
    "in_soup.select(\"div.pcb\")[0]"
   ]
  },
  {
   "cell_type": "code",
   "execution_count": 11,
   "metadata": {},
   "outputs": [
    {
     "ename": "AttributeError",
     "evalue": "module 're' has no attribute 'RegexObject'",
     "output_type": "error",
     "traceback": [
      "\u001b[1;31m---------------------------------------------------------------------------\u001b[0m",
      "\u001b[1;31mAttributeError\u001b[0m                            Traceback (most recent call last)",
      "\u001b[1;32m<ipython-input-11-3a92fc89b893>\u001b[0m in \u001b[0;36m<module>\u001b[1;34m()\u001b[0m\n\u001b[1;32m----> 1\u001b[1;33m \u001b[0mre\u001b[0m\u001b[1;33m.\u001b[0m\u001b[0mRegexObject\u001b[0m\u001b[1;33m(\u001b[0m\u001b[1;33m)\u001b[0m\u001b[1;33m\u001b[0m\u001b[0m\n\u001b[0m",
      "\u001b[1;31mAttributeError\u001b[0m: module 're' has no attribute 'RegexObject'"
     ]
    }
   ],
   "source": [
    "re.RegexObject"
   ]
  }
 ],
 "metadata": {
  "kernelspec": {
   "display_name": "Python 3",
   "language": "python",
   "name": "python3"
  },
  "language_info": {
   "codemirror_mode": {
    "name": "ipython",
    "version": 3
   },
   "file_extension": ".py",
   "mimetype": "text/x-python",
   "name": "python",
   "nbconvert_exporter": "python",
   "pygments_lexer": "ipython3",
   "version": "3.6.1"
  }
 },
 "nbformat": 4,
 "nbformat_minor": 2
}
